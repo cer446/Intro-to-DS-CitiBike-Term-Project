{
 "cells": [
  {
   "cell_type": "markdown",
   "metadata": {},
   "source": [
    "# Citibike trip data analysis\n",
    "\n",
    "Let's look at one of the datasets from [CitiBike trip data](https://s3.amazonaws.com/tripdata/index.html), that lists individual bike trips for a given month.\n",
    "\n",
    "To follow along, download [the September 2016](https://s3.amazonaws.com/tripdata/201609-citibike-tripdata.zip) data, unzip it, and place it in the same directory as this notebook.\n",
    "\n",
    "## Background\n",
    "\n",
    "Citi Bike publishes two data sources: a live feed and a monthly trip report.\n",
    "\n",
    "### Live Feed\n",
    "\n",
    "The live feed is a list of bike stations, the # of bikes available and # of spots available. We poll it every five minutes.\n",
    "\n",
    "### Monthly Report\n",
    "\n",
    "A list of bike trips. Each trip has a start time, end time, start station, end station, and metadata about a user. This doc is about the monthly report."
   ]
  },
  {
   "cell_type": "code",
   "execution_count": 1,
   "metadata": {
    "collapsed": false
   },
   "outputs": [
    {
     "data": {
      "text/html": [
       "<div>\n",
       "<table border=\"1\" class=\"dataframe\">\n",
       "  <thead>\n",
       "    <tr style=\"text-align: right;\">\n",
       "      <th></th>\n",
       "      <th>tripduration</th>\n",
       "      <th>starttime</th>\n",
       "      <th>stoptime</th>\n",
       "      <th>start station id</th>\n",
       "      <th>start station name</th>\n",
       "      <th>start station latitude</th>\n",
       "      <th>start station longitude</th>\n",
       "      <th>end station id</th>\n",
       "      <th>end station name</th>\n",
       "      <th>end station latitude</th>\n",
       "      <th>end station longitude</th>\n",
       "      <th>bikeid</th>\n",
       "      <th>usertype</th>\n",
       "      <th>birth year</th>\n",
       "      <th>gender</th>\n",
       "    </tr>\n",
       "  </thead>\n",
       "  <tbody>\n",
       "    <tr>\n",
       "      <th>0</th>\n",
       "      <td>975</td>\n",
       "      <td>9/1/2016 00:00:02</td>\n",
       "      <td>9/1/2016 00:16:18</td>\n",
       "      <td>312</td>\n",
       "      <td>Allen St &amp; Stanton St</td>\n",
       "      <td>40.722055</td>\n",
       "      <td>-73.989111</td>\n",
       "      <td>313</td>\n",
       "      <td>Washington Ave &amp; Park Ave</td>\n",
       "      <td>40.696102</td>\n",
       "      <td>-73.967510</td>\n",
       "      <td>22609</td>\n",
       "      <td>Subscriber</td>\n",
       "      <td>1985.0</td>\n",
       "      <td>1</td>\n",
       "    </tr>\n",
       "    <tr>\n",
       "      <th>1</th>\n",
       "      <td>1220</td>\n",
       "      <td>9/1/2016 00:00:04</td>\n",
       "      <td>9/1/2016 00:20:25</td>\n",
       "      <td>316</td>\n",
       "      <td>Fulton St &amp; William St</td>\n",
       "      <td>40.709560</td>\n",
       "      <td>-74.006536</td>\n",
       "      <td>239</td>\n",
       "      <td>Willoughby St &amp; Fleet St</td>\n",
       "      <td>40.691966</td>\n",
       "      <td>-73.981302</td>\n",
       "      <td>16966</td>\n",
       "      <td>Subscriber</td>\n",
       "      <td>1977.0</td>\n",
       "      <td>2</td>\n",
       "    </tr>\n",
       "    <tr>\n",
       "      <th>2</th>\n",
       "      <td>308</td>\n",
       "      <td>9/1/2016 00:00:19</td>\n",
       "      <td>9/1/2016 00:05:27</td>\n",
       "      <td>479</td>\n",
       "      <td>9 Ave &amp; W 45 St</td>\n",
       "      <td>40.760193</td>\n",
       "      <td>-73.991255</td>\n",
       "      <td>448</td>\n",
       "      <td>W 37 St &amp; 10 Ave</td>\n",
       "      <td>40.756604</td>\n",
       "      <td>-73.997901</td>\n",
       "      <td>25601</td>\n",
       "      <td>Subscriber</td>\n",
       "      <td>1983.0</td>\n",
       "      <td>1</td>\n",
       "    </tr>\n",
       "  </tbody>\n",
       "</table>\n",
       "</div>"
      ],
      "text/plain": [
       "   tripduration          starttime           stoptime  start station id  \\\n",
       "0           975  9/1/2016 00:00:02  9/1/2016 00:16:18               312   \n",
       "1          1220  9/1/2016 00:00:04  9/1/2016 00:20:25               316   \n",
       "2           308  9/1/2016 00:00:19  9/1/2016 00:05:27               479   \n",
       "\n",
       "       start station name  start station latitude  start station longitude  \\\n",
       "0   Allen St & Stanton St               40.722055               -73.989111   \n",
       "1  Fulton St & William St               40.709560               -74.006536   \n",
       "2         9 Ave & W 45 St               40.760193               -73.991255   \n",
       "\n",
       "   end station id           end station name  end station latitude  \\\n",
       "0             313  Washington Ave & Park Ave             40.696102   \n",
       "1             239   Willoughby St & Fleet St             40.691966   \n",
       "2             448           W 37 St & 10 Ave             40.756604   \n",
       "\n",
       "   end station longitude  bikeid    usertype  birth year  gender  \n",
       "0             -73.967510   22609  Subscriber      1985.0       1  \n",
       "1             -73.981302   16966  Subscriber      1977.0       2  \n",
       "2             -73.997901   25601  Subscriber      1983.0       1  "
      ]
     },
     "execution_count": 1,
     "metadata": {},
     "output_type": "execute_result"
    }
   ],
   "source": [
    "import pandas as pd\n",
    "import matplotlib.pyplot as plt\n",
    "fname = '201609-citibike-tripdata.zip'\n",
    "\n",
    "frame = pd.read_csv(fname)\n",
    "\n",
    "frame[:3]"
   ]
  },
  {
   "cell_type": "code",
   "execution_count": 8,
   "metadata": {
    "collapsed": false
   },
   "outputs": [
    {
     "data": {
      "text/html": [
       "<div>\n",
       "<table border=\"1\" class=\"dataframe\">\n",
       "  <thead>\n",
       "    <tr style=\"text-align: right;\">\n",
       "      <th></th>\n",
       "      <th>start station name</th>\n",
       "      <th>start station latitude</th>\n",
       "      <th>start station longitude</th>\n",
       "    </tr>\n",
       "    <tr>\n",
       "      <th>start station id</th>\n",
       "      <th></th>\n",
       "      <th></th>\n",
       "      <th></th>\n",
       "    </tr>\n",
       "  </thead>\n",
       "  <tbody>\n",
       "    <tr>\n",
       "      <th>72</th>\n",
       "      <td>W 52 St &amp; 11 Ave</td>\n",
       "      <td>40.767272</td>\n",
       "      <td>-73.993929</td>\n",
       "    </tr>\n",
       "    <tr>\n",
       "      <th>79</th>\n",
       "      <td>Franklin St &amp; W Broadway</td>\n",
       "      <td>40.719116</td>\n",
       "      <td>-74.006667</td>\n",
       "    </tr>\n",
       "    <tr>\n",
       "      <th>82</th>\n",
       "      <td>St James Pl &amp; Pearl St</td>\n",
       "      <td>40.711174</td>\n",
       "      <td>-74.000165</td>\n",
       "    </tr>\n",
       "  </tbody>\n",
       "</table>\n",
       "</div>"
      ],
      "text/plain": [
       "                        start station name  start station latitude  \\\n",
       "start station id                                                     \n",
       "72                        W 52 St & 11 Ave               40.767272   \n",
       "79                Franklin St & W Broadway               40.719116   \n",
       "82                  St James Pl & Pearl St               40.711174   \n",
       "\n",
       "                  start station longitude  \n",
       "start station id                           \n",
       "72                             -73.993929  \n",
       "79                             -74.006667  \n",
       "82                             -74.000165  "
      ]
     },
     "execution_count": 8,
     "metadata": {},
     "output_type": "execute_result"
    }
   ],
   "source": [
    "station_names = frame.groupby('start station id').max()[\n",
    "        ['start station name',\n",
    "        'start station latitude',\n",
    "        'start station longitude']]\n",
    "station_names[:3]"
   ]
  },
  {
   "cell_type": "markdown",
   "metadata": {},
   "source": [
    "## Single Station\n",
    "\n",
    "Let's look at a single station and find out the departure and arrival times."
   ]
  },
  {
   "cell_type": "code",
   "execution_count": 25,
   "metadata": {
    "collapsed": false
   },
   "outputs": [
    {
     "name": "stdout",
     "output_type": "stream",
     "text": [
      "519\n",
      "3236\n",
      "start station name         Pershing Square North\n",
      "start station latitude                   40.7519\n",
      "start station longitude                 -73.9777\n",
      "Name: 519, dtype: object\n",
      "start station name         W 42 St & Dyer Ave\n",
      "start station latitude                 40.759\n",
      "start station longitude              -73.9938\n",
      "Name: 3236, dtype: object\n"
     ]
    }
   ],
   "source": [
    "for name, group in frame[:10000].groupby('start station id'):\n",
    "    if len(group) < 100:\n",
    "        continue\n",
    "    print (name)\n",
    "    \n",
    "# These are the busy stations.\n",
    "print(station_names.loc[519]) # Grand Central\n",
    "print(station_names.loc[3236]) # Times Square"
   ]
  },
  {
   "cell_type": "code",
   "execution_count": 63,
   "metadata": {
    "collapsed": false
   },
   "outputs": [
    {
     "name": "stdout",
     "output_type": "stream",
     "text": [
      "32771\n"
     ]
    },
    {
     "data": {
      "text/html": [
       "<div>\n",
       "<table border=\"1\" class=\"dataframe\">\n",
       "  <thead>\n",
       "    <tr style=\"text-align: right;\">\n",
       "      <th></th>\n",
       "      <th>type</th>\n",
       "      <th>ts</th>\n",
       "      <th>cumulative</th>\n",
       "      <th>date</th>\n",
       "      <th>tdiff</th>\n",
       "    </tr>\n",
       "  </thead>\n",
       "  <tbody>\n",
       "    <tr>\n",
       "      <th>7</th>\n",
       "      <td>-1</td>\n",
       "      <td>2016-09-01 00:00:48</td>\n",
       "      <td>-1</td>\n",
       "      <td>9/1/2016</td>\n",
       "      <td>NaT</td>\n",
       "    </tr>\n",
       "    <tr>\n",
       "      <th>14</th>\n",
       "      <td>-1</td>\n",
       "      <td>2016-09-01 00:00:59</td>\n",
       "      <td>-2</td>\n",
       "      <td>9/1/2016</td>\n",
       "      <td>00:00:11</td>\n",
       "    </tr>\n",
       "    <tr>\n",
       "      <th>26</th>\n",
       "      <td>1</td>\n",
       "      <td>2016-09-01 00:09:56</td>\n",
       "      <td>-1</td>\n",
       "      <td>9/1/2016</td>\n",
       "      <td>00:08:57</td>\n",
       "    </tr>\n",
       "    <tr>\n",
       "      <th>37</th>\n",
       "      <td>1</td>\n",
       "      <td>2016-09-01 00:13:47</td>\n",
       "      <td>0</td>\n",
       "      <td>9/1/2016</td>\n",
       "      <td>00:03:51</td>\n",
       "    </tr>\n",
       "    <tr>\n",
       "      <th>174</th>\n",
       "      <td>-1</td>\n",
       "      <td>2016-09-01 00:17:08</td>\n",
       "      <td>-1</td>\n",
       "      <td>9/1/2016</td>\n",
       "      <td>00:03:21</td>\n",
       "    </tr>\n",
       "    <tr>\n",
       "      <th>202</th>\n",
       "      <td>-1</td>\n",
       "      <td>2016-09-01 00:20:13</td>\n",
       "      <td>-2</td>\n",
       "      <td>9/1/2016</td>\n",
       "      <td>00:03:05</td>\n",
       "    </tr>\n",
       "    <tr>\n",
       "      <th>100</th>\n",
       "      <td>1</td>\n",
       "      <td>2016-09-01 00:20:55</td>\n",
       "      <td>-1</td>\n",
       "      <td>9/1/2016</td>\n",
       "      <td>00:00:42</td>\n",
       "    </tr>\n",
       "    <tr>\n",
       "      <th>216</th>\n",
       "      <td>-1</td>\n",
       "      <td>2016-09-01 00:21:19</td>\n",
       "      <td>-2</td>\n",
       "      <td>9/1/2016</td>\n",
       "      <td>00:00:24</td>\n",
       "    </tr>\n",
       "    <tr>\n",
       "      <th>613</th>\n",
       "      <td>-1</td>\n",
       "      <td>2016-09-01 02:00:27</td>\n",
       "      <td>-3</td>\n",
       "      <td>9/1/2016</td>\n",
       "      <td>01:39:08</td>\n",
       "    </tr>\n",
       "    <tr>\n",
       "      <th>776</th>\n",
       "      <td>-1</td>\n",
       "      <td>2016-09-01 04:02:13</td>\n",
       "      <td>-4</td>\n",
       "      <td>9/1/2016</td>\n",
       "      <td>02:01:46</td>\n",
       "    </tr>\n",
       "  </tbody>\n",
       "</table>\n",
       "</div>"
      ],
      "text/plain": [
       "     type                  ts  cumulative      date    tdiff\n",
       "7      -1 2016-09-01 00:00:48          -1  9/1/2016      NaT\n",
       "14     -1 2016-09-01 00:00:59          -2  9/1/2016 00:00:11\n",
       "26      1 2016-09-01 00:09:56          -1  9/1/2016 00:08:57\n",
       "37      1 2016-09-01 00:13:47           0  9/1/2016 00:03:51\n",
       "174    -1 2016-09-01 00:17:08          -1  9/1/2016 00:03:21\n",
       "202    -1 2016-09-01 00:20:13          -2  9/1/2016 00:03:05\n",
       "100     1 2016-09-01 00:20:55          -1  9/1/2016 00:00:42\n",
       "216    -1 2016-09-01 00:21:19          -2  9/1/2016 00:00:24\n",
       "613    -1 2016-09-01 02:00:27          -3  9/1/2016 01:39:08\n",
       "776    -1 2016-09-01 04:02:13          -4  9/1/2016 02:01:46"
      ]
     },
     "execution_count": 63,
     "metadata": {},
     "output_type": "execute_result"
    }
   ],
   "source": [
    "def get_event_frame(station_id):\n",
    "    _start = pd.DataFrame(frame[frame['start station id'] == station_id][['starttime']])\n",
    "    _start.columns = ['time']\n",
    "    _start['type'] = -1\n",
    "    _end = pd.DataFrame(frame[frame['end station id'] == station_id]['stoptime'])\n",
    "    _end.columns = ['time']\n",
    "    _end['type'] = 1\n",
    "\n",
    "    events = pd.concat([_start, _end])\n",
    "    events['ts'] = pd.to_datetime(events['time'], infer_datetime_format=True)\n",
    "    events = events.sort_values(by='ts')\n",
    "    events['cumulative'] = events['type'].cumsum()\n",
    "    events['date'] = events['time'].str[:len('1/1/1000')]\n",
    "    events['tdiff'] = events['ts'].diff()\n",
    "    events.drop('time', axis=1, inplace=True)\n",
    "\n",
    "    return events\n",
    "\n",
    "ps_north = get_event_frame(519)\n",
    "print(len(ps_north))\n",
    "\n",
    "ps_north[:10]"
   ]
  },
  {
   "cell_type": "markdown",
   "metadata": {},
   "source": [
    "Now we have a dataframe of bike arrivals and departures from the station \"Pershing Square North\" (outside Grand Central). Columns:\n",
    "* `type`: 1 is an arrival (1 more bike in the station), and -1 is departure\n",
    "* `ts`: Timestamp of event\n",
    "* `cumulative`: Net station state after all rows so far (e.g. -4 = station has 4 fewer bikes than start of dataset)\n",
    "* `date`: Date of event as a string\n",
    "* `tdiff`: Time between this event and the previous one\n",
    "\n",
    "Let's plot some charts:"
   ]
  },
  {
   "cell_type": "code",
   "execution_count": 77,
   "metadata": {
    "collapsed": false
   },
   "outputs": [
    {
     "data": {
      "image/png": "[encoded data removed]",
      "text/plain": [
       "<matplotlib.figure.Figure at 0x7fe0b727c9e8>"
      ]
     },
     "metadata": {},
     "output_type": "display_data"
    },
    {
     "name": "stdout",
     "output_type": "stream",
     "text": [
      "Proportion of <1m intervals: 0.7422337503814465\n"
     ]
    }
   ],
   "source": [
    "# time deltas rounded down to the nearest minute\n",
    "import numpy as np\n",
    "deltas = [td.total_seconds() // 60 for td in ps_north['tdiff'][1:]]\n",
    "d10 = [td for td in deltas if td < 10]\n",
    "\n",
    "plt.figure()\n",
    "plt.title('Grand Central - Pershing Square North')\n",
    "plt.hist(d10)\n",
    "plt.show()\n",
    "\n",
    "dzero = list(filter(lambda x: x == 0, deltas))\n",
    "\n",
    "print('Proportion of <1m intervals:', len(dzero) / len(deltas))"
   ]
  },
  {
   "cell_type": "markdown",
   "metadata": {},
   "source": [
    "So the Grand Central station is very busy, with three quarters of bike events happening within a minute of each other. That means our 5-minute polling interval doesn't have enough resolution for the busiest stations. On the other hand, polling every 10 seconds is also unrealistic.\n",
    "\n",
    "Let's try other stations."
   ]
  },
  {
   "cell_type": "code",
   "execution_count": 73,
   "metadata": {
    "collapsed": true
   },
   "outputs": [],
   "source": [
    "def get_10m_histogram(events, title):\n",
    "    \"\"\"Gets inter-arrival histogram values for 0 to 10 minutes.\"\"\"\n",
    "    in_minutes = [td.total_seconds() // 60 for td in events['tdiff'][1:]]\n",
    "    d10 = [td for td in in_minutes if td < 10]\n",
    "\n",
    "    plt.figure()\n",
    "    plt.hist(d10)\n",
    "    plt.title(title)\n",
    "    plt.show()\n",
    "\n",
    "    dzero = list(filter(lambda x: x == 0, in_minutes))\n",
    "    dfive = list(filter(lambda x: x < 5, in_minutes))\n",
    "    print('Proportion of <1m intervals:', len(dzero) / len(in_minutes))\n",
    "    print('Proportion of <5m intervals:', len(dfive) / len(in_minutes))\n",
    "    print('Proportion of <10m intervals:', len(d10) / len(in_minutes))\n",
    "\n",
    "qp_north = get_event_frame(3129) # Queens Plaza North\n",
    "high_line = get_event_frame(225) # W 14 St and High Line\n",
    "nyu_bike = get_event_frame(335) # Washington Pl and Broadway"
   ]
  },
  {
   "cell_type": "code",
   "execution_count": 74,
   "metadata": {
    "collapsed": false
   },
   "outputs": [
    {
     "name": "stdout",
     "output_type": "stream",
     "text": [
      "4568\n"
     ]
    },
    {
     "data": {
      "image/png": "[encoded data removed]",
      "text/plain": [
       "<matplotlib.figure.Figure at 0x7fe0b9dbb2b0>"
      ]
     },
     "metadata": {},
     "output_type": "display_data"
    },
    {
     "name": "stdout",
     "output_type": "stream",
     "text": [
      "Proportion of <1m intervals: 0.24742719509524852\n",
      "Proportion of <5m intervals: 0.5907597985548501\n",
      "Proportion of <10m intervals: 0.7633019487628641\n"
     ]
    }
   ],
   "source": [
    "print(len(qp_north))\n",
    "get_10m_histogram(qp_north, 'Queens Plaza North')"
   ]
  },
  {
   "cell_type": "code",
   "execution_count": 75,
   "metadata": {
    "collapsed": false
   },
   "outputs": [
    {
     "data": {
      "image/png": "[encoded data removed]",
      "text/plain": [
       "<matplotlib.figure.Figure at 0x7fe0b72fd2e8>"
      ]
     },
     "metadata": {},
     "output_type": "display_data"
    },
    {
     "name": "stdout",
     "output_type": "stream",
     "text": [
      "Proportion of <1m intervals: 0.4389686684073107\n",
      "Proportion of <5m intervals: 0.8098346388163621\n",
      "Proportion of <10m intervals: 0.9137293298520452\n"
     ]
    }
   ],
   "source": [
    "get_10m_histogram(high_line, 'W 14th St and High Line')"
   ]
  },
  {
   "cell_type": "code",
   "execution_count": 76,
   "metadata": {
    "collapsed": false
   },
   "outputs": [
    {
     "data": {
      "image/png": "[encoded data removed]",
      "text/plain": [
       "<matplotlib.figure.Figure at 0x7fe0b72dc898>"
      ]
     },
     "metadata": {},
     "output_type": "display_data"
    },
    {
     "name": "stdout",
     "output_type": "stream",
     "text": [
      "Proportion of <1m intervals: 0.40321021079094954\n",
      "Proportion of <5m intervals: 0.8399729259330884\n",
      "Proportion of <10m intervals: 0.9354090117965578\n"
     ]
    }
   ],
   "source": [
    "get_10m_histogram(nyu_bike, 'Washington Pl and Broadway')"
   ]
  },
  {
   "cell_type": "markdown",
   "metadata": {},
   "source": [
    "## Conclusions\n",
    "\n",
    "1. If we're just looking at station status (# bikes/spots available) every five minutes, the polling resolution is probably too low.\n",
    "1. Increasing polling resolution isn't really practical\n",
    "1. This dataset seems useful to get the level of activity of a station at a given time interval\n",
    "\n",
    "-cipta"
   ]
  },
  {
   "cell_type": "code",
   "execution_count": null,
   "metadata": {
    "collapsed": true
   },
   "outputs": [],
   "source": []
  }
 ],
 "metadata": {
  "anaconda-cloud": {},
  "kernelspec": {
   "display_name": "Python [tensorflow]",
   "language": "python",
   "name": "Python [tensorflow]"
  },
  "language_info": {
   "codemirror_mode": {
    "name": "ipython",
    "version": 3
   },
   "file_extension": ".py",
   "mimetype": "text/x-python",
   "name": "python",
   "nbconvert_exporter": "python",
   "pygments_lexer": "ipython3",
   "version": "3.5.2"
  }
 },
 "nbformat": 4,
 "nbformat_minor": 0
}
