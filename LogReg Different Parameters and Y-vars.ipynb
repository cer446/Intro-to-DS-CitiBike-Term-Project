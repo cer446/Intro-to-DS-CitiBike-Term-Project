{
 "cells": [
  {
   "cell_type": "code",
   "execution_count": 1,
   "metadata": {
    "collapsed": false
   },
   "outputs": [],
   "source": [
    "# Load data\n",
    "import json\n",
    "import numpy as np\n",
    "import pandas as pd\n",
    "import matplotlib.pyplot as plt\n",
    "import sklearn.preprocessing\n",
    "from sklearn.linear_model import LogisticRegression\n",
    "import project_env\n",
    "from imp import reload\n",
    "import math\n",
    "import os\n",
    "import run_logreg\n",
    "\n",
    "reload(project_env)\n",
    "\n",
    "%matplotlib inline"
   ]
  },
  {
   "cell_type": "code",
   "execution_count": 2,
   "metadata": {
    "collapsed": false,
    "scrolled": true
   },
   "outputs": [
    {
     "data": {
      "text/html": [
       "<div>\n",
       "<table border=\"1\" class=\"dataframe\">\n",
       "  <thead>\n",
       "    <tr style=\"text-align: right;\">\n",
       "      <th></th>\n",
       "      <th>stAddress1</th>\n",
       "      <th>postalCode</th>\n",
       "      <th>altitude</th>\n",
       "      <th>landMark</th>\n",
       "      <th>city</th>\n",
       "      <th>location</th>\n",
       "      <th>longitude</th>\n",
       "      <th>testStation</th>\n",
       "      <th>stationName</th>\n",
       "      <th>latitude</th>\n",
       "      <th>statusKey</th>\n",
       "      <th>totalDocks</th>\n",
       "      <th>statusValue</th>\n",
       "      <th>availableDocks</th>\n",
       "      <th>lastCommunicationTime</th>\n",
       "      <th>stAddress2</th>\n",
       "      <th>availableBikes</th>\n",
       "    </tr>\n",
       "    <tr>\n",
       "      <th>id</th>\n",
       "      <th></th>\n",
       "      <th></th>\n",
       "      <th></th>\n",
       "      <th></th>\n",
       "      <th></th>\n",
       "      <th></th>\n",
       "      <th></th>\n",
       "      <th></th>\n",
       "      <th></th>\n",
       "      <th></th>\n",
       "      <th></th>\n",
       "      <th></th>\n",
       "      <th></th>\n",
       "      <th></th>\n",
       "      <th></th>\n",
       "      <th></th>\n",
       "      <th></th>\n",
       "    </tr>\n",
       "  </thead>\n",
       "  <tbody>\n",
       "    <tr>\n",
       "      <th>128</th>\n",
       "      <td>MacDougal St &amp; Prince St</td>\n",
       "      <td></td>\n",
       "      <td></td>\n",
       "      <td></td>\n",
       "      <td></td>\n",
       "      <td></td>\n",
       "      <td>-74.003</td>\n",
       "      <td>False</td>\n",
       "      <td>MacDougal St &amp; Prince St</td>\n",
       "      <td>40.7271</td>\n",
       "      <td>1</td>\n",
       "      <td>30</td>\n",
       "      <td>In Service</td>\n",
       "      <td>27</td>\n",
       "      <td>2016-12-03 12:51:57 PM</td>\n",
       "      <td></td>\n",
       "      <td>3</td>\n",
       "    </tr>\n",
       "    <tr>\n",
       "      <th>151</th>\n",
       "      <td>Cleveland Pl &amp; Spring St</td>\n",
       "      <td></td>\n",
       "      <td></td>\n",
       "      <td></td>\n",
       "      <td></td>\n",
       "      <td></td>\n",
       "      <td>-73.9972</td>\n",
       "      <td>False</td>\n",
       "      <td>Cleveland Pl &amp; Spring St</td>\n",
       "      <td>40.7221</td>\n",
       "      <td>1</td>\n",
       "      <td>33</td>\n",
       "      <td>In Service</td>\n",
       "      <td>7</td>\n",
       "      <td>2016-12-03 12:54:56 PM</td>\n",
       "      <td></td>\n",
       "      <td>26</td>\n",
       "    </tr>\n",
       "    <tr>\n",
       "      <th>161</th>\n",
       "      <td>LaGuardia Pl &amp; W 3 St</td>\n",
       "      <td></td>\n",
       "      <td></td>\n",
       "      <td></td>\n",
       "      <td></td>\n",
       "      <td></td>\n",
       "      <td>-73.9981</td>\n",
       "      <td>False</td>\n",
       "      <td>LaGuardia Pl &amp; W 3 St</td>\n",
       "      <td>40.7292</td>\n",
       "      <td>1</td>\n",
       "      <td>35</td>\n",
       "      <td>In Service</td>\n",
       "      <td>0</td>\n",
       "      <td>2016-12-03 12:51:54 PM</td>\n",
       "      <td></td>\n",
       "      <td>33</td>\n",
       "    </tr>\n",
       "    <tr>\n",
       "      <th>174</th>\n",
       "      <td>E 25 St &amp; 1 Ave</td>\n",
       "      <td></td>\n",
       "      <td></td>\n",
       "      <td></td>\n",
       "      <td></td>\n",
       "      <td></td>\n",
       "      <td>-73.9774</td>\n",
       "      <td>False</td>\n",
       "      <td>E 25 St &amp; 1 Ave</td>\n",
       "      <td>40.7382</td>\n",
       "      <td>1</td>\n",
       "      <td>30</td>\n",
       "      <td>In Service</td>\n",
       "      <td>25</td>\n",
       "      <td>2016-12-03 12:53:39 PM</td>\n",
       "      <td></td>\n",
       "      <td>3</td>\n",
       "    </tr>\n",
       "    <tr>\n",
       "      <th>229</th>\n",
       "      <td>Great Jones St</td>\n",
       "      <td></td>\n",
       "      <td></td>\n",
       "      <td></td>\n",
       "      <td></td>\n",
       "      <td></td>\n",
       "      <td>-73.9938</td>\n",
       "      <td>False</td>\n",
       "      <td>Great Jones St</td>\n",
       "      <td>40.7274</td>\n",
       "      <td>1</td>\n",
       "      <td>23</td>\n",
       "      <td>In Service</td>\n",
       "      <td>1</td>\n",
       "      <td>2016-12-03 12:53:21 PM</td>\n",
       "      <td></td>\n",
       "      <td>21</td>\n",
       "    </tr>\n",
       "  </tbody>\n",
       "</table>\n",
       "</div>"
      ],
      "text/plain": [
       "                   stAddress1 postalCode altitude landMark city location  \\\n",
       "id                                                                         \n",
       "128  MacDougal St & Prince St                                              \n",
       "151  Cleveland Pl & Spring St                                              \n",
       "161     LaGuardia Pl & W 3 St                                              \n",
       "174           E 25 St & 1 Ave                                              \n",
       "229            Great Jones St                                              \n",
       "\n",
       "    longitude testStation               stationName latitude statusKey  \\\n",
       "id                                                                       \n",
       "128   -74.003       False  MacDougal St & Prince St  40.7271         1   \n",
       "151  -73.9972       False  Cleveland Pl & Spring St  40.7221         1   \n",
       "161  -73.9981       False     LaGuardia Pl & W 3 St  40.7292         1   \n",
       "174  -73.9774       False           E 25 St & 1 Ave  40.7382         1   \n",
       "229  -73.9938       False            Great Jones St  40.7274         1   \n",
       "\n",
       "    totalDocks statusValue availableDocks   lastCommunicationTime stAddress2  \\\n",
       "id                                                                             \n",
       "128         30  In Service             27  2016-12-03 12:51:57 PM              \n",
       "151         33  In Service              7  2016-12-03 12:54:56 PM              \n",
       "161         35  In Service              0  2016-12-03 12:51:54 PM              \n",
       "174         30  In Service             25  2016-12-03 12:53:39 PM              \n",
       "229         23  In Service              1  2016-12-03 12:53:21 PM              \n",
       "\n",
       "    availableBikes  \n",
       "id                  \n",
       "128              3  \n",
       "151             26  \n",
       "161             33  \n",
       "174              3  \n",
       "229             21  "
      ]
     },
     "execution_count": 2,
     "metadata": {},
     "output_type": "execute_result"
    }
   ],
   "source": [
    "'''Loads and Processes Stations.Json file'''\n",
    "\n",
    "with open('stations.json') as data_file:    \n",
    "    data = json.load(data_file)\n",
    "stations = pd.read_json('stations.json', 'index').T\n",
    "stations_df = pd.DataFrame.from_dict(stations['stationBeanList'][0], orient = 'index').T\n",
    "for i in range(1, 664):\n",
    "    stations_df = pd.concat([stations_df, pd.DataFrame.from_dict(stations['stationBeanList'][i], orient = 'index').T])\n",
    "stations_df = stations_df.set_index('id')\n",
    "\n",
    "files = os.listdir('per_station_dev')\n",
    "\n",
    "station_ids = []\n",
    "for i in range(0, len(files)):\n",
    "    station_ids.append(int(files[i][0:len(files[i])- 4]))\n",
    "    \n",
    "stations_df = stations_df.loc[station_ids, :]\n",
    "\n",
    "stations_df.head()"
   ]
  },
  {
   "cell_type": "code",
   "execution_count": 3,
   "metadata": {
    "collapsed": true
   },
   "outputs": [],
   "source": [
    "import math\n",
    "\n",
    "def distance(station_a_id, station_b_id):\n",
    "    longitude_difference = stations_df.loc[station_a_id, 'longitude'] - stations_df.loc[station_b_id, 'longitude']\n",
    "    latitude_difference = stations_df.loc[station_a_id, 'latitude'] - stations_df.loc[station_b_id, 'latitude']\n",
    "    distance = math.sqrt(longitude_difference**2 + latitude_difference**2)\n",
    "    return distance"
   ]
  },
  {
   "cell_type": "code",
   "execution_count": 4,
   "metadata": {
    "collapsed": false
   },
   "outputs": [],
   "source": [
    "def closest_stations(station_a_id, num):\n",
    "    distances = pd.Series(data=None, index = stations_df.index)\n",
    "    for station_id in stations_df.index:\n",
    "        distances[station_id] = distance(station_a_id, station_id)\n",
    "    distances = distances.sort_values()\n",
    "    return distances.iloc[1:num+1]   "
   ]
  },
  {
   "cell_type": "code",
   "execution_count": 5,
   "metadata": {
    "collapsed": false
   },
   "outputs": [
    {
     "data": {
      "text/plain": [
       "id\n",
       "368    0.003384\n",
       "161    0.005289\n",
       "151    0.007598\n",
       "383    0.008572\n",
       "229    0.009187\n",
       "dtype: float64"
      ]
     },
     "execution_count": 5,
     "metadata": {},
     "output_type": "execute_result"
    }
   ],
   "source": [
    "closest_stations(128, 5)"
   ]
  },
  {
   "cell_type": "markdown",
   "metadata": {},
   "source": [
    "**The `project_env` package**\n",
    "\n",
    "I wrote this python package so loading and working with data is quicker and easier. There are several convenience methods:\n",
    "* `load_split_bucket(station_id)` - Load data for a bike station that's already pre-split into train, dev and test. Includes doing data cleaning and thresholding. The output is a dictionary:\n",
    "```\n",
    "  {\n",
    "    'train': (DataFrame, Series),\n",
    "    'dev': (DataFrame, Series),\n",
    "    'test': (DataFrame, Series)\n",
    "  }\n",
    "```\n",
    "  Each `(DataFrame, Series)` tuple is the feature values and target variables, respectively.\n",
    "* `merge_training(split, df)` - Given two outputs of `load()`, append the training set of the second argument to the training set of the first. This is useful when trying to load data from multiple stations, but testing on one station only.\n",
    "* `binarize(data, target)` - Given output of `load()` and either 1 or -1, binarize the target variable to 0 or 1. Whatever class is in the second argument will become '1' in the new data."
   ]
  },
  {
   "cell_type": "markdown",
   "metadata": {},
   "source": [
    "**The `run_logreg` package**\n",
    "\n",
    "We wrote this python package so running many logistic regression models with different parameters is cleaner and easier. Here are the methods included in the file:\n",
    "\n",
    "* `do_logreg` - Takes the result of split_data and performs a logistic regression given the input parameters. It takes a parameters called \"squares\" that will perform some basic feature engineering by squaring some of the variables, a penalty function (l1 or l2, defaults to l2), and a c parameter (defaults to 100,000)."
   ]
  },
  {
   "cell_type": "code",
   "execution_count": 6,
   "metadata": {
    "collapsed": false
   },
   "outputs": [
    {
     "name": "stdout",
     "output_type": "stream",
     "text": [
      "done loading\n"
     ]
    }
   ],
   "source": [
    "data = project_env.load_split_bucket(519, target='y_60m', log=False)\n",
    "print('done loading')"
   ]
  },
  {
   "cell_type": "code",
   "execution_count": 7,
   "metadata": {
    "collapsed": false
   },
   "outputs": [],
   "source": [
    "def read_more_data(station_id, target):\n",
    "    return project_env.load_split_bucket(station_id, target=target)\n",
    "\n",
    "def add_closest_stations(split_data, station_id, target, num_stations=10, empty=True):\n",
    "    '''takes split_data for one station and its station_id, splits, merges the closest stations' data and binarizes all'''\n",
    "    station_ids_to_concat = list(closest_stations(station_id, num_stations).index[0:num_stations])\n",
    "    station_ids_data = [read_more_data(sid, target) for sid in station_ids_to_concat]\n",
    "    appended_multiple = split_data\n",
    "    for df in station_ids_data:\n",
    "        appended_multiple = project_env.merge_training(appended_multiple, df)\n",
    "    binary = (empty==True)*-1 + (empty!=True)*1\n",
    "    appended_multiple = project_env.binarize(appended_multiple, binary)\n",
    "    return appended_multiple"
   ]
  },
  {
   "cell_type": "code",
   "execution_count": 24,
   "metadata": {
    "collapsed": true
   },
   "outputs": [],
   "source": [
    "def run_models(data, station_id, target, basic=True, append_one=True, append_multiple=False, squares=True, empty=True):\n",
    "    '''Create a function that creates a dictionary of models based on inputs'''\n",
    "    \n",
    "    if empty == True:\n",
    "        data_binarized = project_env.binarize(data, -1)\n",
    "    elif empty == False:\n",
    "        data_binarized = project_env.binarize(data, 1)\n",
    "    \n",
    "    keys = ['basic', 'append_one', 'append_multiple', 'squares']\n",
    "    parameters = [basic, append_one, append_multiple, squares]\n",
    "    keys_chosen = []\n",
    "    \n",
    "    for i in range(0, len(keys)):\n",
    "        if parameters[i] == True:\n",
    "            keys_chosen.append(keys[i])\n",
    "    \n",
    "    logregs = {}\n",
    "    scalers = {}\n",
    "    predictions = {}\n",
    "    \n",
    "    if 'basic' in keys_chosen:\n",
    "        logregs['basic'], scalers['basic'], predictions['basic'] = run_logreg.do_logreg(data_binarized, plot = False)\n",
    "    if 'append_one' in keys_chosen:\n",
    "        appended_one = add_closest_stations(data, station_id, target, num_stations=1, empty=empty)\n",
    "        logregs['append_one'], scalers['append_one'], predictions['append_one'] = run_logreg.do_logreg(appended_one, plot = False)\n",
    "    if 'append_multiple' in keys_chosen:\n",
    "        appended_multiple = add_closest_stations(data, station_id, target, num_stations=10, empty=empty)\n",
    "        logregs['append_multiple'], scalers['append_multiple'], predictions['append_multiple'] = run_logreg.do_logreg(appended_multiple, plot = False)\n",
    "    if 'squares' in keys_chosen:\n",
    "        logregs['squares'], scalers['squares'], predictions['squares'] = run_logreg.do_logreg(data_binarized, squares=True, plot = False)\n",
    "        \n",
    "    return logregs, scalers, predictions"
   ]
  },
  {
   "cell_type": "code",
   "execution_count": 33,
   "metadata": {
    "collapsed": false
   },
   "outputs": [
    {
     "name": "stdout",
     "output_type": "stream",
     "text": [
      "X shape: (4236, 22)\n",
      "Evaluating on dev set of 968 examples\n",
      "Accuracy: 0.810950413223\n",
      "[[443 142]\n",
      " [ 41 342]]\n",
      "X shape: (7360, 22)\n",
      "Evaluating on dev set of 968 examples\n",
      "Accuracy: 0.778925619835\n",
      "[[424 161]\n",
      " [ 53 330]]\n",
      "X shape: (4236, 44)\n",
      "Evaluating on dev set of 968 examples\n",
      "Accuracy: 0.601239669421\n",
      "[[222 363]\n",
      " [ 23 360]]\n"
     ]
    }
   ],
   "source": [
    "'''Run empty models'''\n",
    "data = project_env.load_split_bucket(519, target='y_60m', log=False)\n",
    "\n",
    "logregs_e, scalers_e, predictions_e = run_models(data, 519, 'y_60m')"
   ]
  },
  {
   "cell_type": "code",
   "execution_count": 26,
   "metadata": {
    "collapsed": false
   },
   "outputs": [
    {
     "name": "stdout",
     "output_type": "stream",
     "text": [
      "X shape: (4236, 22)\n",
      "Evaluating on dev set of 968 examples\n",
      "Accuracy: 0.95041322314\n",
      "[[920   0]\n",
      " [ 48   0]]\n",
      "X shape: (7360, 22)\n",
      "Evaluating on dev set of 968 examples\n",
      "Accuracy: 0.95041322314\n",
      "[[920   0]\n",
      " [ 48   0]]\n",
      "X shape: (4236, 44)\n",
      "Evaluating on dev set of 968 examples\n",
      "Accuracy: 0.949380165289\n",
      "[[919   1]\n",
      " [ 48   0]]\n"
     ]
    }
   ],
   "source": [
    "'''Run full models'''\n",
    "\n",
    "data = project_env.load_split_bucket(519, target='y_60m', log=False)\n",
    "\n",
    "#something's wrong here the appended ones are doing weird stuff\n",
    "\n",
    "logregs_f, scalers_f, predictions_f = run_models(data, 519, 'y_60m', empty=False)"
   ]
  },
  {
   "cell_type": "markdown",
   "metadata": {
    "collapsed": true
   },
   "source": [
    "# Evaluation\n",
    "\n",
    "Plot the precision-recall curve for the 4 classifiers:"
   ]
  },
  {
   "cell_type": "markdown",
   "metadata": {},
   "source": [
    "#### 95% Recall"
   ]
  },
  {
   "cell_type": "markdown",
   "metadata": {},
   "source": [
    "95% recall means that whenever the model tells a user to go to a station to pick up a bike at a designated time, 5% of the time, the station ends up empty (the bad case).\n",
    "\n",
    "Given a model satisfies at least 95% recall, a higher precision means fewer occasions where a model turns the user away from the station even though it has bikes available (a more efficient model). So, we want to find a model that maximizes precision given a minimum recall.\n",
    "\n",
    "In the plot above the `basic` model wins out at around 57% precision at 95% recall. So that means when the model says the station is empty, 57% of the time the station will actually be empty."
   ]
  },
  {
   "cell_type": "markdown",
   "metadata": {},
   "source": [
    "#### Empty"
   ]
  },
  {
   "cell_type": "code",
   "execution_count": 13,
   "metadata": {
    "collapsed": true
   },
   "outputs": [],
   "source": [
    "def format_plot(target_recall, empty=True):\n",
    "    if empty==True:\n",
    "        plt.xlim([0.9, 1.0])\n",
    "        plt.ylim([0.4, 0.7])\n",
    "    if empty==False:\n",
    "        plt.xlim([0.9, 1.0])\n",
    "        plt.ylim([0, 0.7])\n",
    "    plt.axvline(x=target_recall, color='k', linestyle='--')\n",
    "    plt.xlabel('Recall')\n",
    "    plt.ylabel('Precision')\n",
    "    plt.legend(loc=\"lower left\")\n",
    "    plt.title('Precision-Recall Curves')\n",
    "    "
   ]
  },
  {
   "cell_type": "code",
   "execution_count": 18,
   "metadata": {
    "collapsed": false
   },
   "outputs": [
    {
     "name": "stdout",
     "output_type": "stream",
     "text": [
      "Model baseline\n",
      "  Max precision: 0.528301886792 at recall 0.950391644909\n",
      "  Threshold of max precision: 0.540983606557\n",
      "Model append_one\n",
      "  Max precision: 0.530523255814 at recall 0.953002610966\n",
      "  Threshold of max precision: 0.121865585866\n",
      "Model squares\n",
      "  Max precision: 0.480895915679 at recall 0.953002610966\n",
      "  Threshold of max precision: 0.387572925669\n",
      "Model basic\n",
      "  Max precision: 0.581469648562 at recall 0.950391644909\n",
      "  Threshold of max precision: 0.237075253857\n"
     ]
    },
    {
     "data": {
      "image/png": "[encoded data removed]",
      "text/plain": [
       "<matplotlib.figure.Figure at 0x23ac1955c88>"
      ]
     },
     "metadata": {},
     "output_type": "display_data"
    }
   ],
   "source": [
    "from sklearn.metrics import precision_recall_curve\n",
    "\n",
    "data_empty = data_binarized = project_env.binarize(data, -1)\n",
    "gold_labels = data_empty['dev'][1]\n",
    "\n",
    "'''modified pr_curve function to take \"gold_labels\" AND the threshold as a parameter'''\n",
    "def pr_curve(predictions, label, gold_labels, target_recall=0.95):\n",
    "    curve = precision_recall_curve(gold_labels, predictions)\n",
    "    precision, recall, thresholds = curve\n",
    "    mp, mr, mt = project_env.max_precision_for_recall(curve, target_recall=target_recall)\n",
    "    print('Model', label)\n",
    "    print('  Max precision:', mp, 'at recall', mr)\n",
    "    print('  Threshold of max precision:', mt)\n",
    "    plt.plot(recall, precision, label=label)\n",
    "   \n",
    "plt.figure(figsize=(7, 7))\n",
    "pr_curve(data_empty['dev'][0]['num_docks_available_scaled'], 'baseline', gold_labels, target_recall=0.95)\n",
    "for key in predictions_e.keys():\n",
    "    pr_curve(predictions_e[key], key, gold_labels, target_recall=0.95)\n",
    "\n",
    "format_plot(.95)\n",
    "plt.show()"
   ]
  },
  {
   "cell_type": "markdown",
   "metadata": {},
   "source": [
    "#### Full"
   ]
  },
  {
   "cell_type": "code",
   "execution_count": 28,
   "metadata": {
    "collapsed": false
   },
   "outputs": [
    {
     "name": "stdout",
     "output_type": "stream",
     "text": [
      "Model baseline\n",
      "  Max precision: 0.0496380558428 at recall 1.0\n",
      "  Threshold of max precision: 0.016393442623\n",
      "Model append_one\n",
      "  Max precision: 0.380165289256 at recall 0.958333333333\n",
      "  Threshold of max precision: 0.00829529733758\n",
      "Model squares\n",
      "  Max precision: 0.0538373424971 at recall 0.979166666667\n",
      "  Threshold of max precision: 2.45502138432e-08\n",
      "Model basic\n",
      "  Max precision: 0.319444444444 at recall 0.958333333333\n",
      "  Threshold of max precision: 0.0084663560742\n"
     ]
    },
    {
     "data": {
      "image/png": "[encoded data removed]",
      "text/plain": [
       "<matplotlib.figure.Figure at 0x23ac1a05ac8>"
      ]
     },
     "metadata": {},
     "output_type": "display_data"
    }
   ],
   "source": [
    "data_full = data_binarized = project_env.binarize(data, 1)\n",
    "gold_labels = data_full['dev'][1]\n",
    "   \n",
    "plt.figure(figsize=(7, 7))\n",
    "pr_curve(data_full['dev'][0]['num_docks_available_scaled'], 'baseline', gold_labels, target_recall=0.95)\n",
    "for key in predictions_f.keys():\n",
    "    pr_curve(predictions_f[key], key, gold_labels, target_recall=0.95)\n",
    "\n",
    "format_plot(.95, empty=False)\n"
   ]
  },
  {
   "cell_type": "markdown",
   "metadata": {},
   "source": [
    "#### 85% Recall"
   ]
  },
  {
   "cell_type": "code",
   "execution_count": 35,
   "metadata": {
    "collapsed": false
   },
   "outputs": [
    {
     "name": "stdout",
     "output_type": "stream",
     "text": [
      "Model baseline\n",
      "  Max precision: 0.629001883239 at recall 0.872062663185\n",
      "  Threshold of max precision: 0.770491803279\n",
      "Model append_one\n",
      "  Max precision: 0.695095948827 at recall 0.851174934726\n",
      "  Threshold of max precision: 0.543670600229\n",
      "Model squares\n",
      "  Max precision: 0.665306122449 at recall 0.851174934726\n",
      "  Threshold of max precision: 0.879322558173\n",
      "Model basic\n",
      "  Max precision: 0.781774580336 at recall 0.851174934726\n",
      "  Threshold of max precision: 0.637375427873\n"
     ]
    },
    {
     "data": {
      "image/png": "[encoded data removed]",
      "text/plain": [
       "<matplotlib.figure.Figure at 0x23ac1cae8d0>"
      ]
     },
     "metadata": {},
     "output_type": "display_data"
    }
   ],
   "source": [
    "from sklearn.metrics import precision_recall_curve\n",
    "\n",
    "data_empty = data_binarized = project_env.binarize(data, -1)\n",
    "gold_labels = data_empty['dev'][1]\n",
    "\n",
    "plt.figure(figsize=(7, 7))\n",
    "pr_curve(data_empty['dev'][0]['num_docks_available_scaled'], 'baseline', gold_labels, target_recall=0.85)\n",
    "for key in predictions_e.keys():\n",
    "    pr_curve(predictions_e[key], key, gold_labels, target_recall=0.85)\n",
    "\n",
    "format_plot(.85, empty=True)"
   ]
  },
  {
   "cell_type": "code",
   "execution_count": 30,
   "metadata": {
    "collapsed": false
   },
   "outputs": [
    {
     "name": "stdout",
     "output_type": "stream",
     "text": [
      "Model baseline\n",
      "  Max precision: 0.0496380558428 at recall 1.0\n",
      "  Threshold of max precision: 0.016393442623\n",
      "Model append_one\n",
      "  Max precision: 0.427184466019 at recall 0.916666666667\n",
      "  Threshold of max precision: 0.0109278638682\n",
      "Model squares\n",
      "  Max precision: 0.0538373424971 at recall 0.979166666667\n",
      "  Threshold of max precision: 2.45502138432e-08\n",
      "Model basic\n",
      "  Max precision: 0.44 at recall 0.916666666667\n",
      "  Threshold of max precision: 0.016966508998\n"
     ]
    },
    {
     "data": {
      "image/png": "[encoded data removed]",
      "text/plain": [
       "<matplotlib.figure.Figure at 0x23ac19983c8>"
      ]
     },
     "metadata": {},
     "output_type": "display_data"
    }
   ],
   "source": [
    "#data_full = data_binarized = project_env.binarize(data, 1)\n",
    "gold_labels = data_full['dev'][1]\n",
    "   \n",
    "plt.figure(figsize=(7, 7))\n",
    "pr_curve(data_full['dev'][0]['num_docks_available_scaled'], 'baseline', gold_labels, target_recall=0.95)\n",
    "for key in predictions_f.keys():\n",
    "    pr_curve(predictions_f[key], key, gold_labels, target_recall=0.85)\n",
    "\n",
    "format_plot(.85, empty=False)"
   ]
  },
  {
   "cell_type": "markdown",
   "metadata": {},
   "source": [
    "### Testing Different Target Variables"
   ]
  },
  {
   "cell_type": "code",
   "execution_count": 15,
   "metadata": {
    "collapsed": true
   },
   "outputs": [],
   "source": [
    "targets = ['y_10m','y_15m','y_30m','y_45m','y_60m','y_90m','y_120m']\n",
    "\n",
    "datasets = dict.fromkeys(targets)"
   ]
  },
  {
   "cell_type": "code",
   "execution_count": 16,
   "metadata": {
    "collapsed": false
   },
   "outputs": [],
   "source": [
    "for target in targets:\n",
    "    datasets[target] = project_env.load_split_bucket(519, target = target, log=False)"
   ]
  },
  {
   "cell_type": "code",
   "execution_count": 17,
   "metadata": {
    "collapsed": false
   },
   "outputs": [],
   "source": [
    "binarized_data_empty = dict.fromkeys(targets)\n",
    "binarized_data_full = dict.fromkeys(targets)"
   ]
  },
  {
   "cell_type": "code",
   "execution_count": 18,
   "metadata": {
    "collapsed": false
   },
   "outputs": [],
   "source": [
    "for target in targets:\n",
    "    binarized_data_empty[target] = project_env.binarize(datasets[target], -1)\n",
    "    binarized_data_full[target] = project_env.binarize(datasets[target], 1)"
   ]
  },
  {
   "cell_type": "code",
   "execution_count": 19,
   "metadata": {
    "collapsed": true
   },
   "outputs": [],
   "source": [
    "logregs_empty = dict.fromkeys(targets)\n",
    "scalers_empty = dict.fromkeys(targets)\n",
    "predictions_empty = dict.fromkeys(targets)\n",
    "logregs_full = dict.fromkeys(targets)\n",
    "scalers_full = dict.fromkeys(targets)\n",
    "predictions_full = dict.fromkeys(targets)"
   ]
  },
  {
   "cell_type": "code",
   "execution_count": 20,
   "metadata": {
    "collapsed": false
   },
   "outputs": [
    {
     "name": "stdout",
     "output_type": "stream",
     "text": [
      "X shape: (4289, 22)\n",
      "Evaluating on dev set of 1002 examples\n",
      "Accuracy: 0.89620758483\n",
      "[[546  68]\n",
      " [ 36 352]]\n",
      "X shape: (4289, 22)\n",
      "Evaluating on dev set of 1002 examples\n",
      "Accuracy: 0.957085828343\n",
      "[[953   2]\n",
      " [ 41   6]]\n",
      "X shape: (4257, 22)\n",
      "Evaluating on dev set of 993 examples\n",
      "Accuracy: 0.883182275932\n",
      "[[516  81]\n",
      " [ 35 361]]\n",
      "X shape: (4257, 22)\n",
      "Evaluating on dev set of 993 examples\n",
      "Accuracy: 0.952668680765\n",
      "[[945   1]\n",
      " [ 46   1]]\n",
      "X shape: (4298, 22)\n",
      "Evaluating on dev set of 988 examples\n",
      "Accuracy: 0.861336032389\n",
      "[[499 102]\n",
      " [ 35 352]]\n",
      "X shape: (4298, 22)\n",
      "Evaluating on dev set of 988 examples\n",
      "Accuracy: 0.952429149798\n",
      "[[941   0]\n",
      " [ 47   0]]\n",
      "X shape: (4228, 22)\n",
      "Evaluating on dev set of 983 examples\n",
      "Accuracy: 0.840284842319\n",
      "[[481 120]\n",
      " [ 37 345]]\n",
      "X shape: (4228, 22)\n",
      "Evaluating on dev set of 983 examples\n",
      "Accuracy: 0.951169888098\n",
      "[[935   0]\n",
      " [ 48   0]]\n",
      "X shape: (4236, 22)\n",
      "Evaluating on dev set of 968 examples\n",
      "Accuracy: 0.810950413223\n",
      "[[443 142]\n",
      " [ 41 342]]\n",
      "X shape: (4236, 22)\n",
      "Evaluating on dev set of 968 examples\n",
      "Accuracy: 0.95041322314\n",
      "[[920   0]\n",
      " [ 48   0]]\n",
      "X shape: (4124, 22)\n",
      "Evaluating on dev set of 954 examples\n",
      "Accuracy: 0.781970649895\n",
      "[[418 162]\n",
      " [ 46 328]]\n",
      "X shape: (4124, 22)\n",
      "Evaluating on dev set of 954 examples\n",
      "Accuracy: 0.952830188679\n",
      "[[909   0]\n",
      " [ 45   0]]\n",
      "X shape: (4040, 22)\n",
      "Evaluating on dev set of 942 examples\n",
      "Accuracy: 0.767515923567\n",
      "[[399 177]\n",
      " [ 42 324]]\n",
      "X shape: (4040, 22)\n",
      "Evaluating on dev set of 942 examples\n",
      "Accuracy: 0.954352441614\n",
      "[[899   0]\n",
      " [ 43   0]]\n"
     ]
    }
   ],
   "source": [
    "for target in targets:\n",
    "    logregs_empty[target], scalers_empty[target], predictions_empty[target] = run_logreg.do_logreg(binarized_data_empty[target], plot = False)\n",
    "    logregs_full[target], scalers_full[target], predictions_full[target] = run_logreg.do_logreg(binarized_data_full[target], plot = False)"
   ]
  },
  {
   "cell_type": "markdown",
   "metadata": {},
   "source": [
    "### Evaluating Accuracy at Different Targets"
   ]
  },
  {
   "cell_type": "markdown",
   "metadata": {},
   "source": [
    "#### 95% Recall Threshold"
   ]
  },
  {
   "cell_type": "markdown",
   "metadata": {},
   "source": [
    "#### Empty"
   ]
  },
  {
   "cell_type": "code",
   "execution_count": 21,
   "metadata": {
    "collapsed": false,
    "scrolled": true
   },
   "outputs": [
    {
     "name": "stdout",
     "output_type": "stream",
     "text": [
      "Model y_10m\n",
      "  Max precision: 0.736526946108 at recall 0.951030927835\n",
      "  Threshold of max precision: 0.117250850911\n",
      "Model y_15m\n",
      "  Max precision: 0.727799227799 at recall 0.95202020202\n",
      "  Threshold of max precision: 0.166880407542\n",
      "Model y_30m\n",
      "  Max precision: 0.685288640596 at recall 0.950904392765\n",
      "  Threshold of max precision: 0.25896608677\n",
      "Model y_45m\n",
      "  Max precision: 0.641342756184 at recall 0.950261780105\n",
      "  Threshold of max precision: 0.30002509002\n",
      "Model y_60m\n",
      "  Max precision: 0.581469648562 at recall 0.950391644909\n",
      "  Threshold of max precision: 0.237075253857\n",
      "Model y_90m\n",
      "  Max precision: 0.55625 at recall 0.951871657754\n",
      "  Threshold of max precision: 0.301549750887\n",
      "Model y_120m\n",
      "  Max precision: 0.553090332805 at recall 0.953551912568\n",
      "  Threshold of max precision: 0.385048916308\n"
     ]
    },
    {
     "data": {
      "image/png": "[encoded data removed]",
      "text/plain": [
       "<matplotlib.figure.Figure at 0x2f069432518>"
      ]
     },
     "metadata": {},
     "output_type": "display_data"
    }
   ],
   "source": [
    "plt.figure(figsize=(7, 7))\n",
    "for target in targets:\n",
    "    pr_curve(predictions_empty[target], target, binarized_data_empty[target]['dev'][1])\n",
    "\n",
    "format_plot(.95, empty = True)\n",
    "plt.show() #the 60m one should be same as the first \"basic\", and it is"
   ]
  },
  {
   "cell_type": "markdown",
   "metadata": {},
   "source": [
    "#### Full"
   ]
  },
  {
   "cell_type": "code",
   "execution_count": 22,
   "metadata": {
    "collapsed": false
   },
   "outputs": [
    {
     "name": "stdout",
     "output_type": "stream",
     "text": [
      "Model y_10m\n",
      "  Max precision: 0.671641791045 at recall 0.957446808511\n",
      "  Threshold of max precision: 0.0846728322053\n",
      "Model y_15m\n",
      "  Max precision: 0.535714285714 at recall 0.957446808511\n",
      "  Threshold of max precision: 0.0153294654791\n",
      "Model y_30m\n",
      "  Max precision: 0.40350877193 at recall 0.978723404255\n",
      "  Threshold of max precision: 0.00591762609846\n",
      "Model y_45m\n",
      "  Max precision: 0.389830508475 at recall 0.958333333333\n",
      "  Threshold of max precision: 0.0138377878306\n",
      "Model y_60m\n",
      "  Max precision: 0.319444444444 at recall 0.958333333333\n",
      "  Threshold of max precision: 0.0084663560742\n",
      "Model y_90m\n",
      "  Max precision: 0.137380191693 at recall 0.955555555556\n",
      "  Threshold of max precision: 0.0056386496408\n",
      "Model y_120m\n",
      "  Max precision: 0.100244498778 at recall 0.953488372093\n",
      "  Threshold of max precision: 0.00371200215064\n"
     ]
    },
    {
     "data": {
      "image/png": "[encoded data removed]",
      "text/plain": [
       "<matplotlib.figure.Figure at 0x2f069432160>"
      ]
     },
     "metadata": {},
     "output_type": "display_data"
    }
   ],
   "source": [
    "plt.figure(figsize=(7, 7))\n",
    "for target in targets:\n",
    "    pr_curve(predictions_full[target], target, binarized_data_full[target]['dev'][1])\n",
    "\n",
    "format_plot(.95, empty=False)\n",
    "plt.show()"
   ]
  },
  {
   "cell_type": "markdown",
   "metadata": {},
   "source": [
    "#### Revised: 85% Recall Threshold"
   ]
  },
  {
   "cell_type": "markdown",
   "metadata": {},
   "source": [
    "#### Empty"
   ]
  },
  {
   "cell_type": "code",
   "execution_count": 23,
   "metadata": {
    "collapsed": false
   },
   "outputs": [
    {
     "name": "stdout",
     "output_type": "stream",
     "text": [
      "Model y_10m\n",
      "  Max precision: 0.873015873016 at recall 0.850515463918\n",
      "  Threshold of max precision: 0.691975389068\n",
      "Model y_15m\n",
      "  Max precision: 0.868894601542 at recall 0.853535353535\n",
      "  Threshold of max precision: 0.689737862069\n",
      "Model y_30m\n",
      "  Max precision: 0.832911392405 at recall 0.850129198966\n",
      "  Threshold of max precision: 0.673714133515\n",
      "Model y_45m\n",
      "  Max precision: 0.790754257908 at recall 0.850785340314\n",
      "  Threshold of max precision: 0.636769876896\n",
      "Model y_60m\n",
      "  Max precision: 0.781774580336 at recall 0.851174934726\n",
      "  Threshold of max precision: 0.637375427873\n",
      "Model y_90m\n",
      "  Max precision: 0.706666666667 at recall 0.850267379679\n",
      "  Threshold of max precision: 0.546773310816\n",
      "Model y_120m\n",
      "  Max precision: 0.709090909091 at recall 0.852459016393\n",
      "  Threshold of max precision: 0.569445110462\n"
     ]
    },
    {
     "data": {
      "image/png": "[encoded data removed]",
      "text/plain": [
       "<matplotlib.figure.Figure at 0x2f068f14cf8>"
      ]
     },
     "metadata": {},
     "output_type": "display_data"
    }
   ],
   "source": [
    "plt.figure(figsize=(7, 7))\n",
    "for target in targets:\n",
    "    pr_curve(predictions_empty[target], target, binarized_data_empty[target]['dev'][1], target_recall = .85)\n",
    "\n",
    "format_plot(.85, empty = True)\n",
    "plt.show() #the 60m one should be same as the first \"basic\", and it is"
   ]
  },
  {
   "cell_type": "markdown",
   "metadata": {},
   "source": [
    "#### Full"
   ]
  },
  {
   "cell_type": "code",
   "execution_count": 24,
   "metadata": {
    "collapsed": false
   },
   "outputs": [
    {
     "name": "stdout",
     "output_type": "stream",
     "text": [
      "Model y_10m\n",
      "  Max precision: 0.736842105263 at recall 0.893617021277\n",
      "  Threshold of max precision: 0.131802612746\n",
      "Model y_15m\n",
      "  Max precision: 0.740740740741 at recall 0.851063829787\n",
      "  Threshold of max precision: 0.105078332305\n",
      "Model y_30m\n",
      "  Max precision: 0.481927710843 at recall 0.851063829787\n",
      "  Threshold of max precision: 0.0173195964114\n",
      "Model y_45m\n",
      "  Max precision: 0.4375 at recall 0.875\n",
      "  Threshold of max precision: 0.0263852729697\n",
      "Model y_60m\n",
      "  Max precision: 0.44 at recall 0.916666666667\n",
      "  Threshold of max precision: 0.016966508998\n",
      "Model y_90m\n",
      "  Max precision: 0.167346938776 at recall 0.911111111111\n",
      "  Threshold of max precision: 0.0080917361438\n",
      "Model y_120m\n",
      "  Max precision: 0.10393258427 at recall 0.860465116279\n",
      "  Threshold of max precision: 0.00517027121416\n"
     ]
    },
    {
     "data": {
      "image/png": "[encoded data removed]",
      "text/plain": [
       "<matplotlib.figure.Figure at 0x2f0697c9160>"
      ]
     },
     "metadata": {},
     "output_type": "display_data"
    }
   ],
   "source": [
    "plt.figure(figsize=(7, 7))\n",
    "for target in targets:\n",
    "    pr_curve(predictions_full[target], target, binarized_data_full[target]['dev'][1], target_recall = .85)\n",
    "\n",
    "format_plot(.85, empty=False)\n",
    "plt.show()"
   ]
  },
  {
   "cell_type": "markdown",
   "metadata": {},
   "source": [
    "#### Parameter Optimization\n",
    "\n",
    "Trying different c-values and penalties"
   ]
  },
  {
   "cell_type": "code",
   "execution_count": 25,
   "metadata": {
    "collapsed": true
   },
   "outputs": [],
   "source": [
    "cvals = [.0001, .01, 1, 100, 10000, 1000000]\n",
    "penalties = ['l1', 'l2']"
   ]
  },
  {
   "cell_type": "code",
   "execution_count": 26,
   "metadata": {
    "collapsed": false
   },
   "outputs": [
    {
     "name": "stdout",
     "output_type": "stream",
     "text": [
      "X shape: (4236, 22)\n",
      "Evaluating on dev set of 968 examples\n",
      "Accuracy: 0.604338842975\n",
      "[[585   0]\n",
      " [383   0]]\n",
      "X shape: (4236, 22)\n",
      "Evaluating on dev set of 968 examples\n",
      "Accuracy: 0.786157024793\n",
      "[[428 157]\n",
      " [ 50 333]]\n",
      "X shape: (4236, 22)\n",
      "Evaluating on dev set of 968 examples\n",
      "Accuracy: 0.813016528926\n",
      "[[448 137]\n",
      " [ 44 339]]\n",
      "X shape: (4236, 22)\n",
      "Evaluating on dev set of 968 examples\n",
      "Accuracy: 0.809917355372\n",
      "[[442 143]\n",
      " [ 41 342]]\n",
      "X shape: (4236, 22)\n",
      "Evaluating on dev set of 968 examples\n",
      "Accuracy: 0.809917355372\n",
      "[[442 143]\n",
      " [ 41 342]]\n",
      "X shape: (4236, 22)\n",
      "Evaluating on dev set of 968 examples\n",
      "Accuracy: 0.809917355372\n",
      "[[442 143]\n",
      " [ 41 342]]\n",
      "X shape: (4236, 22)\n",
      "Evaluating on dev set of 968 examples\n",
      "Accuracy: 0.696280991736\n",
      "[[316 269]\n",
      " [ 25 358]]\n",
      "X shape: (4236, 22)\n",
      "Evaluating on dev set of 968 examples\n",
      "Accuracy: 0.77479338843\n",
      "[[404 181]\n",
      " [ 37 346]]\n",
      "X shape: (4236, 22)\n",
      "Evaluating on dev set of 968 examples\n",
      "Accuracy: 0.808884297521\n",
      "[[442 143]\n",
      " [ 42 341]]\n",
      "X shape: (4236, 22)\n",
      "Evaluating on dev set of 968 examples\n",
      "Accuracy: 0.809917355372\n",
      "[[442 143]\n",
      " [ 41 342]]\n",
      "X shape: (4236, 22)\n",
      "Evaluating on dev set of 968 examples\n",
      "Accuracy: 0.810950413223\n",
      "[[443 142]\n",
      " [ 41 342]]\n",
      "X shape: (4236, 22)\n",
      "Evaluating on dev set of 968 examples\n",
      "Accuracy: 0.810950413223\n",
      "[[443 142]\n",
      " [ 41 342]]\n"
     ]
    }
   ],
   "source": [
    "cval_penalties = {}\n",
    "\n",
    "for penalty in penalties:\n",
    "    for c in cvals:\n",
    "        cval_penalties['c: ' + str(int(c)) + '; loss: ' + penalty] = run_logreg.do_logreg(data_empty, plot=False, penalty=penalty, C=c)"
   ]
  },
  {
   "cell_type": "code",
   "execution_count": 27,
   "metadata": {
    "collapsed": false
   },
   "outputs": [
    {
     "data": {
      "text/plain": [
       "LogisticRegression(C=100, class_weight=None, dual=False, fit_intercept=True,\n",
       "          intercept_scaling=1, max_iter=100, multi_class='ovr', n_jobs=1,\n",
       "          penalty='l1', random_state=None, solver='liblinear', tol=0.0001,\n",
       "          verbose=0, warm_start=False)"
      ]
     },
     "execution_count": 27,
     "metadata": {},
     "output_type": "execute_result"
    }
   ],
   "source": [
    "cval_penalties['c: 100; loss: l1'][0]"
   ]
  },
  {
   "cell_type": "code",
   "execution_count": 28,
   "metadata": {
    "collapsed": false
   },
   "outputs": [
    {
     "data": {
      "text/plain": [
       "StandardScaler(copy=True, with_mean=True, with_std=True)"
      ]
     },
     "execution_count": 28,
     "metadata": {},
     "output_type": "execute_result"
    }
   ],
   "source": [
    "cval_penalties['c: 100; loss: l1'][1]"
   ]
  },
  {
   "cell_type": "code",
   "execution_count": 29,
   "metadata": {
    "collapsed": false
   },
   "outputs": [
    {
     "name": "stdout",
     "output_type": "stream",
     "text": [
      "Model c: 1000000; loss: l1\n",
      "  Max precision: 0.581469648562 at recall 0.950391644909\n",
      "  Threshold of max precision: 0.238252056986\n",
      "Model c: 10000; loss: l1\n",
      "  Max precision: 0.581469648562 at recall 0.950391644909\n",
      "  Threshold of max precision: 0.238184290569\n",
      "Model c: 1; loss: l1\n",
      "  Max precision: 0.578696343402 at recall 0.950391644909\n",
      "  Threshold of max precision: 0.267775248154\n",
      "Model c: 100; loss: l2\n",
      "  Max precision: 0.581469648562 at recall 0.950391644909\n",
      "  Threshold of max precision: 0.238755342328\n",
      "Model c: 1; loss: l2\n",
      "  Max precision: 0.578696343402 at recall 0.950391644909\n",
      "  Threshold of max precision: 0.270711263176\n",
      "Model c: 10000; loss: l2\n",
      "  Max precision: 0.581469648562 at recall 0.950391644909\n",
      "  Threshold of max precision: 0.237095807302\n",
      "Model c: 0; loss: l2\n",
      "  Max precision: 0.569640062598 at recall 0.950391644909\n",
      "  Threshold of max precision: 0.367632738748\n",
      "Model c: 1000000; loss: l2\n",
      "  Max precision: 0.581469648562 at recall 0.950391644909\n",
      "  Threshold of max precision: 0.237078879322\n",
      "Model c: 0; loss: l1\n",
      "  Max precision: 0.540059347181 at recall 0.950391644909\n",
      "  Threshold of max precision: 0.253902269949\n",
      "Model c: 100; loss: l1\n",
      "  Max precision: 0.581469648562 at recall 0.950391644909\n",
      "  Threshold of max precision: 0.238969513802\n"
     ]
    },
    {
     "data": {
      "image/png": "[encoded data removed]",
      "text/plain": [
       "<matplotlib.figure.Figure at 0x2f0696eff60>"
      ]
     },
     "metadata": {},
     "output_type": "display_data"
    }
   ],
   "source": [
    "gold_labels = data_empty['dev'][1]\n",
    "\n",
    "keys_list = list(cval_penalties.keys())\n",
    "   \n",
    "plt.figure(figsize=(7, 7))\n",
    "\n",
    "for key in keys_list:\n",
    "    pr_curve(cval_penalties[key][2], key, gold_labels, target_recall=0.95)\n",
    "\n",
    "format_plot(.95, empty=True)"
   ]
  },
  {
   "cell_type": "markdown",
   "metadata": {},
   "source": [
    "#### Average Accuracy of Several Stations"
   ]
  },
  {
   "cell_type": "code",
   "execution_count": 37,
   "metadata": {
    "collapsed": false
   },
   "outputs": [],
   "source": [
    "stations = list(stations_df.index)"
   ]
  },
  {
   "cell_type": "code",
   "execution_count": 38,
   "metadata": {
    "collapsed": true
   },
   "outputs": [],
   "source": [
    "'''modified pr_curve function to return the results instead of printing them and plotting them'''\n",
    "def pr_curve_metrics(predictions, gold_labels, target_recall=0.95):\n",
    "    curve = precision_recall_curve(gold_labels, predictions)\n",
    "    precision, recall, thresholds = curve\n",
    "    mp, mr, mt = project_env.max_precision_for_recall(curve, target_recall=target_recall)\n",
    "    return mp, mr, mt"
   ]
  },
  {
   "cell_type": "code",
   "execution_count": 39,
   "metadata": {
    "collapsed": false
   },
   "outputs": [
    {
     "name": "stdout",
     "output_type": "stream",
     "text": [
      "X shape: (3113, 22)\n",
      "Evaluating on dev set of 722 examples\n",
      "Accuracy: 0.945983379501\n",
      "[[681   6]\n",
      " [ 33   2]]\n",
      "X shape: (3579, 22)\n",
      "Evaluating on dev set of 799 examples\n",
      "Accuracy: 0.917396745932\n",
      "[[707  21]\n",
      " [ 45  26]]\n",
      "X shape: (3064, 22)\n",
      "Evaluating on dev set of 696 examples\n",
      "Accuracy: 0.969827586207\n",
      "[[675   1]\n",
      " [ 20   0]]\n",
      "X shape: (3019, 22)\n",
      "Evaluating on dev set of 729 examples\n",
      "Accuracy: 0.851851851852\n",
      "[[588  12]\n",
      " [ 96  33]]\n",
      "X shape: (3314, 22)\n",
      "Evaluating on dev set of 715 examples\n",
      "Accuracy: 0.99020979021\n",
      "[[708   7]\n",
      " [  0   0]]\n",
      "X shape: (3585, 22)\n",
      "Evaluating on dev set of 805 examples\n",
      "Accuracy: 1.0\n",
      "[[805]]\n",
      "X shape: (4010, 22)\n",
      "Evaluating on dev set of 971 examples\n",
      "Accuracy: 0.97219361483\n",
      "[[944  25]\n",
      " [  2   0]]\n",
      "X shape: (3104, 22)\n",
      "Evaluating on dev set of 739 examples\n",
      "Accuracy: 0.983761840325\n",
      "[[727   0]\n",
      " [ 12   0]]\n",
      "X shape: (3027, 22)\n",
      "Evaluating on dev set of 675 examples\n",
      "Accuracy: 0.848888888889\n",
      "[[557  54]\n",
      " [ 48  16]]\n",
      "X shape: (3192, 22)\n",
      "Evaluating on dev set of 755 examples\n",
      "Accuracy: 0.864900662252\n",
      "[[459  22]\n",
      " [ 80 194]]\n",
      "X shape: (4660, 22)\n",
      "Evaluating on dev set of 1088 examples\n",
      "Accuracy: 0.998161764706\n",
      "[[1086    2]\n",
      " [   0    0]]\n",
      "X shape: (3578, 22)\n",
      "X shape: (4673, 22)\n",
      "Evaluating on dev set of 1061 examples\n",
      "Accuracy: 1.0\n",
      "[[1061]]\n",
      "X shape: (3483, 22)\n",
      "Evaluating on dev set of 834 examples\n",
      "Accuracy: 0.961630695444\n",
      "[[802   2]\n",
      " [ 30   0]]\n",
      "X shape: (3175, 22)\n",
      "X shape: (3168, 22)\n",
      "Evaluating on dev set of 689 examples\n",
      "Accuracy: 1.0\n",
      "[[689]]\n",
      "X shape: (2995, 22)\n",
      "Evaluating on dev set of 591 examples\n",
      "Accuracy: 0.993231810491\n",
      "[[587   4]\n",
      " [  0   0]]\n",
      "X shape: (3696, 22)\n",
      "Evaluating on dev set of 832 examples\n",
      "Accuracy: 0.746394230769\n",
      "[[511 128]\n",
      " [ 83 110]]\n",
      "X shape: (3475, 22)\n",
      "Evaluating on dev set of 730 examples\n",
      "Accuracy: 0.916438356164\n",
      "[[642  16]\n",
      " [ 45  27]]\n",
      "X shape: (3094, 22)\n",
      "Evaluating on dev set of 734 examples\n",
      "Accuracy: 0.8310626703\n",
      "[[555  41]\n",
      " [ 83  55]]\n",
      "X shape: (4040, 22)\n",
      "Evaluating on dev set of 979 examples\n",
      "Accuracy: 0.91317671093\n",
      "[[871  10]\n",
      " [ 75  23]]\n",
      "X shape: (3085, 22)\n",
      "X shape: (3228, 22)\n",
      "Evaluating on dev set of 704 examples\n",
      "Accuracy: 0.928977272727\n",
      "[[530  27]\n",
      " [ 23 124]]\n",
      "X shape: (3470, 22)\n",
      "X shape: (2885, 22)\n",
      "X shape: (3096, 22)\n",
      "X shape: (3088, 22)\n",
      "Evaluating on dev set of 669 examples\n",
      "Accuracy: 0.857997010463\n",
      "[[479  41]\n",
      " [ 54  95]]\n",
      "X shape: (2987, 22)\n",
      "Evaluating on dev set of 681 examples\n",
      "Accuracy: 0.961820851689\n",
      "[[637   2]\n",
      " [ 24  18]]\n",
      "X shape: (3248, 22)\n",
      "Evaluating on dev set of 682 examples\n",
      "Accuracy: 0.862170087977\n",
      "[[473   5]\n",
      " [ 89 115]]\n",
      "X shape: (3662, 22)\n",
      "X shape: (3002, 22)\n",
      "X shape: (3113, 22)\n",
      "Evaluating on dev set of 702 examples\n",
      "Accuracy: 0.981481481481\n",
      "[[689   0]\n",
      " [ 13   0]]\n",
      "X shape: (3242, 22)\n",
      "Evaluating on dev set of 861 examples\n",
      "Accuracy: 0.980255516841\n",
      "[[840   0]\n",
      " [ 17   4]]\n",
      "X shape: (3677, 22)\n",
      "X shape: (3386, 22)\n",
      "Evaluating on dev set of 823 examples\n",
      "Accuracy: 0.888213851762\n",
      "[[525  60]\n",
      " [ 32 206]]\n",
      "X shape: (2969, 22)\n",
      "X shape: (3098, 22)\n",
      "X shape: (3775, 22)\n",
      "Evaluating on dev set of 945 examples\n",
      "Accuracy: 0.987301587302\n",
      "[[911   4]\n",
      " [  8  22]]\n",
      "X shape: (3150, 22)\n",
      "Evaluating on dev set of 801 examples\n",
      "Accuracy: 0.857677902622\n",
      "[[582  51]\n",
      " [ 63 105]]\n",
      "X shape: (3106, 22)\n",
      "X shape: (3686, 22)\n",
      "Evaluating on dev set of 910 examples\n",
      "Accuracy: 0.832967032967\n",
      "[[715  19]\n",
      " [133  43]]\n",
      "X shape: (3117, 22)\n",
      "Evaluating on dev set of 916 examples\n",
      "Accuracy: 0.970524017467\n",
      "[[888   5]\n",
      " [ 22   1]]\n",
      "X shape: (2930, 22)\n",
      "Evaluating on dev set of 678 examples\n",
      "Accuracy: 0.865781710914\n",
      "[[516  29]\n",
      " [ 62  71]]\n",
      "X shape: (3124, 22)\n",
      "Evaluating on dev set of 671 examples\n",
      "Accuracy: 0.685543964232\n",
      "[[376  58]\n",
      " [153  84]]\n",
      "X shape: (4236, 22)\n",
      "Evaluating on dev set of 968 examples\n",
      "Accuracy: 0.810950413223\n",
      "[[443 142]\n",
      " [ 41 342]]\n",
      "X shape: (3139, 22)\n",
      "X shape: (3184, 22)\n",
      "Evaluating on dev set of 779 examples\n",
      "Accuracy: 0.780487804878\n",
      "[[504  43]\n",
      " [128 104]]\n",
      "X shape: (2970, 22)\n",
      "Evaluating on dev set of 662 examples\n",
      "Accuracy: 0.904833836858\n",
      "[[592  11]\n",
      " [ 52   7]]\n",
      "X shape: (3131, 22)\n",
      "Evaluating on dev set of 689 examples\n",
      "Accuracy: 0.880986937591\n",
      "[[592  14]\n",
      " [ 68  15]]\n"
     ]
    }
   ],
   "source": [
    "max_precision = dict.fromkeys(stations)\n",
    "minimum_recall = dict.fromkeys(stations)\n",
    "threshold_max_precision = dict.fromkeys(stations)\n",
    "\n",
    "for station in stations:\n",
    "    data = project_env.load_split_bucket(station, target='y_60m', log=False)\n",
    "    data_empty = project_env.binarize(data, -1)\n",
    "    try:\n",
    "        logreg, scaler, dev_pred = run_logreg.do_logreg(data_empty, plot=False)\n",
    "        max_precision[station], minimum_recall[station], threshold_max_precision[station] = pr_curve_metrics(dev_pred, data_empty['dev'][1])\n",
    "    except ValueError:\n",
    "        pass"
   ]
  },
  {
   "cell_type": "code",
   "execution_count": 33,
   "metadata": {
    "collapsed": false,
    "scrolled": true
   },
   "outputs": [
    {
     "data": {
      "text/plain": [
       "{128: 0.048476454293628811,\n",
       " 151: 0.37569060773480661,\n",
       " 161: 0.17391304347826086,\n",
       " 174: 0.33606557377049179,\n",
       " 229: 0.0,\n",
       " 284: 0.0,\n",
       " 285: 0.003205128205128205,\n",
       " 297: 0.5,\n",
       " 320: 0.0,\n",
       " 368: 0.18292682926829268,\n",
       " 379: None,\n",
       " 382: 0.0,\n",
       " 383: 0.0,\n",
       " 402: 0.29102167182662536,\n",
       " 426: 0.10479041916167664,\n",
       " 432: 0.32917705735660846,\n",
       " 435: 0.33812949640287771,\n",
       " 442: None,\n",
       " 444: 0.45161290322580644,\n",
       " 446: None,\n",
       " 450: None,\n",
       " 457: None,\n",
       " 461: 0.52573529411764708,\n",
       " 470: 0.27777777777777779,\n",
       " 472: 0.55113636363636365,\n",
       " 477: None,\n",
       " 479: None,\n",
       " 482: 0.23636363636363636,\n",
       " 483: 0.14492753623188406,\n",
       " 490: None,\n",
       " 491: 0.729903536977492,\n",
       " 492: None,\n",
       " 494: None,\n",
       " 497: 0.42028985507246375,\n",
       " 504: 0.43360433604336046,\n",
       " 505: None,\n",
       " 507: 0.37004405286343611,\n",
       " 509: 0.11398963730569948,\n",
       " 511: 0.2662473794549266,\n",
       " 518: 0.44773175542406313,\n",
       " 519: 0.58146964856230032,\n",
       " 523: None,\n",
       " 527: 0.47424892703862659,\n",
       " 531: 0.19727891156462585,\n",
       " 540: 0.23099415204678361,\n",
       " 3002: 0.14663461538461539,\n",
       " 3141: 0.82334384858044163,\n",
       " 3255: None,\n",
       " 3263: 0.0}"
      ]
     },
     "execution_count": 33,
     "metadata": {},
     "output_type": "execute_result"
    }
   ],
   "source": [
    "max_precision\n",
    "\n",
    "#some have precision of 0 or none"
   ]
  },
  {
   "cell_type": "code",
   "execution_count": 34,
   "metadata": {
    "collapsed": false
   },
   "outputs": [
    {
     "data": {
      "text/plain": [
       "{128: 1.0,\n",
       " 151: 0.95774647887323938,\n",
       " 161: 1.0,\n",
       " 174: 0.95348837209302328,\n",
       " 229: nan,\n",
       " 284: nan,\n",
       " 285: 1.0,\n",
       " 297: 1.0,\n",
       " 320: nan,\n",
       " 368: 1.0,\n",
       " 379: None,\n",
       " 382: nan,\n",
       " 383: nan,\n",
       " 402: 0.97409326424870468,\n",
       " 426: 0.97222222222222221,\n",
       " 432: 0.95652173913043481,\n",
       " 435: 0.95918367346938771,\n",
       " 442: None,\n",
       " 444: 0.95238095238095233,\n",
       " 446: None,\n",
       " 450: None,\n",
       " 457: None,\n",
       " 461: 0.95973154362416102,\n",
       " 470: 0.95238095238095233,\n",
       " 472: 0.9509803921568627,\n",
       " 477: None,\n",
       " 479: None,\n",
       " 482: 1.0,\n",
       " 483: 0.95238095238095233,\n",
       " 490: None,\n",
       " 491: 0.95378151260504207,\n",
       " 492: None,\n",
       " 494: None,\n",
       " 497: 0.96666666666666667,\n",
       " 504: 0.95238095238095233,\n",
       " 505: None,\n",
       " 507: 0.95454545454545459,\n",
       " 509: 0.95652173913043481,\n",
       " 511: 0.95488721804511278,\n",
       " 518: 0.95780590717299574,\n",
       " 519: 0.95039164490861616,\n",
       " 523: None,\n",
       " 527: 0.95258620689655171,\n",
       " 531: 0.98305084745762716,\n",
       " 540: 0.95180722891566261,\n",
       " 3002: 0.953125,\n",
       " 3141: 0.95255474452554745,\n",
       " 3255: None,\n",
       " 3263: nan}"
      ]
     },
     "execution_count": 34,
     "metadata": {},
     "output_type": "execute_result"
    }
   ],
   "source": [
    "minimum_recall"
   ]
  },
  {
   "cell_type": "markdown",
   "metadata": {},
   "source": [
    "#### Closer look at ValueError"
   ]
  },
  {
   "cell_type": "code",
   "execution_count": 35,
   "metadata": {
    "collapsed": false
   },
   "outputs": [
    {
     "data": {
      "text/plain": [
       "\"ValueError with some stations (like 379) occurrs in do_logreg at line dev_X_scaled = scaler.transform(dev_X)\\nThis is because the result of load_split_bucket has nothing in the 'dev' or 'test' keys.\\nI couldn't figure out what was wrong trying to take the dataset through the process one step at a time.\""
      ]
     },
     "execution_count": 35,
     "metadata": {},
     "output_type": "execute_result"
    }
   ],
   "source": [
    "'''ValueError with some stations (like 379) occurrs in do_logreg at line dev_X_scaled = scaler.transform(dev_X)\n",
    "This is because the result of load_split_bucket has nothing in the 'dev' or 'test' keys.\n",
    "I couldn't figure out what was wrong trying to take the dataset through the process one step at a time.'''"
   ]
  },
  {
   "cell_type": "code",
   "execution_count": 36,
   "metadata": {
    "collapsed": false
   },
   "outputs": [
    {
     "data": {
      "text/plain": [
       "{'dev': (Empty DataFrame\n",
       "  Columns: [apparentTemperature, cloudCover, dewPoint, humidity, nearestStormDistance, ozone, precipIntensity, precipProbability, pressure, temperature, visibility, windBearing, windSpeed, num_bikes_available_scaled, num_bikes_disabled_scaled, num_docks_available_scaled, day_of_week, hour_of_day, is_weekend, traffic_0_speed_scrub, traffic_1_speed_scrub, traffic_2_speed_scrub]\n",
       "  Index: []\n",
       "  \n",
       "  [0 rows x 22 columns], Series([], Name: y, dtype: float64)),\n",
       " 'test': (Empty DataFrame\n",
       "  Columns: [apparentTemperature, cloudCover, dewPoint, humidity, nearestStormDistance, ozone, precipIntensity, precipProbability, pressure, temperature, visibility, windBearing, windSpeed, num_bikes_available_scaled, num_bikes_disabled_scaled, num_docks_available_scaled, day_of_week, hour_of_day, is_weekend, traffic_0_speed_scrub, traffic_1_speed_scrub, traffic_2_speed_scrub]\n",
       "  Index: []\n",
       "  \n",
       "  [0 rows x 22 columns], Series([], Name: y, dtype: float64)),\n",
       " 'train': (      apparentTemperature  cloudCover  dewPoint  humidity  \\\n",
       "  0                   66.57        0.55     60.79      0.82   \n",
       "  3                   66.34        0.12     59.97      0.80   \n",
       "  4                   66.34        0.12     59.97      0.80   \n",
       "  5                   66.34        0.12     59.97      0.80   \n",
       "  6                   67.74        0.16     60.53      0.78   \n",
       "  13                  69.99        0.11     61.69      0.75   \n",
       "  14                  70.39        0.20     61.42      0.73   \n",
       "  16                  71.44        0.23     61.64      0.71   \n",
       "  17                  73.72        0.70     62.28      0.68   \n",
       "  18                  73.72        0.70     62.28      0.68   \n",
       "  19                  74.78        0.64     62.78      0.66   \n",
       "  20                  74.78        0.64     62.78      0.66   \n",
       "  21                  74.78        0.64     62.78      0.66   \n",
       "  22                  75.23        0.37     63.01      0.66   \n",
       "  24                  75.23        0.37     63.01      0.66   \n",
       "  25                  76.25        0.39     63.36      0.64   \n",
       "  26                  76.25        0.39     63.36      0.64   \n",
       "  27                  75.92        0.23     62.40      0.63   \n",
       "  28                  75.92        0.23     62.40      0.63   \n",
       "  29                  77.12        0.27     62.92      0.62   \n",
       "  30                  77.12        0.27     62.92      0.62   \n",
       "  31                  77.12        0.27     62.92      0.62   \n",
       "  32                  76.68        0.50     61.82      0.60   \n",
       "  33                  76.68        0.50     61.82      0.60   \n",
       "  34                  76.68        0.50     61.82      0.60   \n",
       "  35                  77.33        0.51     62.13      0.60   \n",
       "  36                  77.33        0.51     62.13      0.60   \n",
       "  37                  77.33        0.51     62.13      0.60   \n",
       "  38                  78.04        0.25     62.26      0.58   \n",
       "  39                  78.04        0.25     62.26      0.58   \n",
       "  ...                   ...         ...       ...       ...   \n",
       "  4415                58.50        0.05     30.32      0.34   \n",
       "  4417                57.65        0.05     30.70      0.36   \n",
       "  4418                57.35        0.04     25.11      0.29   \n",
       "  4419                57.35        0.04     25.11      0.29   \n",
       "  4420                56.56        0.05     25.10      0.30   \n",
       "  4421                56.56        0.05     25.10      0.30   \n",
       "  4422                56.56        0.05     25.10      0.30   \n",
       "  4423                56.07        0.04     23.40      0.28   \n",
       "  4424                56.07        0.04     23.40      0.28   \n",
       "  4425                56.07        0.04     23.40      0.28   \n",
       "  4426                55.30        0.04     23.67      0.29   \n",
       "  4429                54.57        0.05     24.14      0.30   \n",
       "  4431                54.57        0.05     24.14      0.30   \n",
       "  4432                53.88        0.05     24.38      0.32   \n",
       "  4435                53.23        0.05     25.62      0.34   \n",
       "  4437                54.21        0.06     24.35      0.31   \n",
       "  4438                54.21        0.06     24.35      0.31   \n",
       "  4439                53.36        0.39     26.60      0.35   \n",
       "  4443                51.34        0.26     26.69      0.38   \n",
       "  4444                51.34        0.26     26.69      0.38   \n",
       "  4447                52.20        0.09     27.63      0.38   \n",
       "  4448                52.20        0.09     27.63      0.38   \n",
       "  4450                52.06        0.00     27.63      0.39   \n",
       "  4451                52.06        0.00     27.63      0.39   \n",
       "  4452                51.35        0.00     27.93      0.40   \n",
       "  4453                51.35        0.00     27.93      0.40   \n",
       "  4455                50.22        0.00     28.39      0.43   \n",
       "  4456                47.43        0.00     28.45      0.44   \n",
       "  4459                46.96        0.00     28.13      0.44   \n",
       "  4462                46.78        0.00     27.92      0.44   \n",
       "  \n",
       "        nearestStormDistance   ozone  precipIntensity  precipProbability  \\\n",
       "  0                    102.0  283.35              0.0                0.0   \n",
       "  3                     97.0  283.43              0.0                0.0   \n",
       "  4                     97.0  283.43              0.0                0.0   \n",
       "  5                     97.0  283.43              0.0                0.0   \n",
       "  6                     98.0  283.42              0.0                0.0   \n",
       "  13                    96.0  283.39              0.0                0.0   \n",
       "  14                    32.0  283.37              0.0                0.0   \n",
       "  16                    93.0  283.21              0.0                0.0   \n",
       "  17                     6.0  282.89              0.0                0.0   \n",
       "  18                     6.0  282.89              0.0                0.0   \n",
       "  19                    79.0  282.73              0.0                0.0   \n",
       "  20                    79.0  282.73              0.0                0.0   \n",
       "  21                    79.0  282.73              0.0                0.0   \n",
       "  22                    61.0  282.48              0.0                0.0   \n",
       "  24                    61.0  282.48              0.0                0.0   \n",
       "  25                    77.0  282.23              0.0                0.0   \n",
       "  26                    77.0  282.23              0.0                0.0   \n",
       "  27                    79.0  281.98              0.0                0.0   \n",
       "  28                    79.0  281.98              0.0                0.0   \n",
       "  29                    80.0  281.33              0.0                0.0   \n",
       "  30                    80.0  281.33              0.0                0.0   \n",
       "  31                    80.0  281.33              0.0                0.0   \n",
       "  32                    53.0  281.06              0.0                0.0   \n",
       "  33                    53.0  281.06              0.0                0.0   \n",
       "  34                    53.0  281.06              0.0                0.0   \n",
       "  35                    16.0  280.78              0.0                0.0   \n",
       "  36                    16.0  280.78              0.0                0.0   \n",
       "  37                    16.0  280.78              0.0                0.0   \n",
       "  38                    39.0  280.50              0.0                0.0   \n",
       "  39                    39.0  280.50              0.0                0.0   \n",
       "  ...                    ...     ...              ...                ...   \n",
       "  4415                 189.0  251.32              0.0                0.0   \n",
       "  4417                 188.0  251.19              0.0                0.0   \n",
       "  4418                 179.0  251.06              0.0                0.0   \n",
       "  4419                 179.0  251.06              0.0                0.0   \n",
       "  4420                 178.0  250.93              0.0                0.0   \n",
       "  4421                 178.0  250.93              0.0                0.0   \n",
       "  4422                 178.0  250.93              0.0                0.0   \n",
       "  4423                 181.0  250.82              0.0                0.0   \n",
       "  4424                 181.0  250.82              0.0                0.0   \n",
       "  4425                 181.0  250.82              0.0                0.0   \n",
       "  4426                 238.0  250.71              0.0                0.0   \n",
       "  4429                 198.0  250.61              0.0                0.0   \n",
       "  4431                 198.0  250.61              0.0                0.0   \n",
       "  4432                 179.0  250.50              0.0                0.0   \n",
       "  4435                 206.0  250.45              0.0                0.0   \n",
       "  4437                 192.0  254.19              0.0                0.0   \n",
       "  4438                 192.0  254.19              0.0                0.0   \n",
       "  4439                 197.0  254.12              0.0                0.0   \n",
       "  4443                 211.0  254.04              0.0                0.0   \n",
       "  4444                 211.0  254.04              0.0                0.0   \n",
       "  4447                 206.0  254.04              0.0                0.0   \n",
       "  4448                 206.0  254.04              0.0                0.0   \n",
       "  4450                 254.0  254.14              0.0                0.0   \n",
       "  4451                 254.0  254.14              0.0                0.0   \n",
       "  4452                 193.0  254.19              0.0                0.0   \n",
       "  4453                 193.0  254.19              0.0                0.0   \n",
       "  4455                 204.0  254.30              0.0                0.0   \n",
       "  4456                 200.0  254.36              0.0                0.0   \n",
       "  4459                 186.0  254.47              0.0                0.0   \n",
       "  4462                  20.0  254.60              0.0                0.0   \n",
       "  \n",
       "        pressure  temperature          ...            windSpeed  \\\n",
       "  0      1014.94        66.57          ...                 4.22   \n",
       "  3      1014.89        66.34          ...                 2.90   \n",
       "  4      1014.89        66.34          ...                 2.90   \n",
       "  5      1014.89        66.34          ...                 2.90   \n",
       "  6      1014.82        67.74          ...                 3.15   \n",
       "  13     1014.60        69.99          ...                 2.91   \n",
       "  14     1014.36        70.39          ...                 4.06   \n",
       "  16     1014.28        71.44          ...                 4.16   \n",
       "  17     1014.13        73.72          ...                 3.78   \n",
       "  18     1014.13        73.72          ...                 3.78   \n",
       "  19     1014.06        74.78          ...                 4.92   \n",
       "  20     1014.06        74.78          ...                 4.92   \n",
       "  21     1014.06        74.78          ...                 4.92   \n",
       "  22     1013.96        75.23          ...                 3.90   \n",
       "  24     1013.96        75.23          ...                 3.90   \n",
       "  25     1013.87        76.25          ...                 4.17   \n",
       "  26     1013.87        76.25          ...                 4.17   \n",
       "  27     1013.78        75.92          ...                 4.38   \n",
       "  28     1013.78        75.92          ...                 4.38   \n",
       "  29     1013.59        77.12          ...                 4.81   \n",
       "  30     1013.59        77.12          ...                 4.81   \n",
       "  31     1013.59        77.12          ...                 4.81   \n",
       "  32     1013.49        76.68          ...                 3.07   \n",
       "  33     1013.49        76.68          ...                 3.07   \n",
       "  34     1013.49        76.68          ...                 3.07   \n",
       "  35     1013.38        77.33          ...                 3.43   \n",
       "  36     1013.38        77.33          ...                 3.43   \n",
       "  37     1013.38        77.33          ...                 3.43   \n",
       "  38     1013.28        78.04          ...                 4.81   \n",
       "  39     1013.28        78.04          ...                 4.81   \n",
       "  ...        ...          ...          ...                  ...   \n",
       "  4415   1017.67        58.50          ...                 7.45   \n",
       "  4417   1017.84        57.65          ...                 7.48   \n",
       "  4418   1017.05        57.35          ...                 6.49   \n",
       "  4419   1017.05        57.35          ...                 6.49   \n",
       "  4420   1017.12        56.56          ...                 6.85   \n",
       "  4421   1017.12        56.56          ...                 6.85   \n",
       "  4422   1017.12        56.56          ...                 6.85   \n",
       "  4423   1017.01        56.07          ...                 5.78   \n",
       "  4424   1017.01        56.07          ...                 5.78   \n",
       "  4425   1017.01        56.07          ...                 5.78   \n",
       "  4426   1017.07        55.30          ...                 5.91   \n",
       "  4429   1017.22        54.57          ...                 5.47   \n",
       "  4431   1017.22        54.57          ...                 5.47   \n",
       "  4432   1017.28        53.88          ...                 5.68   \n",
       "  4435   1017.52        53.23          ...                 5.69   \n",
       "  4437   1017.40        54.21          ...                 4.12   \n",
       "  4438   1017.40        54.21          ...                 4.12   \n",
       "  4439   1017.45        53.36          ...                 4.36   \n",
       "  4443   1018.37        51.34          ...                 7.50   \n",
       "  4444   1018.37        51.34          ...                 7.50   \n",
       "  4447   1018.36        52.20          ...                 7.32   \n",
       "  4448   1018.36        52.20          ...                 7.32   \n",
       "  4450   1017.74        52.06          ...                 4.62   \n",
       "  4451   1017.74        52.06          ...                 4.62   \n",
       "  4452   1017.75        51.35          ...                 4.90   \n",
       "  4453   1017.75        51.35          ...                 4.90   \n",
       "  4455   1017.95        50.22          ...                 5.42   \n",
       "  4456   1018.03        49.57          ...                 5.50   \n",
       "  4459   1017.83        49.08          ...                 5.29   \n",
       "  4462   1017.72        48.86          ...                 5.16   \n",
       "  \n",
       "        num_bikes_available_scaled  num_bikes_disabled_scaled  \\\n",
       "  0                       0.016393                   0.000000   \n",
       "  3                       0.049180                   0.000000   \n",
       "  4                       0.065574                   0.000000   \n",
       "  5                       0.081967                   0.000000   \n",
       "  6                       0.049180                   0.000000   \n",
       "  13                      0.049180                   0.000000   \n",
       "  14                      0.032787                   0.000000   \n",
       "  16                      0.000000                   0.000000   \n",
       "  17                      0.016393                   0.000000   \n",
       "  18                      0.049180                   0.000000   \n",
       "  19                      0.049180                   0.000000   \n",
       "  20                      0.032787                   0.000000   \n",
       "  21                      0.065574                   0.000000   \n",
       "  22                      0.065574                   0.000000   \n",
       "  24                      0.065574                   0.000000   \n",
       "  25                      0.049180                   0.000000   \n",
       "  26                      0.065574                   0.000000   \n",
       "  27                      0.049180                   0.000000   \n",
       "  28                      0.032787                   0.000000   \n",
       "  29                      0.081967                   0.000000   \n",
       "  30                      0.049180                   0.000000   \n",
       "  31                      0.032787                   0.000000   \n",
       "  32                      0.016393                   0.000000   \n",
       "  33                      0.016393                   0.000000   \n",
       "  34                      0.016393                   0.000000   \n",
       "  35                      0.032787                   0.000000   \n",
       "  36                      0.049180                   0.000000   \n",
       "  37                      0.065574                   0.000000   \n",
       "  38                      0.049180                   0.000000   \n",
       "  39                      0.081967                   0.000000   \n",
       "  ...                          ...                        ...   \n",
       "  4415                    0.409836                   0.032787   \n",
       "  4417                    0.311475                   0.032787   \n",
       "  4418                    0.262295                   0.032787   \n",
       "  4419                    0.295082                   0.032787   \n",
       "  4420                    0.278689                   0.032787   \n",
       "  4421                    0.295082                   0.032787   \n",
       "  4422                    0.278689                   0.032787   \n",
       "  4423                    0.295082                   0.032787   \n",
       "  4424                    0.327869                   0.032787   \n",
       "  4425                    0.311475                   0.032787   \n",
       "  4426                    0.295082                   0.032787   \n",
       "  4429                    0.311475                   0.032787   \n",
       "  4431                    0.295082                   0.032787   \n",
       "  4432                    0.278689                   0.032787   \n",
       "  4435                    0.327869                   0.032787   \n",
       "  4437                    0.278689                   0.032787   \n",
       "  4438                    0.262295                   0.032787   \n",
       "  4439                    0.278689                   0.032787   \n",
       "  4443                    0.262295                   0.032787   \n",
       "  4444                    0.278689                   0.032787   \n",
       "  4447                    0.180328                   0.032787   \n",
       "  4448                    0.163934                   0.032787   \n",
       "  4450                    0.114754                   0.032787   \n",
       "  4451                    0.114754                   0.032787   \n",
       "  4452                    0.098361                   0.032787   \n",
       "  4453                    0.081967                   0.032787   \n",
       "  4455                    0.081967                   0.032787   \n",
       "  4456                    0.114754                   0.032787   \n",
       "  4459                    0.098361                   0.032787   \n",
       "  4462                    0.098361                   0.032787   \n",
       "  \n",
       "        num_docks_available_scaled  day_of_week  hour_of_day  is_weekend  \\\n",
       "  0                       0.672131            0     9.816667         0.0   \n",
       "  3                       0.639344            0    10.050000         0.0   \n",
       "  4                       0.622951            0    10.066667         0.0   \n",
       "  5                       0.606557            0    10.233333         0.0   \n",
       "  6                       0.639344            0    10.266667         0.0   \n",
       "  13                      0.639344            0    10.866667         0.0   \n",
       "  14                      0.655738            0    11.116667         0.0   \n",
       "  16                      0.688525            0    11.283333         0.0   \n",
       "  17                      0.672131            0    11.766667         0.0   \n",
       "  18                      0.639344            0    11.883333         0.0   \n",
       "  19                      0.639344            0    12.050000         0.0   \n",
       "  20                      0.655738            0    12.100000         0.0   \n",
       "  21                      0.622951            0    12.166667         0.0   \n",
       "  22                      0.622951            0    12.300000         0.0   \n",
       "  24                      0.622951            0    12.483333         0.0   \n",
       "  25                      0.639344            0    12.533333         0.0   \n",
       "  26                      0.622951            0    12.616667         0.0   \n",
       "  27                      0.639344            0    12.816667         0.0   \n",
       "  28                      0.655738            0    12.900000         0.0   \n",
       "  29                      0.606557            0    13.050000         0.0   \n",
       "  30                      0.639344            0    13.116667         0.0   \n",
       "  31                      0.655738            0    13.233333         0.0   \n",
       "  32                      0.672131            0    13.283333         0.0   \n",
       "  33                      0.672131            0    13.366667         0.0   \n",
       "  34                      0.672131            0    13.483333         0.0   \n",
       "  35                      0.655738            0    13.550000         0.0   \n",
       "  36                      0.639344            0    13.650000         0.0   \n",
       "  37                      0.622951            0    13.716667         0.0   \n",
       "  38                      0.639344            0    13.816667         0.0   \n",
       "  39                      0.606557            0    13.966667         0.0   \n",
       "  ...                          ...          ...          ...         ...   \n",
       "  4415                    0.245902            6    16.350000         1.0   \n",
       "  4417                    0.344262            6    16.733333         1.0   \n",
       "  4418                    0.393443            6    16.800000         1.0   \n",
       "  4419                    0.360656            6    16.966667         1.0   \n",
       "  4420                    0.377049            6    17.000000         1.0   \n",
       "  4421                    0.360656            6    17.100000         1.0   \n",
       "  4422                    0.377049            6    17.166667         1.0   \n",
       "  4423                    0.360656            6    17.300000         1.0   \n",
       "  4424                    0.327869            6    17.383333         1.0   \n",
       "  4425                    0.344262            6    17.466667         1.0   \n",
       "  4426                    0.360656            6    17.533333         1.0   \n",
       "  4429                    0.344262            6    17.783333         1.0   \n",
       "  4431                    0.360656            6    17.950000         1.0   \n",
       "  4432                    0.377049            6    18.000000         1.0   \n",
       "  4435                    0.327869            6    18.366667         1.0   \n",
       "  4437                    0.377049            6    18.533333         1.0   \n",
       "  4438                    0.393443            6    18.683333         1.0   \n",
       "  4439                    0.377049            6    18.816667         1.0   \n",
       "  4443                    0.393443            6    19.566667         1.0   \n",
       "  4444                    0.377049            6    19.616667         1.0   \n",
       "  4447                    0.475410            6    19.833333         1.0   \n",
       "  4448                    0.491803            6    19.950000         1.0   \n",
       "  4450                    0.540984            6    20.650000         1.0   \n",
       "  4451                    0.540984            6    20.666667         1.0   \n",
       "  4452                    0.557377            6    20.883333         1.0   \n",
       "  4453                    0.573770            6    20.950000         1.0   \n",
       "  4455                    0.573770            6    21.466667         1.0   \n",
       "  4456                    0.540984            6    21.500000         1.0   \n",
       "  4459                    0.557377            6    22.033333         1.0   \n",
       "  4462                    0.557377            6    22.516667         1.0   \n",
       "  \n",
       "        traffic_0_speed_scrub  traffic_1_speed_scrub  traffic_2_speed_scrub  \n",
       "  0                 26.981267              21.590095              26.976239  \n",
       "  3                 19.880000              21.590095              34.180000  \n",
       "  4                 21.130000              21.590095              36.040000  \n",
       "  5                 26.981267              21.590095              26.976239  \n",
       "  6                 26.981267              21.590095              26.976239  \n",
       "  13                27.960000              21.590095              41.010000  \n",
       "  14                26.100000              21.590095              37.900000  \n",
       "  16                26.981267              21.590095              26.976239  \n",
       "  17                24.850000              21.590095              42.250000  \n",
       "  18                22.990000              21.590095              42.250000  \n",
       "  19                26.720000              21.590095              39.150000  \n",
       "  20                26.720000              21.590095              37.900000  \n",
       "  21                34.800000              21.590095              39.770000  \n",
       "  22                26.981267              21.590095              26.976239  \n",
       "  24                26.981267              21.590095              26.976239  \n",
       "  25                26.981267              21.590095              26.976239  \n",
       "  26                27.960000              21.590095              41.010000  \n",
       "  27                32.930000              21.590095              39.770000  \n",
       "  28                26.981267              21.590095              26.976239  \n",
       "  29                26.981267              21.590095              26.976239  \n",
       "  30                26.981267              21.590095              26.976239  \n",
       "  31                26.981267              21.590095              26.976239  \n",
       "  32                26.981267              21.590095              26.976239  \n",
       "  33                29.200000              21.590095              37.900000  \n",
       "  34                26.981267              21.590095              26.976239  \n",
       "  35                34.800000              21.590095              39.150000  \n",
       "  36                32.930000              21.590095              37.280000  \n",
       "  37                26.981267              21.590095              26.976239  \n",
       "  38                26.981267              21.590095              26.976239  \n",
       "  39                26.981267              21.590095              26.976239  \n",
       "  ...                     ...                    ...                    ...  \n",
       "  4415              26.981267              21.590095              26.976239  \n",
       "  4417              26.981267              21.590095              26.976239  \n",
       "  4418              26.981267              21.590095              26.976239  \n",
       "  4419              26.981267              21.590095              26.976239  \n",
       "  4420              26.981267              21.590095              26.976239  \n",
       "  4421              26.981267              21.590095              26.976239  \n",
       "  4422              26.981267              21.590095              26.976239  \n",
       "  4423              26.981267              21.590095              26.976239  \n",
       "  4424              26.981267              21.590095              26.976239  \n",
       "  4425              26.981267              21.590095              26.976239  \n",
       "  4426              26.981267              21.590095              26.976239  \n",
       "  4429              26.981267              21.590095              26.976239  \n",
       "  4431              26.981267              21.590095              26.976239  \n",
       "  4432              26.981267              21.590095              26.976239  \n",
       "  4435              26.981267              21.590095              26.976239  \n",
       "  4437              26.981267              21.590095              26.976239  \n",
       "  4438              26.981267              21.590095              26.976239  \n",
       "  4439              26.981267              21.590095              26.976239  \n",
       "  4443              26.981267              21.590095              26.976239  \n",
       "  4444              26.981267              21.590095              26.976239  \n",
       "  4447              26.981267              21.590095              26.976239  \n",
       "  4448              26.981267              21.590095              26.976239  \n",
       "  4450              26.981267              21.590095              26.976239  \n",
       "  4451              26.981267              21.590095              26.976239  \n",
       "  4452              26.981267              21.590095              26.976239  \n",
       "  4453              26.981267              21.590095              26.976239  \n",
       "  4455              26.981267              21.590095              26.976239  \n",
       "  4456              26.981267              21.590095              26.976239  \n",
       "  4459              26.981267              21.590095              26.976239  \n",
       "  4462              26.981267              21.590095              26.976239  \n",
       "  \n",
       "  [3175 rows x 22 columns], 0      -1.0\n",
       "  3      -1.0\n",
       "  4      -1.0\n",
       "  5      -1.0\n",
       "  6      -1.0\n",
       "  13     -1.0\n",
       "  14     -1.0\n",
       "  16     -1.0\n",
       "  17     -1.0\n",
       "  18     -1.0\n",
       "  19      0.0\n",
       "  20     -1.0\n",
       "  21     -1.0\n",
       "  22     -1.0\n",
       "  24     -1.0\n",
       "  25     -1.0\n",
       "  26     -1.0\n",
       "  27     -1.0\n",
       "  28      0.0\n",
       "  29      0.0\n",
       "  30      0.0\n",
       "  31      0.0\n",
       "  32      0.0\n",
       "  33      0.0\n",
       "  34      0.0\n",
       "  35      0.0\n",
       "  36      0.0\n",
       "  37      0.0\n",
       "  38      0.0\n",
       "  39      0.0\n",
       "         ... \n",
       "  4415    0.0\n",
       "  4417    0.0\n",
       "  4418    0.0\n",
       "  4419    0.0\n",
       "  4420    0.0\n",
       "  4421    0.0\n",
       "  4422    0.0\n",
       "  4423    0.0\n",
       "  4424    0.0\n",
       "  4425    0.0\n",
       "  4426    0.0\n",
       "  4429    0.0\n",
       "  4431    0.0\n",
       "  4432    0.0\n",
       "  4435    0.0\n",
       "  4437    0.0\n",
       "  4438    0.0\n",
       "  4439    0.0\n",
       "  4443    0.0\n",
       "  4444    0.0\n",
       "  4447    0.0\n",
       "  4448    0.0\n",
       "  4450    0.0\n",
       "  4451    0.0\n",
       "  4452    0.0\n",
       "  4453    0.0\n",
       "  4455    0.0\n",
       "  4456    0.0\n",
       "  4459    0.0\n",
       "  4462    0.0\n",
       "  Name: y, dtype: float64)}"
      ]
     },
     "execution_count": 36,
     "metadata": {},
     "output_type": "execute_result"
    }
   ],
   "source": [
    "data = project_env.load_split_bucket(379, target='y_60m', log=False) #up here, dev and test are empty\n",
    "data"
   ]
  },
  {
   "cell_type": "code",
   "execution_count": null,
   "metadata": {
    "collapsed": false
   },
   "outputs": [],
   "source": [
    "df = bucket_y_variable(load(229, mode='train', log=True), target = 'y_60m', threshold_empty = .1, threshold_full = .9, plot=True)"
   ]
  }
 ],
 "metadata": {
  "anaconda-cloud": {},
  "kernelspec": {
   "display_name": "Python [Root]",
   "language": "python",
   "name": "Python [Root]"
  },
  "language_info": {
   "codemirror_mode": {
    "name": "ipython",
    "version": 3
   },
   "file_extension": ".py",
   "mimetype": "text/x-python",
   "name": "python",
   "nbconvert_exporter": "python",
   "pygments_lexer": "ipython3",
   "version": "3.5.2"
  }
 },
 "nbformat": 4,
 "nbformat_minor": 0
}
