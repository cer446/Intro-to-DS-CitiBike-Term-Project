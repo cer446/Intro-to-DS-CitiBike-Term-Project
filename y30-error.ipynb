{
 "cells": [
  {
   "cell_type": "code",
   "execution_count": 1,
   "metadata": {
    "collapsed": true
   },
   "outputs": [],
   "source": [
    "# Load data\n",
    "import json\n",
    "import numpy as np\n",
    "import pandas as pd\n",
    "import matplotlib.pyplot as plt\n",
    "import sklearn.preprocessing\n",
    "from sklearn.linear_model import LogisticRegression\n",
    "import project_env\n",
    "from imp import reload\n",
    "import math\n",
    "import os\n",
    "import run_logreg\n",
    "import project_env\n",
    "from sklearn.metrics import precision_recall_curve\n",
    "\n",
    "#reload(project_env)\n",
    "#reload(run_logreg)\n",
    "\n",
    "%matplotlib inline\n"
   ]
  },
  {
   "cell_type": "code",
   "execution_count": 2,
   "metadata": {
    "collapsed": true
   },
   "outputs": [],
   "source": [
    "class Logistic_Regression_Specs():\n",
    "    def __init__(self, split_data, stationid, target, empty=True, squares=False, num_append=0, C=1e5, penalty='l2'):\n",
    "        self.stationid = stationid\n",
    "        self.target = target\n",
    "        self.split_data = split_data\n",
    "        self.empty = empty\n",
    "        self.squares = squares\n",
    "        self.num_append = num_append\n",
    "        self.penalty = penalty\n",
    "        self.C = C\n",
    "\n",
    "def construct_key(spec):\n",
    "    key = ''\n",
    "    if spec.target != 'y_60m':\n",
    "        key = key + spec.target + ' '\n",
    "    if spec.squares == True:\n",
    "        key = key + 'squares; '\n",
    "    if spec.num_append > 0:\n",
    "        key = key + 'append: ' + str(spec.num_append) + '; '\n",
    "    key = key + 'penalty: ' + spec.penalty + '; '\n",
    "    key = key + 'c: ' + str(spec.C) + '; '\n",
    "    return key\n",
    "\n",
    "def run_models(list_of_specs):\n",
    "    '''Creates a dictionary of models based on list of specs objects'''\n",
    "    \n",
    "    logregs = {}\n",
    "    scalers = {}\n",
    "    predictions = {}\n",
    "    specs = {}\n",
    "    \n",
    "    for spec in list_of_specs:\n",
    "        logregs[construct_key(spec)], scalers[construct_key(spec)], predictions[construct_key(spec)] = run_logreg.do_logreg(spec, plot = False) \n",
    "        specs[(construct_key(spec))] = spec\n",
    "    return logregs, scalers, predictions, specs\n",
    "\n",
    "def pr_curve(predictions, true_value, target_recall=0.95):\n",
    "    curve = precision_recall_curve(true_value, predictions)\n",
    "    precision, recall, thresholds = curve\n",
    "    mp, mr, mt = project_env.max_precision_for_recall(curve, target_recall=target_recall)\n",
    "    return mp, mr, mt\n"
   ]
  },
  {
   "cell_type": "code",
   "execution_count": 3,
   "metadata": {
    "collapsed": false
   },
   "outputs": [
    {
     "name": "stdout",
     "output_type": "stream",
     "text": [
      "done loading\n"
     ]
    }
   ],
   "source": [
    "# test loading data\n",
    "data = project_env.load_split_bucket(519, target='y_60m', log=False)\n",
    "print('done loading')"
   ]
  },
  {
   "cell_type": "code",
   "execution_count": 4,
   "metadata": {
    "collapsed": false
   },
   "outputs": [
    {
     "name": "stdout",
     "output_type": "stream",
     "text": [
      "Training set X shape: (5204, 22)\n",
      "Trained on train set of 5204 examples\n",
      "Evaluating on dev set of 968 examples\n",
      "Accuracy: 0.855371900826\n",
      "[[720  81]\n",
      " [ 59 108]]\n",
      "Training set X shape: (5204, 22)\n",
      "Trained on train set of 5204 examples\n",
      "Evaluating on dev set of 968 examples\n",
      "Accuracy: 0.780991735537\n",
      "[[626 175]\n",
      " [ 37 130]]\n"
     ]
    }
   ],
   "source": [
    "station_id = '519'\n",
    "\n",
    "data = project_env.load_split_bucket(station_id, target='y_30m', log=False)\n",
    "data_empty = project_env.binarize(data, -1)\n",
    "gold_labels_30_e = data_empty['test'][1]\n",
    "\n",
    "data = project_env.load_split_bucket(station_id, target='y_60m', log=False)\n",
    "data_empty = project_env.binarize(data, -1)\n",
    "gold_labels_60_e = data_empty['test'][1]\n",
    "\n",
    "spec_30_e = Logistic_Regression_Specs(data, station_id, 'y_30m', empty=True, squares=False, num_append=0, C=0.01, penalty='l1')\n",
    "spec_60_e = Logistic_Regression_Specs(data, station_id, 'y_60m', empty=True, squares=False, num_append=0, C=100, penalty='l1')\n",
    "\n",
    "logregs_30_e, scalers_30_e, predictions_30_e = run_logreg.do_logreg(spec_30_e, plot=False, merge_train_dev=True)\n",
    "logregs_60_e, scalers_60_e, predictions_60_e = run_logreg.do_logreg(spec_60_e, plot=False, merge_train_dev=True)\n"
   ]
  },
  {
   "cell_type": "code",
   "execution_count": 5,
   "metadata": {
    "collapsed": false
   },
   "outputs": [
    {
     "name": "stdout",
     "output_type": "stream",
     "text": [
      "predictions_60_e = (968,)\n",
      "gold_labels_60_e = (968,)\n",
      "predictions_30_e = (968,)\n",
      "gold_labels_30_e = (981,)\n"
     ]
    }
   ],
   "source": [
    "print('predictions_60_e = ' + str(predictions_60_e.shape))\n",
    "print('gold_labels_60_e = ' + str(gold_labels_60_e.shape))\n",
    "\n",
    "print('predictions_30_e = ' + str(predictions_30_e.shape))\n",
    "print('gold_labels_30_e = ' + str(gold_labels_30_e.shape))\n"
   ]
  },
  {
   "cell_type": "code",
   "execution_count": null,
   "metadata": {
    "collapsed": true
   },
   "outputs": [],
   "source": []
  }
 ],
 "metadata": {
  "anaconda-cloud": {},
  "kernelspec": {
   "display_name": "Python [conda root]",
   "language": "python",
   "name": "conda-root-py"
  },
  "language_info": {
   "codemirror_mode": {
    "name": "ipython",
    "version": 3
   },
   "file_extension": ".py",
   "mimetype": "text/x-python",
   "name": "python",
   "nbconvert_exporter": "python",
   "pygments_lexer": "ipython3",
   "version": "3.5.2"
  }
 },
 "nbformat": 4,
 "nbformat_minor": 1
}
