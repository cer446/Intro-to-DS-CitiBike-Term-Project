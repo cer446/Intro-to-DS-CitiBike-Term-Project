{
 "cells": [
  {
   "cell_type": "code",
   "execution_count": 110,
   "metadata": {
    "collapsed": false
   },
   "outputs": [],
   "source": [
    "# Load data\n",
    "import numpy as np\n",
    "import pandas as pd\n",
    "import matplotlib.pyplot as plt\n",
    "import sklearn.preprocessing\n",
    "from sklearn.linear_model import LogisticRegression\n",
    "import project_env\n",
    "from imp import reload\n",
    "\n",
    "reload(project_env)\n",
    "\n",
    "%matplotlib inline"
   ]
  },
  {
   "cell_type": "markdown",
   "metadata": {},
   "source": [
    "**The `project_env` package**\n",
    "\n",
    "I wrote this python package so loading and working with data is quicker and easier. There are several convenience methods:\n",
    "* `load_split_bucket(station_id)` - Load data for a bike station that's already pre-split into train, dev and test. Includes doing data cleaning and thresholding. The output is a dictionary:\n",
    "```\n",
    "  {\n",
    "    'train': (DataFrame, Series),\n",
    "    'dev': (DataFrame, Series),\n",
    "    'test': (DataFrame, Series),\n",
    "    'train_times': Series,\n",
    "    'dev_times': Series,\n",
    "    'test_times': Series\n",
    "  }\n",
    "```\n",
    "  Each `(DataFrame, Series)` tuple is the feature values and target variables, respectively.\n",
    "  \n",
    "  The `train_times` key contains the predicted time (i.e. 11 Nov, 18:30 PM)\n",
    "* `merge_training(split, df)` - Given two outputs of `load()`, append the training set of the second argument to the training set of the first. This is useful when trying to load data from multiple stations, but testing on one station only.\n",
    "* `binarize(data, target)` - Given output of `load()` and either 1 or -1, binarize the target variable to 0 or 1. Whatever class is in the second argument will become '1' in the new data."
   ]
  },
  {
   "cell_type": "code",
   "execution_count": 111,
   "metadata": {
    "collapsed": false
   },
   "outputs": [],
   "source": [
    "data = project_env.load_split_bucket(519, target='y_60m', log=False)"
   ]
  },
  {
   "cell_type": "code",
   "execution_count": 112,
   "metadata": {
    "collapsed": false
   },
   "outputs": [
    {
     "name": "stdout",
     "output_type": "stream",
     "text": [
      "22\n",
      "Index(['apparentTemperature', 'cloudCover', 'dewPoint', 'humidity',\n",
      "       'nearestStormDistance', 'ozone', 'precipIntensity', 'precipProbability',\n",
      "       'pressure', 'temperature', 'visibility', 'windBearing', 'windSpeed',\n",
      "       'num_bikes_available_scaled', 'num_bikes_disabled_scaled',\n",
      "       'num_docks_available_scaled', 'day_of_week', 'hour_of_day',\n",
      "       'is_weekend', 'traffic_0_speed_scrub', 'traffic_1_speed_scrub',\n",
      "       'traffic_2_speed_scrub'],\n",
      "      dtype='object')\n"
     ]
    }
   ],
   "source": [
    "training_X, training_y = data['train']\n",
    "\n",
    "print(len(training_X.columns))\n",
    "print(training_X.columns)\n",
    "#training_X.describe().T"
   ]
  },
  {
   "cell_type": "code",
   "execution_count": 113,
   "metadata": {
    "collapsed": false
   },
   "outputs": [],
   "source": [
    "def do_logreg(split_data, squares=False, plot=True):\n",
    "    train_X, train_y = split_data['train']\n",
    "    dev_X, dev_y = split_data['dev']\n",
    "    \n",
    "    logreg = LogisticRegression(C=1e5)\n",
    "    scaler = sklearn.preprocessing.StandardScaler()\n",
    "    train_X_scaled = scaler.fit_transform(train_X)\n",
    "    \n",
    "    if squares:\n",
    "        train_X_scaled = np.concatenate([\n",
    "                train_X_scaled,\n",
    "                np.square(train_X_scaled)], axis=1)\n",
    "    print('X shape:', train_X_scaled.shape)\n",
    "    \n",
    "    #print(pd.DataFrame(train_X_scaled).describe().T)\n",
    "    logreg.fit(train_X_scaled, train_y)\n",
    "\n",
    "    dev_X_scaled = scaler.transform(dev_X)\n",
    "    if squares:\n",
    "        dev_X_scaled = np.concatenate([\n",
    "                dev_X_scaled,\n",
    "                np.square(dev_X_scaled)], axis=1)\n",
    "        \n",
    "    dev_pred = logreg.predict(dev_X_scaled)\n",
    "    dev_decision = logreg.predict_proba(dev_X_scaled)[:,1]\n",
    "    acc = sklearn.metrics.accuracy_score(dev_y, dev_pred)\n",
    "    print('Evaluating on dev set of {} examples'.format(len(dev_y)))\n",
    "    print('Accuracy:', acc)\n",
    "    \n",
    "    print(sklearn.metrics.confusion_matrix(dev_y, dev_pred))\n",
    "\n",
    "    if plot:\n",
    "        plt.figure()\n",
    "        plt.plot(dev_y.as_matrix()[100:500], 'b')\n",
    "        plt.plot(dev_pred[100:500], 'g')\n",
    "        plt.plot(0.5 * (dev_y.as_matrix() - dev_pred)[100:500], 'r')\n",
    "        plt.ylim(-3, 3)\n",
    "        plt.show()\n",
    "    \n",
    "    return logreg, scaler, dev_decision"
   ]
  },
  {
   "cell_type": "code",
   "execution_count": 114,
   "metadata": {
    "collapsed": false
   },
   "outputs": [
    {
     "name": "stdout",
     "output_type": "stream",
     "text": [
      "X shape: (4236, 22)\n",
      "Evaluating on dev set of 968 examples\n",
      "Accuracy: 0.810950413223\n",
      "[[443 142]\n",
      " [ 41 342]]\n"
     ]
    },
    {
     "data": {
      "image/png": "[encoded data removed]",
      "text/plain": [
       "<matplotlib.figure.Figure at 0x1099ff2e8>"
      ]
     },
     "metadata": {},
     "output_type": "display_data"
    }
   ],
   "source": [
    "data_empty = project_env.binarize(data, -1)\n",
    "logreg, scaler, dev_pred = do_logreg(data_empty)"
   ]
  },
  {
   "cell_type": "code",
   "execution_count": 115,
   "metadata": {
    "collapsed": false
   },
   "outputs": [
    {
     "data": {
      "text/html": [
       "<div>\n",
       "<table border=\"1\" class=\"dataframe\">\n",
       "  <thead>\n",
       "    <tr style=\"text-align: right;\">\n",
       "      <th></th>\n",
       "      <th>count</th>\n",
       "      <th>mean</th>\n",
       "      <th>std</th>\n",
       "      <th>min</th>\n",
       "      <th>25%</th>\n",
       "      <th>50%</th>\n",
       "      <th>75%</th>\n",
       "      <th>max</th>\n",
       "    </tr>\n",
       "  </thead>\n",
       "  <tbody>\n",
       "    <tr>\n",
       "      <th>apparentTemperature</th>\n",
       "      <td>3470.0</td>\n",
       "      <td>56.461121</td>\n",
       "      <td>11.135650</td>\n",
       "      <td>30.55</td>\n",
       "      <td>49.350000</td>\n",
       "      <td>56.000000</td>\n",
       "      <td>63.910000</td>\n",
       "      <td>84.620000</td>\n",
       "    </tr>\n",
       "    <tr>\n",
       "      <th>cloudCover</th>\n",
       "      <td>3470.0</td>\n",
       "      <td>0.312738</td>\n",
       "      <td>0.274608</td>\n",
       "      <td>0.00</td>\n",
       "      <td>0.100000</td>\n",
       "      <td>0.240000</td>\n",
       "      <td>0.440000</td>\n",
       "      <td>1.000000</td>\n",
       "    </tr>\n",
       "    <tr>\n",
       "      <th>dewPoint</th>\n",
       "      <td>3470.0</td>\n",
       "      <td>43.642150</td>\n",
       "      <td>11.880622</td>\n",
       "      <td>23.02</td>\n",
       "      <td>34.392500</td>\n",
       "      <td>40.455000</td>\n",
       "      <td>54.600000</td>\n",
       "      <td>68.490000</td>\n",
       "    </tr>\n",
       "    <tr>\n",
       "      <th>humidity</th>\n",
       "      <td>3470.0</td>\n",
       "      <td>0.617467</td>\n",
       "      <td>0.147458</td>\n",
       "      <td>0.28</td>\n",
       "      <td>0.500000</td>\n",
       "      <td>0.610000</td>\n",
       "      <td>0.710000</td>\n",
       "      <td>0.950000</td>\n",
       "    </tr>\n",
       "    <tr>\n",
       "      <th>nearestStormDistance</th>\n",
       "      <td>3470.0</td>\n",
       "      <td>88.269741</td>\n",
       "      <td>136.935464</td>\n",
       "      <td>0.00</td>\n",
       "      <td>8.000000</td>\n",
       "      <td>24.000000</td>\n",
       "      <td>114.000000</td>\n",
       "      <td>1011.000000</td>\n",
       "    </tr>\n",
       "    <tr>\n",
       "      <th>ozone</th>\n",
       "      <td>3470.0</td>\n",
       "      <td>279.265147</td>\n",
       "      <td>14.469534</td>\n",
       "      <td>246.79</td>\n",
       "      <td>270.082500</td>\n",
       "      <td>276.490000</td>\n",
       "      <td>288.480000</td>\n",
       "      <td>315.310000</td>\n",
       "    </tr>\n",
       "    <tr>\n",
       "      <th>precipIntensity</th>\n",
       "      <td>3470.0</td>\n",
       "      <td>0.000567</td>\n",
       "      <td>0.004458</td>\n",
       "      <td>0.00</td>\n",
       "      <td>0.000000</td>\n",
       "      <td>0.000000</td>\n",
       "      <td>0.000000</td>\n",
       "      <td>0.115700</td>\n",
       "    </tr>\n",
       "    <tr>\n",
       "      <th>precipProbability</th>\n",
       "      <td>3470.0</td>\n",
       "      <td>0.026591</td>\n",
       "      <td>0.147329</td>\n",
       "      <td>0.00</td>\n",
       "      <td>0.000000</td>\n",
       "      <td>0.000000</td>\n",
       "      <td>0.000000</td>\n",
       "      <td>1.000000</td>\n",
       "    </tr>\n",
       "    <tr>\n",
       "      <th>pressure</th>\n",
       "      <td>3470.0</td>\n",
       "      <td>1015.490049</td>\n",
       "      <td>34.758484</td>\n",
       "      <td>419.85</td>\n",
       "      <td>1012.520000</td>\n",
       "      <td>1018.450000</td>\n",
       "      <td>1023.070000</td>\n",
       "      <td>1031.010000</td>\n",
       "    </tr>\n",
       "    <tr>\n",
       "      <th>temperature</th>\n",
       "      <td>3470.0</td>\n",
       "      <td>57.311816</td>\n",
       "      <td>10.017919</td>\n",
       "      <td>36.75</td>\n",
       "      <td>49.990000</td>\n",
       "      <td>56.000000</td>\n",
       "      <td>63.910000</td>\n",
       "      <td>83.620000</td>\n",
       "    </tr>\n",
       "    <tr>\n",
       "      <th>visibility</th>\n",
       "      <td>3470.0</td>\n",
       "      <td>9.571101</td>\n",
       "      <td>0.913014</td>\n",
       "      <td>3.03</td>\n",
       "      <td>9.620000</td>\n",
       "      <td>10.000000</td>\n",
       "      <td>10.000000</td>\n",
       "      <td>10.000000</td>\n",
       "    </tr>\n",
       "    <tr>\n",
       "      <th>windBearing</th>\n",
       "      <td>3470.0</td>\n",
       "      <td>247.557925</td>\n",
       "      <td>88.530741</td>\n",
       "      <td>0.00</td>\n",
       "      <td>214.000000</td>\n",
       "      <td>277.000000</td>\n",
       "      <td>312.000000</td>\n",
       "      <td>359.000000</td>\n",
       "    </tr>\n",
       "    <tr>\n",
       "      <th>windSpeed</th>\n",
       "      <td>3470.0</td>\n",
       "      <td>6.627948</td>\n",
       "      <td>3.202902</td>\n",
       "      <td>0.07</td>\n",
       "      <td>4.282500</td>\n",
       "      <td>6.180000</td>\n",
       "      <td>8.447500</td>\n",
       "      <td>16.980000</td>\n",
       "    </tr>\n",
       "    <tr>\n",
       "      <th>num_bikes_available_scaled</th>\n",
       "      <td>3470.0</td>\n",
       "      <td>0.410082</td>\n",
       "      <td>0.174589</td>\n",
       "      <td>0.00</td>\n",
       "      <td>0.278689</td>\n",
       "      <td>0.459016</td>\n",
       "      <td>0.557377</td>\n",
       "      <td>0.639344</td>\n",
       "    </tr>\n",
       "    <tr>\n",
       "      <th>num_bikes_disabled_scaled</th>\n",
       "      <td>3470.0</td>\n",
       "      <td>0.016762</td>\n",
       "      <td>0.017471</td>\n",
       "      <td>0.00</td>\n",
       "      <td>0.000000</td>\n",
       "      <td>0.016393</td>\n",
       "      <td>0.032787</td>\n",
       "      <td>0.081967</td>\n",
       "    </tr>\n",
       "    <tr>\n",
       "      <th>num_docks_available_scaled</th>\n",
       "      <td>3470.0</td>\n",
       "      <td>0.212401</td>\n",
       "      <td>0.173745</td>\n",
       "      <td>0.00</td>\n",
       "      <td>0.065574</td>\n",
       "      <td>0.163934</td>\n",
       "      <td>0.344262</td>\n",
       "      <td>0.639344</td>\n",
       "    </tr>\n",
       "    <tr>\n",
       "      <th>day_of_week</th>\n",
       "      <td>3470.0</td>\n",
       "      <td>2.695677</td>\n",
       "      <td>1.933951</td>\n",
       "      <td>0.00</td>\n",
       "      <td>1.000000</td>\n",
       "      <td>3.000000</td>\n",
       "      <td>4.000000</td>\n",
       "      <td>6.000000</td>\n",
       "    </tr>\n",
       "    <tr>\n",
       "      <th>hour_of_day</th>\n",
       "      <td>3470.0</td>\n",
       "      <td>14.204006</td>\n",
       "      <td>4.585105</td>\n",
       "      <td>0.00</td>\n",
       "      <td>10.437500</td>\n",
       "      <td>14.300000</td>\n",
       "      <td>17.879167</td>\n",
       "      <td>23.966667</td>\n",
       "    </tr>\n",
       "    <tr>\n",
       "      <th>is_weekend</th>\n",
       "      <td>3470.0</td>\n",
       "      <td>0.217291</td>\n",
       "      <td>0.412462</td>\n",
       "      <td>0.00</td>\n",
       "      <td>0.000000</td>\n",
       "      <td>0.000000</td>\n",
       "      <td>0.000000</td>\n",
       "      <td>1.000000</td>\n",
       "    </tr>\n",
       "    <tr>\n",
       "      <th>traffic_0_speed_scrub</th>\n",
       "      <td>3470.0</td>\n",
       "      <td>12.371003</td>\n",
       "      <td>6.380720</td>\n",
       "      <td>1.86</td>\n",
       "      <td>8.080000</td>\n",
       "      <td>12.757116</td>\n",
       "      <td>16.160000</td>\n",
       "      <td>164.040000</td>\n",
       "    </tr>\n",
       "    <tr>\n",
       "      <th>traffic_1_speed_scrub</th>\n",
       "      <td>3470.0</td>\n",
       "      <td>14.084224</td>\n",
       "      <td>4.031882</td>\n",
       "      <td>1.86</td>\n",
       "      <td>11.180000</td>\n",
       "      <td>14.290000</td>\n",
       "      <td>16.780000</td>\n",
       "      <td>68.970000</td>\n",
       "    </tr>\n",
       "    <tr>\n",
       "      <th>traffic_2_speed_scrub</th>\n",
       "      <td>3470.0</td>\n",
       "      <td>26.697545</td>\n",
       "      <td>5.910405</td>\n",
       "      <td>0.00</td>\n",
       "      <td>26.993491</td>\n",
       "      <td>26.993491</td>\n",
       "      <td>26.993491</td>\n",
       "      <td>186.410000</td>\n",
       "    </tr>\n",
       "  </tbody>\n",
       "</table>\n",
       "</div>"
      ],
      "text/plain": [
       "                             count         mean         std     min  \\\n",
       "apparentTemperature         3470.0    56.461121   11.135650   30.55   \n",
       "cloudCover                  3470.0     0.312738    0.274608    0.00   \n",
       "dewPoint                    3470.0    43.642150   11.880622   23.02   \n",
       "humidity                    3470.0     0.617467    0.147458    0.28   \n",
       "nearestStormDistance        3470.0    88.269741  136.935464    0.00   \n",
       "ozone                       3470.0   279.265147   14.469534  246.79   \n",
       "precipIntensity             3470.0     0.000567    0.004458    0.00   \n",
       "precipProbability           3470.0     0.026591    0.147329    0.00   \n",
       "pressure                    3470.0  1015.490049   34.758484  419.85   \n",
       "temperature                 3470.0    57.311816   10.017919   36.75   \n",
       "visibility                  3470.0     9.571101    0.913014    3.03   \n",
       "windBearing                 3470.0   247.557925   88.530741    0.00   \n",
       "windSpeed                   3470.0     6.627948    3.202902    0.07   \n",
       "num_bikes_available_scaled  3470.0     0.410082    0.174589    0.00   \n",
       "num_bikes_disabled_scaled   3470.0     0.016762    0.017471    0.00   \n",
       "num_docks_available_scaled  3470.0     0.212401    0.173745    0.00   \n",
       "day_of_week                 3470.0     2.695677    1.933951    0.00   \n",
       "hour_of_day                 3470.0    14.204006    4.585105    0.00   \n",
       "is_weekend                  3470.0     0.217291    0.412462    0.00   \n",
       "traffic_0_speed_scrub       3470.0    12.371003    6.380720    1.86   \n",
       "traffic_1_speed_scrub       3470.0    14.084224    4.031882    1.86   \n",
       "traffic_2_speed_scrub       3470.0    26.697545    5.910405    0.00   \n",
       "\n",
       "                                    25%          50%          75%          max  \n",
       "apparentTemperature           49.350000    56.000000    63.910000    84.620000  \n",
       "cloudCover                     0.100000     0.240000     0.440000     1.000000  \n",
       "dewPoint                      34.392500    40.455000    54.600000    68.490000  \n",
       "humidity                       0.500000     0.610000     0.710000     0.950000  \n",
       "nearestStormDistance           8.000000    24.000000   114.000000  1011.000000  \n",
       "ozone                        270.082500   276.490000   288.480000   315.310000  \n",
       "precipIntensity                0.000000     0.000000     0.000000     0.115700  \n",
       "precipProbability              0.000000     0.000000     0.000000     1.000000  \n",
       "pressure                    1012.520000  1018.450000  1023.070000  1031.010000  \n",
       "temperature                   49.990000    56.000000    63.910000    83.620000  \n",
       "visibility                     9.620000    10.000000    10.000000    10.000000  \n",
       "windBearing                  214.000000   277.000000   312.000000   359.000000  \n",
       "windSpeed                      4.282500     6.180000     8.447500    16.980000  \n",
       "num_bikes_available_scaled     0.278689     0.459016     0.557377     0.639344  \n",
       "num_bikes_disabled_scaled      0.000000     0.016393     0.032787     0.081967  \n",
       "num_docks_available_scaled     0.065574     0.163934     0.344262     0.639344  \n",
       "day_of_week                    1.000000     3.000000     4.000000     6.000000  \n",
       "hour_of_day                   10.437500    14.300000    17.879167    23.966667  \n",
       "is_weekend                     0.000000     0.000000     0.000000     1.000000  \n",
       "traffic_0_speed_scrub          8.080000    12.757116    16.160000   164.040000  \n",
       "traffic_1_speed_scrub         11.180000    14.290000    16.780000    68.970000  \n",
       "traffic_2_speed_scrub         26.993491    26.993491    26.993491   186.410000  "
      ]
     },
     "execution_count": 115,
     "metadata": {},
     "output_type": "execute_result"
    }
   ],
   "source": [
    "# Add in data from PS south (517) - capacity 59\n",
    "def read_more_data(station_id):\n",
    "    return project_env.load_split_bucket(station_id, target='y_60m')\n",
    "\n",
    "more = read_more_data(446)\n",
    "more['train'][0].describe().T"
   ]
  },
  {
   "cell_type": "code",
   "execution_count": 116,
   "metadata": {
    "collapsed": false
   },
   "outputs": [
    {
     "name": "stdout",
     "output_type": "stream",
     "text": [
      "X shape: (7706, 22)\n",
      "Evaluating on dev set of 968 examples\n",
      "Accuracy: 0.808884297521\n",
      "[[447 138]\n",
      " [ 47 336]]\n"
     ]
    },
    {
     "data": {
      "image/png": "[encoded data removed]",
      "text/plain": [
       "<matplotlib.figure.Figure at 0x115b47cc0>"
      ]
     },
     "metadata": {},
     "output_type": "display_data"
    }
   ],
   "source": [
    "appended = project_env.merge_training(data, more)\n",
    "appended_empty = project_env.binarize(appended, -1)\n",
    "\n",
    "a_logreg, a_scaler, a_pred = do_logreg(appended_empty)"
   ]
  },
  {
   "cell_type": "code",
   "execution_count": 117,
   "metadata": {
    "collapsed": false
   },
   "outputs": [],
   "source": [
    "# Go nuts with adding more training data.\n",
    "station_ids_to_concat = [446, 320, 3263, 285, 435, 477]\n",
    "station_ids_data = [read_more_data(sid) for sid in station_ids_to_concat]"
   ]
  },
  {
   "cell_type": "code",
   "execution_count": 118,
   "metadata": {
    "collapsed": false
   },
   "outputs": [],
   "source": [
    "app_len = len(appended['train'][0])\n",
    "more_appended = appended\n",
    "for df in station_ids_data:\n",
    "    more_appended = project_env.merge_training(more_appended, df)\n",
    "    \n",
    "assert len(appended['train'][0]) == app_len"
   ]
  },
  {
   "cell_type": "code",
   "execution_count": 119,
   "metadata": {
    "collapsed": false
   },
   "outputs": [
    {
     "name": "stdout",
     "output_type": "stream",
     "text": [
      "X shape: (32221, 22)\n",
      "Evaluating on dev set of 968 examples\n",
      "Accuracy: 0.798553719008\n",
      "[[447 138]\n",
      " [ 57 326]]\n"
     ]
    },
    {
     "data": {
      "image/png": "[encoded data removed]",
      "text/plain": [
       "<matplotlib.figure.Figure at 0x11aeaea20>"
      ]
     },
     "metadata": {},
     "output_type": "display_data"
    }
   ],
   "source": [
    "more_appended_empty = project_env.binarize(more_appended, -1)\n",
    "sq, scl, more_appended_pred = do_logreg(more_appended_empty)"
   ]
  },
  {
   "cell_type": "code",
   "execution_count": 120,
   "metadata": {
    "collapsed": false
   },
   "outputs": [
    {
     "name": "stdout",
     "output_type": "stream",
     "text": [
      "X shape: (4236, 44)\n",
      "Evaluating on dev set of 968 examples\n",
      "Accuracy: 0.601239669421\n",
      "[[222 363]\n",
      " [ 23 360]]\n"
     ]
    },
    {
     "data": {
      "image/png": "[encoded data removed]",
      "text/plain": [
       "<matplotlib.figure.Figure at 0x11aeaec50>"
      ]
     },
     "metadata": {},
     "output_type": "display_data"
    }
   ],
   "source": [
    "sq, scl, basic_pred_sq = do_logreg(data_empty, squares=True)"
   ]
  },
  {
   "cell_type": "markdown",
   "metadata": {
    "collapsed": true
   },
   "source": [
    "# Evaluation\n",
    "\n",
    "Plot the precision-recall curve for the 4 classifiers:"
   ]
  },
  {
   "cell_type": "code",
   "execution_count": 121,
   "metadata": {
    "collapsed": false
   },
   "outputs": [
    {
     "name": "stdout",
     "output_type": "stream",
     "text": [
      "Model baseline\n",
      "  Max precision: 0.528301886792 at recall 0.950391644909\n",
      "  Threshold of max precision: 0.540983606557\n",
      "Model basic\n",
      "  Max precision: 0.581469648562 at recall 0.950391644909\n",
      "  Threshold of max precision: 0.237080416325\n",
      "Model appended\n",
      "  Max precision: 0.547368421053 at recall 0.950391644909\n",
      "  Threshold of max precision: 0.160068204392\n",
      "Model more_appended\n",
      "  Max precision: 0.536873156342 at recall 0.950391644909\n",
      "  Threshold of max precision: 0.0707310627155\n",
      "Model basic_sq\n",
      "  Max precision: 0.480895915679 at recall 0.953002610966\n",
      "  Threshold of max precision: 0.387412943013\n"
     ]
    },
    {
     "data": {
      "image/png": "[encoded data removed]",
      "text/plain": [
       "<matplotlib.figure.Figure at 0x118b024e0>"
      ]
     },
     "metadata": {},
     "output_type": "display_data"
    }
   ],
   "source": [
    "from sklearn.metrics import precision_recall_curve\n",
    "\n",
    "gold_labels = data_empty['dev'][1]\n",
    "\n",
    "def pr_curve(predictions, label, plot=True):\n",
    "    curve = precision_recall_curve(gold_labels, predictions)\n",
    "    precision, recall, thresholds = curve\n",
    "    mp, mr, mt = project_env.max_precision_for_recall(curve)\n",
    "    predicted_classes = predictions > mt\n",
    "    print('Model', label)\n",
    "    print('  Max precision:', mp, 'at recall', mr)\n",
    "    print('  Threshold of max precision:', mt)\n",
    "    plt.plot(recall, precision, label=label)\n",
    "    return predicted_classes\n",
    "   \n",
    "plt.figure(figsize=(7, 7))\n",
    "pr_curve(data_empty['dev'][0]['num_docks_available_scaled'], 'baseline')\n",
    "predicted_basic = pr_curve(dev_pred, 'basic')\n",
    "pr_curve(a_pred, 'appended')\n",
    "pr_curve(more_appended_pred, 'more_appended')\n",
    "pr_curve(basic_pred_sq, 'basic_sq')\n",
    "\n",
    "plt.xlim([0.9, 1.0])\n",
    "plt.ylim([0.4, 0.7])\n",
    "plt.axvline(x=0.95, color='k', linestyle='--')\n",
    "plt.xlabel('Recall')\n",
    "plt.ylabel('Precision')\n",
    "plt.legend(loc=\"lower left\")\n",
    "plt.title('Precision-Recall curves for ')\n",
    "plt.show()"
   ]
  },
  {
   "cell_type": "markdown",
   "metadata": {},
   "source": [
    "95% recall means that whenever the model tells a user to go to a station to pick up a bike at a designated time, 5% of the time, the station ends up empty (the bad case).\n",
    "\n",
    "Given a model satisfies at least 95% recall, a higher precision means fewer occasions where a model turns the user away from the station even though it has bikes available (a more efficient model). So, we want to find a model that maximizes precision given a minimum recall.\n",
    "\n",
    "In the plot above the `basic` model wins out at around 57% precision at 95% recall. So that means when the model says the station is empty, 57% of the time the station will actually be empty."
   ]
  },
  {
   "cell_type": "markdown",
   "metadata": {},
   "source": [
    "# Running on a date range\n",
    "\n",
    "Run on the dev set range"
   ]
  },
  {
   "cell_type": "code",
   "execution_count": 122,
   "metadata": {
    "collapsed": false
   },
   "outputs": [
    {
     "data": {
      "image/png": "[encoded data removed]",
      "text/plain": [
       "<matplotlib.figure.Figure at 0x115aeb5f8>"
      ]
     },
     "metadata": {},
     "output_type": "display_data"
    }
   ],
   "source": [
    "def plot_over_time(data, predictions):\n",
    "    times = data['dev_times']\n",
    "    gold_labels = data['dev'][1]\n",
    "    \n",
    "    curve = precision_recall_curve(gold_labels, predictions)\n",
    "    mp, mr, mt = project_env.max_precision_for_recall(curve)\n",
    "    predicted_classes = predictions > mt\n",
    "    \n",
    "    plt.figure()\n",
    "    plt.plot(times.as_matrix(), predicted_classes, label='predicted')\n",
    "    plt.plot(times.as_matrix(), gold_labels.as_matrix() * 0.9 + 0.05, label='actual')\n",
    "    plt.title('Station Unavailability and Predictions')\n",
    "    plt.legend()\n",
    "    plt.xticks(rotation=60)\n",
    "    plt.ylim(-0.2, 1.5)\n",
    "    plt.show()\n",
    "\n",
    "plot_over_time(data_empty, dev_pred)"
   ]
  }
 ],
 "metadata": {
  "anaconda-cloud": {},
  "kernelspec": {
   "display_name": "Python [Root]",
   "language": "python",
   "name": "Python [Root]"
  },
  "language_info": {
   "codemirror_mode": {
    "name": "ipython",
    "version": 3
   },
   "file_extension": ".py",
   "mimetype": "text/x-python",
   "name": "python",
   "nbconvert_exporter": "python",
   "pygments_lexer": "ipython3",
   "version": "3.5.2"
  }
 },
 "nbformat": 4,
 "nbformat_minor": 0
}
