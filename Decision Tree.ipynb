{
 "cells": [
  {
   "cell_type": "code",
   "execution_count": 2,
   "metadata": {
    "collapsed": false
   },
   "outputs": [
    {
     "name": "stdout",
     "output_type": "stream",
     "text": [
      "Length: 4789\n",
      "Index(['Unnamed: 0', 'eightd_has_available_keys', 'is_installed', 'is_renting',\n",
      "       'is_returning', 'last_reported', 'num_bikes_available',\n",
      "       'num_bikes_disabled', 'num_docks_available', 'num_docks_disabled',\n",
      "       'station_id', 'weather_ts', 'apparentTemperature', 'cloudCover',\n",
      "       'dewPoint', 'humidity', 'icon', 'nearestStormBearing',\n",
      "       'nearestStormDistance', 'ozone', 'precipIntensity',\n",
      "       'precipIntensityError', 'precipProbability', 'precipType', 'pressure',\n",
      "       'summary', 'temperature', 'time', 'visibility', 'windBearing',\n",
      "       'windSpeed', 'traffic_0_asof', 'traffic_0_distance', 'traffic_0_linkId',\n",
      "       'traffic_0_speed', 'traffic_0_travel_time', 'traffic_1_asof',\n",
      "       'traffic_1_distance', 'traffic_1_linkId', 'traffic_1_speed',\n",
      "       'traffic_1_travel_time', 'traffic_2_asof', 'traffic_2_distance',\n",
      "       'traffic_2_linkId', 'traffic_2_speed', 'traffic_2_travel_time', 'y_10m',\n",
      "       'y_15m', 'y_30m', 'y_45m', 'y_60m', 'y_90m', 'y_120m'],\n",
      "      dtype='object')\n"
     ]
    }
   ],
   "source": [
    "import pandas as pd\n",
    "import numpy as np\n",
    "import matplotlib.pyplot as plt\n",
    "%matplotlib inline\n",
    "\n",
    "#work path\n",
    "#path = 'C:\\\\Users\\\\e057074\\\\Documents\\\\Other\\\\Grad School\\\\DS-GA 1001\\\\Project\\\\'\n",
    "\n",
    "#mac path\n",
    "path = '/Users/Lisa/Documents/Fall 2016/DS-GA 1001/Project/'\n",
    "\n",
    "ps_north = pd.read_csv(path + 'per_station/519.csv')\n",
    "print('Length:', len(ps_north))\n",
    "print(ps_north.columns)\n",
    "ps_north['last_reported'] = pd.to_datetime(ps_north['last_reported'], infer_datetime_format=True)\n",
    "ps_north['weather_ts'] = pd.to_datetime(ps_north['weather_ts'], unit='s')\n",
    "ps_north['traffic_0_asof'] = pd.to_datetime(ps_north['traffic_0_asof'], infer_datetime_format=True)\n",
    "ps_north['traffic_1_asof'] = pd.to_datetime(ps_north['traffic_1_asof'], infer_datetime_format=True)\n",
    "ps_north['traffic_2_asof'] = pd.to_datetime(ps_north['traffic_2_asof'], infer_datetime_format=True)\n",
    "\n"
   ]
  },
  {
   "cell_type": "code",
   "execution_count": 3,
   "metadata": {
    "collapsed": true
   },
   "outputs": [],
   "source": [
    "#drop obs w stale traffic data\n",
    "ps_north['delta_t0'] = (ps_north['traffic_0_asof'] - ps_north['last_reported'])/np.timedelta64(1,'m')\n",
    "ps_north['delta_t1'] = (ps_north['traffic_1_asof'] - ps_north['last_reported'])/np.timedelta64(1,'m')\n",
    "ps_north['delta_t2'] = (ps_north['traffic_2_asof'] - ps_north['last_reported'])/np.timedelta64(1,'m')\n",
    "ps_north['nonstale'] = (ps_north['delta_t0'] > -15) & (ps_north['delta_t1'] > -15) & (ps_north['delta_t2'] > -15)\n",
    "\n",
    "nonstale = ps_north[ps_north['nonstale'] == True]\n",
    "\n",
    "#drop rows with no value within the 60m target variable period\n",
    "y60 = nonstale[nonstale['y_60m'] >= 0]"
   ]
  },
  {
   "cell_type": "code",
   "execution_count": 5,
   "metadata": {
    "collapsed": false
   },
   "outputs": [
    {
     "name": "stderr",
     "output_type": "stream",
     "text": [
      "/Users/Lisa/anaconda3/lib/python3.5/site-packages/pandas/core/indexing.py:476: SettingWithCopyWarning: \n",
      "A value is trying to be set on a copy of a slice from a DataFrame.\n",
      "Try using .loc[row_indexer,col_indexer] = value instead\n",
      "\n",
      "See the caveats in the documentation: http://pandas.pydata.org/pandas-docs/stable/indexing.html#indexing-view-versus-copy\n",
      "  self.obj[item] = s\n"
     ]
    }
   ],
   "source": [
    "#create labels. -1 = empty, 0 = available, 1 = full\n",
    "y60.loc[:,'target_60'] = 0\n",
    "y60.loc[y60['y_60m']<= 0.05,'target_60'] = -1\n",
    "y60.loc[y60['y_60m']>= 0.95,'target_60'] = 1"
   ]
  },
  {
   "cell_type": "code",
   "execution_count": 18,
   "metadata": {
    "collapsed": false
   },
   "outputs": [
    {
     "data": {
      "text/html": [
       "<div>\n",
       "<table border=\"1\" class=\"dataframe\">\n",
       "  <thead>\n",
       "    <tr style=\"text-align: right;\">\n",
       "      <th></th>\n",
       "      <th>Unnamed: 0</th>\n",
       "      <th>eightd_has_available_keys</th>\n",
       "      <th>is_installed</th>\n",
       "      <th>is_renting</th>\n",
       "      <th>is_returning</th>\n",
       "      <th>last_reported</th>\n",
       "      <th>num_bikes_available</th>\n",
       "      <th>num_bikes_disabled</th>\n",
       "      <th>num_docks_available</th>\n",
       "      <th>num_docks_disabled</th>\n",
       "      <th>...</th>\n",
       "      <th>y_15m</th>\n",
       "      <th>y_30m</th>\n",
       "      <th>y_45m</th>\n",
       "      <th>y_60m</th>\n",
       "      <th>y_90m</th>\n",
       "      <th>y_120m</th>\n",
       "      <th>delta_t0</th>\n",
       "      <th>delta_t1</th>\n",
       "      <th>delta_t2</th>\n",
       "      <th>nonstale</th>\n",
       "    </tr>\n",
       "    <tr>\n",
       "      <th>target_60</th>\n",
       "      <th></th>\n",
       "      <th></th>\n",
       "      <th></th>\n",
       "      <th></th>\n",
       "      <th></th>\n",
       "      <th></th>\n",
       "      <th></th>\n",
       "      <th></th>\n",
       "      <th></th>\n",
       "      <th></th>\n",
       "      <th></th>\n",
       "      <th></th>\n",
       "      <th></th>\n",
       "      <th></th>\n",
       "      <th></th>\n",
       "      <th></th>\n",
       "      <th></th>\n",
       "      <th></th>\n",
       "      <th></th>\n",
       "      <th></th>\n",
       "      <th></th>\n",
       "    </tr>\n",
       "  </thead>\n",
       "  <tbody>\n",
       "    <tr>\n",
       "      <th>-1</th>\n",
       "      <td>605</td>\n",
       "      <td>605</td>\n",
       "      <td>605</td>\n",
       "      <td>605</td>\n",
       "      <td>605</td>\n",
       "      <td>605</td>\n",
       "      <td>605</td>\n",
       "      <td>605</td>\n",
       "      <td>605</td>\n",
       "      <td>605</td>\n",
       "      <td>...</td>\n",
       "      <td>605</td>\n",
       "      <td>605</td>\n",
       "      <td>605</td>\n",
       "      <td>605</td>\n",
       "      <td>605</td>\n",
       "      <td>605</td>\n",
       "      <td>605</td>\n",
       "      <td>605</td>\n",
       "      <td>605</td>\n",
       "      <td>605</td>\n",
       "    </tr>\n",
       "    <tr>\n",
       "      <th>0</th>\n",
       "      <td>1806</td>\n",
       "      <td>1806</td>\n",
       "      <td>1806</td>\n",
       "      <td>1806</td>\n",
       "      <td>1806</td>\n",
       "      <td>1806</td>\n",
       "      <td>1806</td>\n",
       "      <td>1806</td>\n",
       "      <td>1806</td>\n",
       "      <td>1806</td>\n",
       "      <td>...</td>\n",
       "      <td>1806</td>\n",
       "      <td>1806</td>\n",
       "      <td>1806</td>\n",
       "      <td>1806</td>\n",
       "      <td>1806</td>\n",
       "      <td>1806</td>\n",
       "      <td>1806</td>\n",
       "      <td>1806</td>\n",
       "      <td>1806</td>\n",
       "      <td>1806</td>\n",
       "    </tr>\n",
       "    <tr>\n",
       "      <th>1</th>\n",
       "      <td>139</td>\n",
       "      <td>139</td>\n",
       "      <td>139</td>\n",
       "      <td>139</td>\n",
       "      <td>139</td>\n",
       "      <td>139</td>\n",
       "      <td>139</td>\n",
       "      <td>139</td>\n",
       "      <td>139</td>\n",
       "      <td>139</td>\n",
       "      <td>...</td>\n",
       "      <td>139</td>\n",
       "      <td>139</td>\n",
       "      <td>139</td>\n",
       "      <td>139</td>\n",
       "      <td>139</td>\n",
       "      <td>139</td>\n",
       "      <td>139</td>\n",
       "      <td>139</td>\n",
       "      <td>139</td>\n",
       "      <td>139</td>\n",
       "    </tr>\n",
       "  </tbody>\n",
       "</table>\n",
       "<p>3 rows × 57 columns</p>\n",
       "</div>"
      ],
      "text/plain": [
       "           Unnamed: 0  eightd_has_available_keys  is_installed  is_renting  \\\n",
       "target_60                                                                    \n",
       "-1                605                        605           605         605   \n",
       " 0               1806                       1806          1806        1806   \n",
       " 1                139                        139           139         139   \n",
       "\n",
       "           is_returning  last_reported  num_bikes_available  \\\n",
       "target_60                                                     \n",
       "-1                  605            605                  605   \n",
       " 0                 1806           1806                 1806   \n",
       " 1                  139            139                  139   \n",
       "\n",
       "           num_bikes_disabled  num_docks_available  num_docks_disabled  \\\n",
       "target_60                                                                \n",
       "-1                        605                  605                 605   \n",
       " 0                       1806                 1806                1806   \n",
       " 1                        139                  139                 139   \n",
       "\n",
       "             ...     y_15m  y_30m  y_45m  y_60m  y_90m  y_120m  delta_t0  \\\n",
       "target_60    ...                                                           \n",
       "-1           ...       605    605    605    605    605     605       605   \n",
       " 0           ...      1806   1806   1806   1806   1806    1806      1806   \n",
       " 1           ...       139    139    139    139    139     139       139   \n",
       "\n",
       "           delta_t1  delta_t2  nonstale  \n",
       "target_60                                \n",
       "-1              605       605       605  \n",
       " 0             1806      1806      1806  \n",
       " 1              139       139       139  \n",
       "\n",
       "[3 rows x 57 columns]"
      ]
     },
     "execution_count": 18,
     "metadata": {},
     "output_type": "execute_result"
    }
   ],
   "source": [
    "#Distribution of class variables\n",
    "y60.groupby(['target_60']).agg('count')"
   ]
  },
  {
   "cell_type": "code",
   "execution_count": 19,
   "metadata": {
    "collapsed": false
   },
   "outputs": [],
   "source": [
    "#Drop variables not used in first prelim model\n",
    "y60 = y60[['last_reported','num_bikes_available','num_docks_available','num_bikes_disabled','num_docks_disabled',\\\n",
    "                    'is_installed','is_renting','is_returning','apparentTemperature','precipType','summary','traffic_0_speed',\\\n",
    "                    'traffic_0_distance','traffic_1_speed','traffic_1_distance','traffic_2_speed','traffic_2_distance','target_60']]"
   ]
  },
  {
   "cell_type": "code",
   "execution_count": 20,
   "metadata": {
    "collapsed": false
   },
   "outputs": [],
   "source": [
    "#Create indicator variables\n",
    "\n",
    "#get day of week and hour from timestamp\n",
    "y60['dow'] = y60['last_reported'].dt.dayofweek\n",
    "y60['hour'] = y60['last_reported'].dt.hour\n",
    "y60['min'] = y60['last_reported'].dt.minute\n",
    "y60 = y60.drop('last_reported',axis=1)\n",
    "\n",
    "#create dummies\n",
    "cat_vars = ['dow','hour','min','precipType','summary']\n",
    "y60_dum = y60\n",
    "for var in cat_vars:\n",
    "    dummy_df = pd.get_dummies(y60_dum[var],prefix=var)\n",
    "    y60_dum = pd.concat([y60_dum,dummy_df], axis=1)\n",
    "    y60_dum = y60_dum.drop(var,axis=1)"
   ]
  },
  {
   "cell_type": "code",
   "execution_count": 21,
   "metadata": {
    "collapsed": false
   },
   "outputs": [],
   "source": [
    "#Split into Test and Training\n",
    "data_rand = y60_dum.iloc[np.random.permutation(len(y60_dum))]\n",
    "train_df = data_rand[0:int(.8*len(y60_dum))]\n",
    "test_df = data_rand[int(.8*len(y60_dum)):]"
   ]
  },
  {
   "cell_type": "code",
   "execution_count": 22,
   "metadata": {
    "collapsed": false
   },
   "outputs": [],
   "source": [
    "#Fit decision tree\n",
    "import sklearn\n",
    "from sklearn.tree import DecisionTreeClassifier\n",
    "x = train_df.drop('target_60', axis=1)\n",
    "y = train_df['target_60']\n",
    "clf = DecisionTreeClassifier(criterion='entropy')\n",
    "clf = clf.fit(x,y)"
   ]
  },
  {
   "cell_type": "code",
   "execution_count": 23,
   "metadata": {
    "collapsed": false
   },
   "outputs": [
    {
     "name": "stdout",
     "output_type": "stream",
     "text": [
      "Accuracy on Training Dataset: 1.0\n",
      "Accuracy on Test Dataset: 0.8215686274509804\n"
     ]
    }
   ],
   "source": [
    "#accuracy\n",
    "pred_train = clf.predict(train_df.drop('target_60', axis=1))\n",
    "pred_test = clf.predict(test_df.drop('target_60', axis=1))\n",
    "\n",
    "accu_train = sklearn.metrics.accuracy_score(train_df['target_60'],pred_train)\n",
    "accu_test = sklearn.metrics.accuracy_score(test_df['target_60'],pred_test)\n",
    "\n",
    "print(\"Accuracy on Training Dataset: {}\".format(accu_train))\n",
    "print(\"Accuracy on Test Dataset: {}\".format(accu_test))"
   ]
  },
  {
   "cell_type": "code",
   "execution_count": 26,
   "metadata": {
    "collapsed": false
   },
   "outputs": [
    {
     "data": {
      "text/plain": [
       "(-0.40000000000000002, 9.4000000000000004, 0.0, 0.24805987352594414)"
      ]
     },
     "execution_count": 26,
     "metadata": {},
     "output_type": "execute_result"
    },
    {
     "data": {
      "image/png": "[encoded data removed]",
      "text/plain": [
       "<matplotlib.figure.Figure at 0x1113b80b8>"
      ]
     },
     "metadata": {},
     "output_type": "display_data"
    }
   ],
   "source": [
    "#most predictive features\n",
    "features = list(x.columns)\n",
    "feature_imp = clf.feature_importances_\n",
    "\n",
    "top_features = pd.Series(data=feature_imp,index=features)\n",
    "top_features.sort_values(inplace=True, ascending=False)\n",
    "\n",
    "#plot\n",
    "index = np.arange(0,10,1)\n",
    "plt.figure(figsize=(20,5))\n",
    "plt.bar(index,top_features[0:10], width = .8, align='center')\n",
    "plt.xticks(index, features[0:10])\n",
    "plt.axis('tight')"
   ]
  },
  {
   "cell_type": "code",
   "execution_count": 281,
   "metadata": {
    "collapsed": false
   },
   "outputs": [
    {
     "ename": "ValueError",
     "evalue": "multiclass format is not supported",
     "output_type": "error",
     "traceback": [
      "\u001b[1;31m---------------------------------------------------------------------------\u001b[0m",
      "\u001b[1;31mValueError\u001b[0m                                Traceback (most recent call last)",
      "\u001b[1;32m<ipython-input-281-4323a1c168bb>\u001b[0m in \u001b[0;36m<module>\u001b[1;34m()\u001b[0m\n\u001b[1;32m----> 1\u001b[1;33m \u001b[0msklearn\u001b[0m\u001b[1;33m.\u001b[0m\u001b[0mmetrics\u001b[0m\u001b[1;33m.\u001b[0m\u001b[0mroc_auc_score\u001b[0m\u001b[1;33m(\u001b[0m\u001b[0mtest_df\u001b[0m\u001b[1;33m[\u001b[0m\u001b[1;34m'target_60'\u001b[0m\u001b[1;33m]\u001b[0m\u001b[1;33m,\u001b[0m\u001b[0mclf\u001b[0m\u001b[1;33m.\u001b[0m\u001b[0mpredict_proba\u001b[0m\u001b[1;33m(\u001b[0m\u001b[0mtest_df\u001b[0m\u001b[1;33m.\u001b[0m\u001b[0mdrop\u001b[0m\u001b[1;33m(\u001b[0m\u001b[1;34m'target_60'\u001b[0m\u001b[1;33m,\u001b[0m \u001b[0maxis\u001b[0m\u001b[1;33m=\u001b[0m\u001b[1;36m1\u001b[0m\u001b[1;33m)\u001b[0m\u001b[1;33m)\u001b[0m\u001b[1;33m[\u001b[0m\u001b[1;33m:\u001b[0m\u001b[1;33m,\u001b[0m\u001b[1;36m1\u001b[0m\u001b[1;33m]\u001b[0m\u001b[1;33m)\u001b[0m\u001b[1;33m\u001b[0m\u001b[0m\n\u001b[0m",
      "\u001b[1;32mC:\\Users\\e057074\\AppData\\Local\\Continuum\\Anaconda\\lib\\site-packages\\sklearn\\metrics\\metrics.pyc\u001b[0m in \u001b[0;36mroc_auc_score\u001b[1;34m(y_true, y_score, average, sample_weight)\u001b[0m\n\u001b[0;32m    591\u001b[0m     return _average_binary_score(\n\u001b[0;32m    592\u001b[0m         \u001b[0m_binary_roc_auc_score\u001b[0m\u001b[1;33m,\u001b[0m \u001b[0my_true\u001b[0m\u001b[1;33m,\u001b[0m \u001b[0my_score\u001b[0m\u001b[1;33m,\u001b[0m \u001b[0maverage\u001b[0m\u001b[1;33m,\u001b[0m\u001b[1;33m\u001b[0m\u001b[0m\n\u001b[1;32m--> 593\u001b[1;33m         sample_weight=sample_weight)\n\u001b[0m\u001b[0;32m    594\u001b[0m \u001b[1;33m\u001b[0m\u001b[0m\n\u001b[0;32m    595\u001b[0m \u001b[1;33m\u001b[0m\u001b[0m\n",
      "\u001b[1;32mC:\\Users\\e057074\\AppData\\Local\\Continuum\\Anaconda\\lib\\site-packages\\sklearn\\metrics\\metrics.pyc\u001b[0m in \u001b[0;36m_average_binary_score\u001b[1;34m(binary_metric, y_true, y_score, average, sample_weight)\u001b[0m\n\u001b[0;32m    468\u001b[0m     \u001b[0my_type\u001b[0m \u001b[1;33m=\u001b[0m \u001b[0mtype_of_target\u001b[0m\u001b[1;33m(\u001b[0m\u001b[0my_true\u001b[0m\u001b[1;33m)\u001b[0m\u001b[1;33m\u001b[0m\u001b[0m\n\u001b[0;32m    469\u001b[0m     \u001b[1;32mif\u001b[0m \u001b[0my_type\u001b[0m \u001b[1;32mnot\u001b[0m \u001b[1;32min\u001b[0m \u001b[1;33m(\u001b[0m\u001b[1;34m\"binary\"\u001b[0m\u001b[1;33m,\u001b[0m \u001b[1;34m\"multilabel-indicator\"\u001b[0m\u001b[1;33m)\u001b[0m\u001b[1;33m:\u001b[0m\u001b[1;33m\u001b[0m\u001b[0m\n\u001b[1;32m--> 470\u001b[1;33m         \u001b[1;32mraise\u001b[0m \u001b[0mValueError\u001b[0m\u001b[1;33m(\u001b[0m\u001b[1;34m\"{0} format is not supported\"\u001b[0m\u001b[1;33m.\u001b[0m\u001b[0mformat\u001b[0m\u001b[1;33m(\u001b[0m\u001b[0my_type\u001b[0m\u001b[1;33m)\u001b[0m\u001b[1;33m)\u001b[0m\u001b[1;33m\u001b[0m\u001b[0m\n\u001b[0m\u001b[0;32m    471\u001b[0m \u001b[1;33m\u001b[0m\u001b[0m\n\u001b[0;32m    472\u001b[0m     \u001b[1;32mif\u001b[0m \u001b[0my_type\u001b[0m \u001b[1;33m==\u001b[0m \u001b[1;34m\"binary\"\u001b[0m\u001b[1;33m:\u001b[0m\u001b[1;33m\u001b[0m\u001b[0m\n",
      "\u001b[1;31mValueError\u001b[0m: multiclass format is not supported"
     ]
    }
   ],
   "source": [
    "sklearn.metrics.roc_auc_score(test_df['target_60'],clf.predict_proba(test_df.drop('target_60', axis=1))[:,1])"
   ]
  }
 ],
 "metadata": {
  "kernelspec": {
   "display_name": "Python [Root]",
   "language": "python",
   "name": "Python [Root]"
  },
  "language_info": {
   "codemirror_mode": {
    "name": "ipython",
    "version": 3
   },
   "file_extension": ".py",
   "mimetype": "text/x-python",
   "name": "python",
   "nbconvert_exporter": "python",
   "pygments_lexer": "ipython3",
   "version": "3.5.2"
  }
 },
 "nbformat": 4,
 "nbformat_minor": 0
}
