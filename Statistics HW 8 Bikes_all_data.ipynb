{
 "cells": [
  {
   "cell_type": "markdown",
   "metadata": {},
   "source": [
    "Descriptive statistics. Find a dataset online that has between 5 and 10 features per example.\n",
    "Please use python for this question. Submit your code and the different figures in the pdf.\n",
    "a. Plot the histogram of one of the features.\n",
    "b. Plot the boxplots of all the features. Describe briefly how they compare to each other.\n",
    "c. Compute the empirical correlation coefficients between every pair of features. This can be\n",
    "done using the corrcoeff function in python.\n",
    "d. Choose two features that are highly correlated (positively or negatively) and plot their\n",
    "scatterplot.\n",
    "e. Compute the two first principal components of the data and project onto them. Then\n",
    "visualize the scatterplot of the result. Do the same for the two last principal components."
   ]
  },
  {
   "cell_type": "code",
   "execution_count": 1,
   "metadata": {
    "collapsed": false
   },
   "outputs": [
    {
     "name": "stderr",
     "output_type": "stream",
     "text": [
      "C:\\Users\\Caroline\\Anaconda3\\lib\\site-packages\\IPython\\core\\interactiveshell.py:2717: DtypeWarning: Columns (22) have mixed types. Specify dtype option on import or set low_memory=False.\n",
      "  interactivity=interactivity, compiler=compiler, result=result)\n"
     ]
    }
   ],
   "source": [
    "import pandas as pd\n",
    "bikes = pd.read_csv('C:\\\\Users\\\\Caroline\\\\Documents\\\\School\\\\Intro to Data Science\\\\Term Project\\\\bikes_all_data.csv')"
   ]
  },
  {
   "cell_type": "code",
   "execution_count": 2,
   "metadata": {
    "collapsed": false
   },
   "outputs": [],
   "source": [
    "column_ix_numeric = []\n",
    "for column in bikes:\n",
    "    if bikes.loc[:,column].dtype in ('int64', 'float64'):\n",
    "        column_ix_numeric.append(column)"
   ]
  },
  {
   "cell_type": "code",
   "execution_count": 3,
   "metadata": {
    "collapsed": false
   },
   "outputs": [
    {
     "name": "stderr",
     "output_type": "stream",
     "text": [
      "C:\\Users\\Caroline\\Anaconda3\\lib\\site-packages\\numpy\\lib\\function_base.py:3834: RuntimeWarning: Invalid value encountered in percentile\n",
      "  RuntimeWarning)\n"
     ]
    },
    {
     "data": {
      "text/html": [
       "<div>\n",
       "<table border=\"1\" class=\"dataframe\">\n",
       "  <thead>\n",
       "    <tr style=\"text-align: right;\">\n",
       "      <th></th>\n",
       "      <th>is_installed</th>\n",
       "      <th>is_renting</th>\n",
       "      <th>is_returning</th>\n",
       "      <th>num_bikes_available</th>\n",
       "      <th>num_bikes_disabled</th>\n",
       "      <th>num_docks_available</th>\n",
       "      <th>num_docks_disabled</th>\n",
       "      <th>station_id</th>\n",
       "      <th>weather_ts</th>\n",
       "      <th>apparentTemperature</th>\n",
       "      <th>...</th>\n",
       "      <th>traffic_0_speed</th>\n",
       "      <th>traffic_0_travel_time</th>\n",
       "      <th>traffic_1_distance</th>\n",
       "      <th>traffic_1_linkId</th>\n",
       "      <th>traffic_1_speed</th>\n",
       "      <th>traffic_1_travel_time</th>\n",
       "      <th>traffic_2_distance</th>\n",
       "      <th>traffic_2_linkId</th>\n",
       "      <th>traffic_2_speed</th>\n",
       "      <th>traffic_2_travel_time</th>\n",
       "    </tr>\n",
       "  </thead>\n",
       "  <tbody>\n",
       "    <tr>\n",
       "      <th>count</th>\n",
       "      <td>1.311519e+06</td>\n",
       "      <td>1.311519e+06</td>\n",
       "      <td>1.311519e+06</td>\n",
       "      <td>1.311519e+06</td>\n",
       "      <td>1.311519e+06</td>\n",
       "      <td>1.311519e+06</td>\n",
       "      <td>1.311519e+06</td>\n",
       "      <td>1.311519e+06</td>\n",
       "      <td>1.311519e+06</td>\n",
       "      <td>1.311519e+06</td>\n",
       "      <td>...</td>\n",
       "      <td>1.310986e+06</td>\n",
       "      <td>1.310986e+06</td>\n",
       "      <td>1.310986e+06</td>\n",
       "      <td>1.310986e+06</td>\n",
       "      <td>1.310986e+06</td>\n",
       "      <td>1.310986e+06</td>\n",
       "      <td>1.310986e+06</td>\n",
       "      <td>1.310986e+06</td>\n",
       "      <td>1.310986e+06</td>\n",
       "      <td>1.310986e+06</td>\n",
       "    </tr>\n",
       "    <tr>\n",
       "      <th>mean</th>\n",
       "      <td>9.999992e-01</td>\n",
       "      <td>9.990317e-01</td>\n",
       "      <td>9.990317e-01</td>\n",
       "      <td>1.599952e+01</td>\n",
       "      <td>8.717815e-01</td>\n",
       "      <td>1.847743e+01</td>\n",
       "      <td>4.463374e-02</td>\n",
       "      <td>1.459754e+03</td>\n",
       "      <td>1.477783e+09</td>\n",
       "      <td>5.691412e+01</td>\n",
       "      <td>...</td>\n",
       "      <td>2.652525e+01</td>\n",
       "      <td>4.946772e+02</td>\n",
       "      <td>9.005775e+02</td>\n",
       "      <td>4.571121e+06</td>\n",
       "      <td>2.607060e+01</td>\n",
       "      <td>5.567437e+02</td>\n",
       "      <td>1.239315e+03</td>\n",
       "      <td>4.556558e+06</td>\n",
       "      <td>2.474908e+01</td>\n",
       "      <td>4.896650e+02</td>\n",
       "    </tr>\n",
       "    <tr>\n",
       "      <th>std</th>\n",
       "      <td>8.731979e-04</td>\n",
       "      <td>3.110315e-02</td>\n",
       "      <td>3.110315e-02</td>\n",
       "      <td>1.294005e+01</td>\n",
       "      <td>1.277249e+00</td>\n",
       "      <td>1.331788e+01</td>\n",
       "      <td>6.372692e-01</td>\n",
       "      <td>1.371302e+03</td>\n",
       "      <td>6.322759e+05</td>\n",
       "      <td>1.070471e+01</td>\n",
       "      <td>...</td>\n",
       "      <td>1.499510e+01</td>\n",
       "      <td>7.895902e+02</td>\n",
       "      <td>6.060270e+02</td>\n",
       "      <td>8.693933e+04</td>\n",
       "      <td>1.450413e+01</td>\n",
       "      <td>1.310205e+03</td>\n",
       "      <td>7.509799e+02</td>\n",
       "      <td>9.535069e+04</td>\n",
       "      <td>1.392374e+01</td>\n",
       "      <td>9.821341e+02</td>\n",
       "    </tr>\n",
       "    <tr>\n",
       "      <th>min</th>\n",
       "      <td>0.000000e+00</td>\n",
       "      <td>0.000000e+00</td>\n",
       "      <td>0.000000e+00</td>\n",
       "      <td>0.000000e+00</td>\n",
       "      <td>0.000000e+00</td>\n",
       "      <td>0.000000e+00</td>\n",
       "      <td>0.000000e+00</td>\n",
       "      <td>7.200000e+01</td>\n",
       "      <td>1.476724e+09</td>\n",
       "      <td>3.156000e+01</td>\n",
       "      <td>...</td>\n",
       "      <td>0.000000e+00</td>\n",
       "      <td>9.000000e+00</td>\n",
       "      <td>1.290784e+01</td>\n",
       "      <td>4.329472e+06</td>\n",
       "      <td>0.000000e+00</td>\n",
       "      <td>9.000000e+00</td>\n",
       "      <td>1.682873e+01</td>\n",
       "      <td>4.329472e+06</td>\n",
       "      <td>0.000000e+00</td>\n",
       "      <td>9.000000e+00</td>\n",
       "    </tr>\n",
       "    <tr>\n",
       "      <th>25%</th>\n",
       "      <td>1.000000e+00</td>\n",
       "      <td>1.000000e+00</td>\n",
       "      <td>1.000000e+00</td>\n",
       "      <td>5.000000e+00</td>\n",
       "      <td>0.000000e+00</td>\n",
       "      <td>7.000000e+00</td>\n",
       "      <td>0.000000e+00</td>\n",
       "      <td>3.570000e+02</td>\n",
       "      <td>1.477245e+09</td>\n",
       "      <td>5.028000e+01</td>\n",
       "      <td>...</td>\n",
       "      <td>NaN</td>\n",
       "      <td>NaN</td>\n",
       "      <td>NaN</td>\n",
       "      <td>NaN</td>\n",
       "      <td>NaN</td>\n",
       "      <td>NaN</td>\n",
       "      <td>NaN</td>\n",
       "      <td>NaN</td>\n",
       "      <td>NaN</td>\n",
       "      <td>NaN</td>\n",
       "    </tr>\n",
       "    <tr>\n",
       "      <th>50%</th>\n",
       "      <td>1.000000e+00</td>\n",
       "      <td>1.000000e+00</td>\n",
       "      <td>1.000000e+00</td>\n",
       "      <td>1.300000e+01</td>\n",
       "      <td>0.000000e+00</td>\n",
       "      <td>1.700000e+01</td>\n",
       "      <td>0.000000e+00</td>\n",
       "      <td>4.930000e+02</td>\n",
       "      <td>1.477796e+09</td>\n",
       "      <td>5.634000e+01</td>\n",
       "      <td>...</td>\n",
       "      <td>NaN</td>\n",
       "      <td>NaN</td>\n",
       "      <td>NaN</td>\n",
       "      <td>NaN</td>\n",
       "      <td>NaN</td>\n",
       "      <td>NaN</td>\n",
       "      <td>NaN</td>\n",
       "      <td>NaN</td>\n",
       "      <td>NaN</td>\n",
       "      <td>NaN</td>\n",
       "    </tr>\n",
       "    <tr>\n",
       "      <th>75%</th>\n",
       "      <td>1.000000e+00</td>\n",
       "      <td>1.000000e+00</td>\n",
       "      <td>1.000000e+00</td>\n",
       "      <td>2.500000e+01</td>\n",
       "      <td>1.000000e+00</td>\n",
       "      <td>2.700000e+01</td>\n",
       "      <td>0.000000e+00</td>\n",
       "      <td>3.158000e+03</td>\n",
       "      <td>1.478310e+09</td>\n",
       "      <td>6.542000e+01</td>\n",
       "      <td>...</td>\n",
       "      <td>NaN</td>\n",
       "      <td>NaN</td>\n",
       "      <td>NaN</td>\n",
       "      <td>NaN</td>\n",
       "      <td>NaN</td>\n",
       "      <td>NaN</td>\n",
       "      <td>NaN</td>\n",
       "      <td>NaN</td>\n",
       "      <td>NaN</td>\n",
       "      <td>NaN</td>\n",
       "    </tr>\n",
       "    <tr>\n",
       "      <th>max</th>\n",
       "      <td>1.000000e+00</td>\n",
       "      <td>1.000000e+00</td>\n",
       "      <td>1.000000e+00</td>\n",
       "      <td>6.700000e+01</td>\n",
       "      <td>5.500000e+01</td>\n",
       "      <td>6.700000e+01</td>\n",
       "      <td>5.600000e+01</td>\n",
       "      <td>3.438000e+03</td>\n",
       "      <td>1.478840e+09</td>\n",
       "      <td>8.462000e+01</td>\n",
       "      <td>...</td>\n",
       "      <td>1.864100e+02</td>\n",
       "      <td>2.071300e+04</td>\n",
       "      <td>6.283233e+03</td>\n",
       "      <td>4.620343e+06</td>\n",
       "      <td>1.864100e+02</td>\n",
       "      <td>2.071300e+04</td>\n",
       "      <td>6.878518e+03</td>\n",
       "      <td>4.620343e+06</td>\n",
       "      <td>1.864100e+02</td>\n",
       "      <td>2.071300e+04</td>\n",
       "    </tr>\n",
       "  </tbody>\n",
       "</table>\n",
       "<p>8 rows × 36 columns</p>\n",
       "</div>"
      ],
      "text/plain": [
       "       is_installed    is_renting  is_returning  num_bikes_available  \\\n",
       "count  1.311519e+06  1.311519e+06  1.311519e+06         1.311519e+06   \n",
       "mean   9.999992e-01  9.990317e-01  9.990317e-01         1.599952e+01   \n",
       "std    8.731979e-04  3.110315e-02  3.110315e-02         1.294005e+01   \n",
       "min    0.000000e+00  0.000000e+00  0.000000e+00         0.000000e+00   \n",
       "25%    1.000000e+00  1.000000e+00  1.000000e+00         5.000000e+00   \n",
       "50%    1.000000e+00  1.000000e+00  1.000000e+00         1.300000e+01   \n",
       "75%    1.000000e+00  1.000000e+00  1.000000e+00         2.500000e+01   \n",
       "max    1.000000e+00  1.000000e+00  1.000000e+00         6.700000e+01   \n",
       "\n",
       "       num_bikes_disabled  num_docks_available  num_docks_disabled  \\\n",
       "count        1.311519e+06         1.311519e+06        1.311519e+06   \n",
       "mean         8.717815e-01         1.847743e+01        4.463374e-02   \n",
       "std          1.277249e+00         1.331788e+01        6.372692e-01   \n",
       "min          0.000000e+00         0.000000e+00        0.000000e+00   \n",
       "25%          0.000000e+00         7.000000e+00        0.000000e+00   \n",
       "50%          0.000000e+00         1.700000e+01        0.000000e+00   \n",
       "75%          1.000000e+00         2.700000e+01        0.000000e+00   \n",
       "max          5.500000e+01         6.700000e+01        5.600000e+01   \n",
       "\n",
       "         station_id    weather_ts  apparentTemperature          ...            \\\n",
       "count  1.311519e+06  1.311519e+06         1.311519e+06          ...             \n",
       "mean   1.459754e+03  1.477783e+09         5.691412e+01          ...             \n",
       "std    1.371302e+03  6.322759e+05         1.070471e+01          ...             \n",
       "min    7.200000e+01  1.476724e+09         3.156000e+01          ...             \n",
       "25%    3.570000e+02  1.477245e+09         5.028000e+01          ...             \n",
       "50%    4.930000e+02  1.477796e+09         5.634000e+01          ...             \n",
       "75%    3.158000e+03  1.478310e+09         6.542000e+01          ...             \n",
       "max    3.438000e+03  1.478840e+09         8.462000e+01          ...             \n",
       "\n",
       "       traffic_0_speed  traffic_0_travel_time  traffic_1_distance  \\\n",
       "count     1.310986e+06           1.310986e+06        1.310986e+06   \n",
       "mean      2.652525e+01           4.946772e+02        9.005775e+02   \n",
       "std       1.499510e+01           7.895902e+02        6.060270e+02   \n",
       "min       0.000000e+00           9.000000e+00        1.290784e+01   \n",
       "25%                NaN                    NaN                 NaN   \n",
       "50%                NaN                    NaN                 NaN   \n",
       "75%                NaN                    NaN                 NaN   \n",
       "max       1.864100e+02           2.071300e+04        6.283233e+03   \n",
       "\n",
       "       traffic_1_linkId  traffic_1_speed  traffic_1_travel_time  \\\n",
       "count      1.310986e+06     1.310986e+06           1.310986e+06   \n",
       "mean       4.571121e+06     2.607060e+01           5.567437e+02   \n",
       "std        8.693933e+04     1.450413e+01           1.310205e+03   \n",
       "min        4.329472e+06     0.000000e+00           9.000000e+00   \n",
       "25%                 NaN              NaN                    NaN   \n",
       "50%                 NaN              NaN                    NaN   \n",
       "75%                 NaN              NaN                    NaN   \n",
       "max        4.620343e+06     1.864100e+02           2.071300e+04   \n",
       "\n",
       "       traffic_2_distance  traffic_2_linkId  traffic_2_speed  \\\n",
       "count        1.310986e+06      1.310986e+06     1.310986e+06   \n",
       "mean         1.239315e+03      4.556558e+06     2.474908e+01   \n",
       "std          7.509799e+02      9.535069e+04     1.392374e+01   \n",
       "min          1.682873e+01      4.329472e+06     0.000000e+00   \n",
       "25%                   NaN               NaN              NaN   \n",
       "50%                   NaN               NaN              NaN   \n",
       "75%                   NaN               NaN              NaN   \n",
       "max          6.878518e+03      4.620343e+06     1.864100e+02   \n",
       "\n",
       "       traffic_2_travel_time  \n",
       "count           1.310986e+06  \n",
       "mean            4.896650e+02  \n",
       "std             9.821341e+02  \n",
       "min             9.000000e+00  \n",
       "25%                      NaN  \n",
       "50%                      NaN  \n",
       "75%                      NaN  \n",
       "max             2.071300e+04  \n",
       "\n",
       "[8 rows x 36 columns]"
      ]
     },
     "execution_count": 3,
     "metadata": {},
     "output_type": "execute_result"
    }
   ],
   "source": [
    "bikes.describe()"
   ]
  },
  {
   "cell_type": "code",
   "execution_count": 6,
   "metadata": {
    "collapsed": false
   },
   "outputs": [
    {
     "data": {
      "text/html": [
       "<div>\n",
       "<table border=\"1\" class=\"dataframe\">\n",
       "  <thead>\n",
       "    <tr style=\"text-align: right;\">\n",
       "      <th></th>\n",
       "      <th>apparentTemperature</th>\n",
       "      <th>humidity</th>\n",
       "      <th>temperature</th>\n",
       "      <th>windSpeed</th>\n",
       "      <th>visibility</th>\n",
       "    </tr>\n",
       "  </thead>\n",
       "  <tbody>\n",
       "    <tr>\n",
       "      <th>count</th>\n",
       "      <td>611.000000</td>\n",
       "      <td>611.000000</td>\n",
       "      <td>611.000000</td>\n",
       "      <td>611.000000</td>\n",
       "      <td>611.000000</td>\n",
       "    </tr>\n",
       "    <tr>\n",
       "      <th>mean</th>\n",
       "      <td>54.253241</td>\n",
       "      <td>0.668576</td>\n",
       "      <td>55.271178</td>\n",
       "      <td>6.522471</td>\n",
       "      <td>9.299116</td>\n",
       "    </tr>\n",
       "    <tr>\n",
       "      <th>std</th>\n",
       "      <td>10.299822</td>\n",
       "      <td>0.145453</td>\n",
       "      <td>9.145821</td>\n",
       "      <td>3.181296</td>\n",
       "      <td>1.405591</td>\n",
       "    </tr>\n",
       "    <tr>\n",
       "      <th>min</th>\n",
       "      <td>34.880000</td>\n",
       "      <td>0.350000</td>\n",
       "      <td>38.270000</td>\n",
       "      <td>0.070000</td>\n",
       "      <td>2.970000</td>\n",
       "    </tr>\n",
       "    <tr>\n",
       "      <th>25%</th>\n",
       "      <td>44.940000</td>\n",
       "      <td>0.560000</td>\n",
       "      <td>48.610000</td>\n",
       "      <td>4.215000</td>\n",
       "      <td>9.440000</td>\n",
       "    </tr>\n",
       "    <tr>\n",
       "      <th>50%</th>\n",
       "      <td>53.990000</td>\n",
       "      <td>0.660000</td>\n",
       "      <td>53.990000</td>\n",
       "      <td>6.160000</td>\n",
       "      <td>9.890000</td>\n",
       "    </tr>\n",
       "    <tr>\n",
       "      <th>75%</th>\n",
       "      <td>60.675000</td>\n",
       "      <td>0.780000</td>\n",
       "      <td>60.675000</td>\n",
       "      <td>8.310000</td>\n",
       "      <td>10.000000</td>\n",
       "    </tr>\n",
       "    <tr>\n",
       "      <th>max</th>\n",
       "      <td>83.410000</td>\n",
       "      <td>0.950000</td>\n",
       "      <td>82.660000</td>\n",
       "      <td>15.910000</td>\n",
       "      <td>10.000000</td>\n",
       "    </tr>\n",
       "  </tbody>\n",
       "</table>\n",
       "</div>"
      ],
      "text/plain": [
       "       apparentTemperature    humidity  temperature   windSpeed  visibility\n",
       "count           611.000000  611.000000   611.000000  611.000000  611.000000\n",
       "mean             54.253241    0.668576    55.271178    6.522471    9.299116\n",
       "std              10.299822    0.145453     9.145821    3.181296    1.405591\n",
       "min              34.880000    0.350000    38.270000    0.070000    2.970000\n",
       "25%              44.940000    0.560000    48.610000    4.215000    9.440000\n",
       "50%              53.990000    0.660000    53.990000    6.160000    9.890000\n",
       "75%              60.675000    0.780000    60.675000    8.310000   10.000000\n",
       "max              83.410000    0.950000    82.660000   15.910000   10.000000"
      ]
     },
     "execution_count": 6,
     "metadata": {},
     "output_type": "execute_result"
    }
   ],
   "source": [
    "numeric_features = ['apparentTemperature', 'humidity', 'temperature', 'windSpeed', 'visibility', 'weather_ts']\n",
    "bikes_subset = bikes[bikes['station_id'] <= 72][numeric_features]\n",
    "bikes_cleaned = bikes_subset.drop_duplicates(numeric_features,False)\n",
    "bikes_cleaned = bikes_cleaned.drop('weather_ts', 1)\n",
    "bikes_cleaned.describe()"
   ]
  },
  {
   "cell_type": "markdown",
   "metadata": {},
   "source": [
    "a. Plot the histogram of one of the features."
   ]
  },
  {
   "cell_type": "code",
   "execution_count": 7,
   "metadata": {
    "collapsed": false
   },
   "outputs": [
    {
     "data": {
      "image/png": "[encoded data removed]",
      "text/plain": [
       "<matplotlib.figure.Figure at 0x1604681a908>"
      ]
     },
     "metadata": {},
     "output_type": "display_data"
    }
   ],
   "source": [
    "%matplotlib inline\n",
    "\n",
    "import matplotlib.pyplot as plt\n",
    "n, bins, patches = plt.hist(bikes_cleaned['temperature'], 30, (30,90))\n",
    "plt.title(\"Histogram of Temperature\")\n",
    "plt.show()"
   ]
  },
  {
   "cell_type": "markdown",
   "metadata": {},
   "source": [
    "b. Plot the boxplots of all the features."
   ]
  },
  {
   "cell_type": "code",
   "execution_count": 18,
   "metadata": {
    "collapsed": false
   },
   "outputs": [
    {
     "data": {
      "text/plain": [
       "<matplotlib.axes._subplots.AxesSubplot at 0x16011475048>"
      ]
     },
     "execution_count": 18,
     "metadata": {},
     "output_type": "execute_result"
    },
    {
     "data": {
      "image/png": "[encoded data removed]",
      "text/plain": [
       "<matplotlib.figure.Figure at 0x160114b7c50>"
      ]
     },
     "metadata": {},
     "output_type": "display_data"
    }
   ],
   "source": [
    "bikes_cleaned.plot.box(figsize = (10,6))"
   ]
  },
  {
   "cell_type": "markdown",
   "metadata": {},
   "source": [
    "Dividing into two boxplots, because the columns with lower values are difficult to read when combined"
   ]
  },
  {
   "cell_type": "code",
   "execution_count": 9,
   "metadata": {
    "collapsed": false
   },
   "outputs": [
    {
     "data": {
      "text/plain": [
       "<matplotlib.axes._subplots.AxesSubplot at 0x16010e70668>"
      ]
     },
     "execution_count": 9,
     "metadata": {},
     "output_type": "execute_result"
    },
    {
     "data": {
      "image/png": "[encoded data removed]",
      "text/plain": [
       "<matplotlib.figure.Figure at 0x160112b2eb8>"
      ]
     },
     "metadata": {},
     "output_type": "display_data"
    }
   ],
   "source": [
    "columns = [0, 2]\n",
    "bikes_cleaned.iloc[:, columns].plot.box(figsize = (10,6))"
   ]
  },
  {
   "cell_type": "code",
   "execution_count": 10,
   "metadata": {
    "collapsed": false
   },
   "outputs": [
    {
     "data": {
      "text/plain": [
       "<matplotlib.axes._subplots.AxesSubplot at 0x160112f1ba8>"
      ]
     },
     "execution_count": 10,
     "metadata": {},
     "output_type": "execute_result"
    },
    {
     "data": {
      "image/png": "[encoded data removed]",
      "text/plain": [
       "<matplotlib.figure.Figure at 0x1601135b048>"
      ]
     },
     "metadata": {},
     "output_type": "display_data"
    }
   ],
   "source": [
    "columns = [1,3,4]\n",
    "bikes_cleaned.iloc[:, columns].plot.box(figsize = (10,6))"
   ]
  },
  {
   "cell_type": "markdown",
   "metadata": {},
   "source": [
    "c. Compute the empirical correlation coefficients between every pair of features. This can be done using the corrcoeff function in python."
   ]
  },
  {
   "cell_type": "code",
   "execution_count": 11,
   "metadata": {
    "collapsed": false
   },
   "outputs": [
    {
     "data": {
      "text/plain": [
       "{'apparentTemperature and humidity': 0.14263726894492892,\n",
       " 'apparentTemperature and temperature': 0.99256983354310802,\n",
       " 'apparentTemperature and visibility': -0.14750608703344523,\n",
       " 'apparentTemperature and windSpeed': -0.19209551752584889,\n",
       " 'humidity and temperature': 0.15637665366404316,\n",
       " 'humidity and visibility': -0.6616424061425844,\n",
       " 'humidity and windSpeed': -0.1116976104880036,\n",
       " 'temperature and visibility': -0.14724946649854861,\n",
       " 'temperature and windSpeed': -0.14741869762652354,\n",
       " 'windSpeed and visibility': 0.12801908006539192}"
      ]
     },
     "execution_count": 11,
     "metadata": {},
     "output_type": "execute_result"
    }
   ],
   "source": [
    "import numpy as np\n",
    "\n",
    "correlations = {}\n",
    "\n",
    "i = 0\n",
    "for i in range(0,5):\n",
    "        for k in range(i+1,5):\n",
    "            i_col = bikes_subset.iloc[:,i]\n",
    "            k_col = bikes_subset.iloc[:,k]\n",
    "            correlations[i_col.name + ' and ' + k_col.name] = np.corrcoef(i_col, k_col)[1,0]\n",
    "            \n",
    "correlations"
   ]
  },
  {
   "cell_type": "markdown",
   "metadata": {},
   "source": [
    "d. Choose two features that are highly correlated (positively or negatively) and plot their scatterplot."
   ]
  },
  {
   "cell_type": "code",
   "execution_count": 12,
   "metadata": {
    "collapsed": false
   },
   "outputs": [
    {
     "data": {
      "text/plain": [
       "<matplotlib.axes._subplots.AxesSubplot at 0x1601136ab70>"
      ]
     },
     "execution_count": 12,
     "metadata": {},
     "output_type": "execute_result"
    },
    {
     "data": {
      "image/png": "[encoded data removed]",
      "text/plain": [
       "<matplotlib.figure.Figure at 0x160112edb70>"
      ]
     },
     "metadata": {},
     "output_type": "display_data"
    }
   ],
   "source": [
    "bikes_cleaned.plot.scatter(x = 'apparentTemperature', y='temperature')"
   ]
  },
  {
   "cell_type": "markdown",
   "metadata": {},
   "source": [
    "Because these are almost perfectly correlated, I also plotted humidity and visibility as an example of two variables that are correlated, but not extremely so."
   ]
  },
  {
   "cell_type": "code",
   "execution_count": 13,
   "metadata": {
    "collapsed": false
   },
   "outputs": [
    {
     "data": {
      "text/plain": [
       "<matplotlib.axes._subplots.AxesSubplot at 0x1601141a390>"
      ]
     },
     "execution_count": 13,
     "metadata": {},
     "output_type": "execute_result"
    },
    {
     "data": {
      "image/png": "[encoded data removed]",
      "text/plain": [
       "<matplotlib.figure.Figure at 0x1601145b940>"
      ]
     },
     "metadata": {},
     "output_type": "display_data"
    }
   ],
   "source": [
    "bikes_cleaned.plot.scatter(x = 'humidity', y='visibility')"
   ]
  },
  {
   "cell_type": "markdown",
   "metadata": {},
   "source": [
    "e. Compute the two first principal components of the data and project onto them. Then visualize the scatterplot of the result. Do the same for the two last principal components."
   ]
  },
  {
   "cell_type": "code",
   "execution_count": 59,
   "metadata": {
    "collapsed": false
   },
   "outputs": [
    {
     "data": {
      "text/plain": [
       "array([  1.89278572e+02,   9.87007864e+00,   7.85670619e-01,\n",
       "         1.90369920e+00,   1.18371391e-02])"
      ]
     },
     "execution_count": 59,
     "metadata": {},
     "output_type": "execute_result"
    }
   ],
   "source": [
    "covariance_matrix = np.cov(bikes_cleaned[features], rowvar = False)\n",
    "eigenvalue, eigenvector = np.linalg.eig(covariance_matrix)\n",
    "eigenvalue"
   ]
  },
  {
   "cell_type": "code",
   "execution_count": 56,
   "metadata": {
    "collapsed": false
   },
   "outputs": [
    {
     "data": {
      "text/plain": [
       "array([[-0.5067, -0.0345, -0.4237,  0.0071, -0.0061],\n",
       "       [-0.001 , -0.0058,  0.0082,  0.0567, -0.9212],\n",
       "       [-0.4491,  0.0987,  0.4721, -0.0238,  0.0072],\n",
       "       [ 0.0326,  0.8063, -0.0744,  0.0613, -0.0036],\n",
       "       [ 0.0106,  0.0547, -0.0215, -0.8511, -0.0619]])"
      ]
     },
     "execution_count": 56,
     "metadata": {},
     "output_type": "execute_result"
    }
   ],
   "source": [
    "#normalize all the eigenvectors\n",
    "\n",
    "for i in range(0,5):\n",
    "    eigenvector[:,i] = (eigenvector[:,i]/(np.linalg.norm(eigenvector[:,i], ord = 1))).round(4)\n",
    "    \n",
    "eigenvector"
   ]
  },
  {
   "cell_type": "markdown",
   "metadata": {},
   "source": [
    "First two components"
   ]
  },
  {
   "cell_type": "code",
   "execution_count": 22,
   "metadata": {
    "collapsed": false
   },
   "outputs": [
    {
     "data": {
      "text/plain": [
       "array([[-0.50668978, -0.00096432, -0.44914017,  0.03259737,  0.01060836],\n",
       "       [-0.03447309, -0.00580634,  0.09871473,  0.80631771,  0.05468813]])"
      ]
     },
     "execution_count": 22,
     "metadata": {},
     "output_type": "execute_result"
    }
   ],
   "source": [
    "#stack eigenvectors for 2 biggest eigenvalues\n",
    "matrix_w = np.vstack((eigenvector[:,0], eigenvector[:,1]))\n",
    "matrix_w"
   ]
  },
  {
   "cell_type": "code",
   "execution_count": 39,
   "metadata": {
    "collapsed": false
   },
   "outputs": [
    {
     "data": {
      "text/plain": [
       "<matplotlib.axes._subplots.AxesSubplot at 0x16011af0d30>"
      ]
     },
     "execution_count": 39,
     "metadata": {},
     "output_type": "execute_result"
    },
    {
     "data": {
      "image/png": "[encoded data removed]",
      "text/plain": [
       "<matplotlib.figure.Figure at 0x16011ad5c18>"
      ]
     },
     "metadata": {},
     "output_type": "display_data"
    }
   ],
   "source": [
    "projected_onto_first = np.dot(matrix_w, bikes_cleaned[features].T)\n",
    "projection_df_first = pd.DataFrame(projected_onto_first.T)\n",
    "projection_df_first.plot.scatter(x = 0, y = 1, xticks = range(-90, 20, 10), yticks = range(-2,20,2))"
   ]
  },
  {
   "cell_type": "markdown",
   "metadata": {},
   "source": [
    "Last two components"
   ]
  },
  {
   "cell_type": "code",
   "execution_count": 57,
   "metadata": {
    "collapsed": false
   },
   "outputs": [
    {
     "data": {
      "text/plain": [
       "array([[-0.0061, -0.9212,  0.0072, -0.0036, -0.0619],\n",
       "       [-0.4237,  0.0082,  0.4721, -0.0744, -0.0215]])"
      ]
     },
     "execution_count": 57,
     "metadata": {},
     "output_type": "execute_result"
    }
   ],
   "source": [
    "#stack eigenvectors for 2 smallest eigenvalues\n",
    "matrix_q = np.vstack((eigenvector[:,4], eigenvector[:,2]))\n",
    "matrix_q"
   ]
  },
  {
   "cell_type": "code",
   "execution_count": 58,
   "metadata": {
    "collapsed": false
   },
   "outputs": [
    {
     "data": {
      "text/plain": [
       "<matplotlib.axes._subplots.AxesSubplot at 0x160119e97f0>"
      ]
     },
     "execution_count": 58,
     "metadata": {},
     "output_type": "execute_result"
    },
    {
     "data": {
      "image/png": "[encoded data removed]",
      "text/plain": [
       "<matplotlib.figure.Figure at 0x16011be35c0>"
      ]
     },
     "metadata": {},
     "output_type": "display_data"
    }
   ],
   "source": [
    "projected_onto_last = np.dot(matrix_q, bikes_cleaned.T)\n",
    "projection_df_last = pd.DataFrame(projected_onto_last.T)\n",
    "projection_df_last.plot.scatter(x = 0, y = 1, xticks = range(-90, 20, 10), yticks = range(-2,20,2))"
   ]
  },
  {
   "cell_type": "markdown",
   "metadata": {},
   "source": [
    "Question 2, Part c"
   ]
  },
  {
   "cell_type": "code",
   "execution_count": 36,
   "metadata": {
    "collapsed": false
   },
   "outputs": [],
   "source": [
    "%matplotlib inline\n",
    "\n",
    "import os.path\n",
    "import math\n",
    "import matplotlib.pyplot as plt\n",
    "import numpy as np\n",
    "\n",
    "weights = np.loadtxt(\"C:\\\\Users\\\\Caroline\\\\Documents\\\\School\\\\Statistical and Mathematical Methods\\\\weights.txt\")"
   ]
  },
  {
   "cell_type": "code",
   "execution_count": 9,
   "metadata": {
    "collapsed": false
   },
   "outputs": [
    {
     "name": "stdout",
     "output_type": "stream",
     "text": [
      "198.441347791   112.9925   127.079421161   14.0869211608 198.441347791\n"
     ]
    }
   ],
   "source": [
    "# True mean\n",
    "mean_weight = np.mean(weights)\n",
    "\n",
    "# Function to compute empirical variance from a empirical\n",
    "def compute_empirical_variance(x):\n",
    "    squared_differences = []\n",
    "    for w in range(0, len(weights)-1):\n",
    "        squared_differences.append((mean_weight - weights[w])**2)\n",
    "    return sum(squared_differences)/(len(squared_differences) - 1)\n",
    "\n"
   ]
  },
  {
   "cell_type": "code",
   "execution_count": 30,
   "metadata": {
    "collapsed": false
   },
   "outputs": [
    {
     "data": {
      "text/plain": [
       "list"
      ]
     },
     "execution_count": 30,
     "metadata": {},
     "output_type": "execute_result"
    }
   ],
   "source": [
    "\n",
    "def approximate_confidence_interval(x):\n",
    "    lower = np.mean(x) - (np.std(x)/math.sqrt(len(x)))*1.96\n",
    "    upper = np.mean(x) + (np.std(x)/math.sqrt(len(x)))*1.96\n",
    "    interval = [lower, upper]\n",
    "    return interval\n",
    "        \n",
    "type(approximate_confidence_interval(weights[random_ind]))"
   ]
  },
  {
   "cell_type": "code",
   "execution_count": 37,
   "metadata": {
    "collapsed": false
   },
   "outputs": [
    {
     "data": {
      "image/png": "[encoded data removed]",
      "text/plain": [
       "<matplotlib.figure.Figure at 0x21f51b75d68>"
      ]
     },
     "metadata": {},
     "output_type": "display_data"
    },
    {
     "data": {
      "image/png": "[encoded data removed]",
      "text/plain": [
       "<matplotlib.figure.Figure at 0x21f54a68208>"
      ]
     },
     "metadata": {},
     "output_type": "display_data"
    },
    {
     "name": "stdout",
     "output_type": "stream",
     "text": [
      "n = 20\n",
      "710 intervals out of 10000 don't contain the true mean\n",
      "n = 1000\n",
      "500 intervals out of 10000 don't contain the true mean\n"
     ]
    },
    {
     "data": {
      "image/png": "[encoded data removed]",
      "text/plain": [
       "<matplotlib.figure.Figure at 0x21f5487ab70>"
      ]
     },
     "metadata": {},
     "output_type": "display_data"
    }
   ],
   "source": [
    "plt.close(\"all\")\n",
    "\n",
    "# Plot confidence intervals for different values of n\n",
    "n_val = [20, 1000]\n",
    "n_tries = 100\n",
    "for n in n_val:\n",
    "    conf_interval_list = []\n",
    "    outside = 0\n",
    "    for i in range(n_tries):\n",
    "        # Uniform sampling with replacement\n",
    "        random_ind = np.random.choice(weights.size, n, replace=True)\n",
    "        conf_interval = approximate_confidence_interval(weights[random_ind])\n",
    "        conf_interval_list.append(conf_interval)\n",
    "        if conf_interval[0] > mean_weight or conf_interval[1] < mean_weight:\n",
    "            outside += 1\n",
    "    plt.figure(n, figsize=(14, 7))\n",
    "    ax = plt.subplot(111)    \n",
    "    ax.axes.get_yaxis().set_visible(False)    \n",
    "    plt.plot(mean_weight, 0, color = 'red', lw=2, label='True mean') \n",
    "    plt.plot([mean_weight, mean_weight], [0, n_tries-1], color = 'red', lw=2) \n",
    "    for i in range(n_tries):\n",
    "        plt.plot(conf_interval_list[i],[i, i] , color = 'blue', lw=2)\n",
    "    plt.legend(fontsize=20)\n",
    "    plt.title(str(outside) + \" intervals out of 100 don't contain the true mean\")\n",
    "    plt.show()\n",
    "    \n",
    "n_tries = 10000\n",
    "for n in n_val:\n",
    "    outside = 0\n",
    "    for i in range(n_tries):\n",
    "        # Uniform sampling with replacement\n",
    "        random_ind = np.random.choice(weights.size, n, replace=True)\n",
    "        conf_interval = approximate_confidence_interval(weights[random_ind])\n",
    "        if conf_interval[0] > mean_weight or conf_interval[1] < mean_weight:\n",
    "            outside += 1\n",
    "    print (\"n = \" + str(n))\n",
    "    print (str(outside) + \" intervals out of 10000 don't contain the true mean\")\n",
    "    \n",
    "# Print distribution of empirical variance for n = 20 and n = 1000\n",
    "empirical_var_list = []\n",
    "for i_n in range(len(n_val)):\n",
    "    n = n_val[i_n]\n",
    "    empirical_var_list.append([])\n",
    "    for i in range(n_tries):  \n",
    "        random_ind = np.random.choice(weights.size, n, replace=True)\n",
    "        empirical_var_list[i_n].append(compute_empirical_variance(weights[random_ind]))\n",
    "plt.figure(n+1, figsize=(14, 7))\n",
    "ax = plt.subplot(111)    \n",
    "plt.title(\"Distribution of empirical variance\")\n",
    "plt.hist(empirical_var_list[0],50,normed=True,edgecolor = \"none\", color=\"skyblue\", \n",
    "         label=\"n = 20\")\n",
    "plt.hist(empirical_var_list[1],50,normed=True,edgecolor = \"none\", color=\"green\", \n",
    "         label=\"n = 1000\")  \n",
    "plt.show()"
   ]
  },
  {
   "cell_type": "code",
   "execution_count": 35,
   "metadata": {
    "collapsed": true
   },
   "outputs": [],
   "source": []
  }
 ],
 "metadata": {
  "anaconda-cloud": {},
  "kernelspec": {
   "display_name": "Python [Root]",
   "language": "python",
   "name": "Python [Root]"
  },
  "language_info": {
   "codemirror_mode": {
    "name": "ipython",
    "version": 3
   },
   "file_extension": ".py",
   "mimetype": "text/x-python",
   "name": "python",
   "nbconvert_exporter": "python",
   "pygments_lexer": "ipython3",
   "version": "3.5.2"
  }
 },
 "nbformat": 4,
 "nbformat_minor": 0
}
