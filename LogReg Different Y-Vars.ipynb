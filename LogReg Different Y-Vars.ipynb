{
 "cells": [
  {
   "cell_type": "code",
   "execution_count": 1,
   "metadata": {
    "collapsed": true
   },
   "outputs": [],
   "source": [
    "import json\n",
    "from pprint import pprint\n",
    "\n",
    "with open('stations.json') as data_file:    \n",
    "    data = json.load(data_file)"
   ]
  },
  {
   "cell_type": "code",
   "execution_count": 2,
   "metadata": {
    "collapsed": false
   },
   "outputs": [],
   "source": [
    "# Load data\n",
    "import numpy as np\n",
    "import pandas as pd\n",
    "import matplotlib.pyplot as plt\n",
    "import sklearn.preprocessing\n",
    "from sklearn.linear_model import LogisticRegression\n",
    "import project_env\n",
    "from imp import reload\n",
    "import math\n",
    "\n",
    "reload(project_env)\n",
    "\n",
    "%matplotlib inline"
   ]
  },
  {
   "cell_type": "code",
   "execution_count": 3,
   "metadata": {
    "collapsed": false
   },
   "outputs": [
    {
     "data": {
      "text/html": [
       "<div>\n",
       "<table border=\"1\" class=\"dataframe\">\n",
       "  <thead>\n",
       "    <tr style=\"text-align: right;\">\n",
       "      <th></th>\n",
       "      <th>totalDocks</th>\n",
       "      <th>postalCode</th>\n",
       "      <th>latitude</th>\n",
       "      <th>city</th>\n",
       "      <th>stationName</th>\n",
       "      <th>stAddress1</th>\n",
       "      <th>testStation</th>\n",
       "      <th>stAddress2</th>\n",
       "      <th>altitude</th>\n",
       "      <th>availableBikes</th>\n",
       "      <th>lastCommunicationTime</th>\n",
       "      <th>statusKey</th>\n",
       "      <th>statusValue</th>\n",
       "      <th>landMark</th>\n",
       "      <th>longitude</th>\n",
       "      <th>availableDocks</th>\n",
       "      <th>location</th>\n",
       "    </tr>\n",
       "    <tr>\n",
       "      <th>id</th>\n",
       "      <th></th>\n",
       "      <th></th>\n",
       "      <th></th>\n",
       "      <th></th>\n",
       "      <th></th>\n",
       "      <th></th>\n",
       "      <th></th>\n",
       "      <th></th>\n",
       "      <th></th>\n",
       "      <th></th>\n",
       "      <th></th>\n",
       "      <th></th>\n",
       "      <th></th>\n",
       "      <th></th>\n",
       "      <th></th>\n",
       "      <th></th>\n",
       "      <th></th>\n",
       "    </tr>\n",
       "  </thead>\n",
       "  <tbody>\n",
       "    <tr>\n",
       "      <th>72</th>\n",
       "      <td>39</td>\n",
       "      <td></td>\n",
       "      <td>40.7673</td>\n",
       "      <td></td>\n",
       "      <td>W 52 St &amp; 11 Ave</td>\n",
       "      <td>W 52 St &amp; 11 Ave</td>\n",
       "      <td>False</td>\n",
       "      <td></td>\n",
       "      <td></td>\n",
       "      <td>0</td>\n",
       "      <td>2016-12-03 12:52:42 PM</td>\n",
       "      <td>1</td>\n",
       "      <td>In Service</td>\n",
       "      <td></td>\n",
       "      <td>-73.9939</td>\n",
       "      <td>38</td>\n",
       "      <td></td>\n",
       "    </tr>\n",
       "    <tr>\n",
       "      <th>79</th>\n",
       "      <td>33</td>\n",
       "      <td></td>\n",
       "      <td>40.7191</td>\n",
       "      <td></td>\n",
       "      <td>Franklin St &amp; W Broadway</td>\n",
       "      <td>Franklin St &amp; W Broadway</td>\n",
       "      <td>False</td>\n",
       "      <td></td>\n",
       "      <td></td>\n",
       "      <td>31</td>\n",
       "      <td>2016-12-03 12:52:01 PM</td>\n",
       "      <td>1</td>\n",
       "      <td>In Service</td>\n",
       "      <td></td>\n",
       "      <td>-74.0067</td>\n",
       "      <td>1</td>\n",
       "      <td></td>\n",
       "    </tr>\n",
       "    <tr>\n",
       "      <th>82</th>\n",
       "      <td>27</td>\n",
       "      <td></td>\n",
       "      <td>40.7112</td>\n",
       "      <td></td>\n",
       "      <td>St James Pl &amp; Pearl St</td>\n",
       "      <td>St James Pl &amp; Pearl St</td>\n",
       "      <td>False</td>\n",
       "      <td></td>\n",
       "      <td></td>\n",
       "      <td>9</td>\n",
       "      <td>2016-12-03 12:52:29 PM</td>\n",
       "      <td>1</td>\n",
       "      <td>In Service</td>\n",
       "      <td></td>\n",
       "      <td>-74.0002</td>\n",
       "      <td>18</td>\n",
       "      <td></td>\n",
       "    </tr>\n",
       "    <tr>\n",
       "      <th>83</th>\n",
       "      <td>62</td>\n",
       "      <td></td>\n",
       "      <td>40.6838</td>\n",
       "      <td></td>\n",
       "      <td>Atlantic Ave &amp; Fort Greene Pl</td>\n",
       "      <td>Atlantic Ave &amp; Fort Greene Pl</td>\n",
       "      <td>False</td>\n",
       "      <td></td>\n",
       "      <td></td>\n",
       "      <td>33</td>\n",
       "      <td>2016-12-03 12:52:37 PM</td>\n",
       "      <td>1</td>\n",
       "      <td>In Service</td>\n",
       "      <td></td>\n",
       "      <td>-73.9763</td>\n",
       "      <td>28</td>\n",
       "      <td></td>\n",
       "    </tr>\n",
       "    <tr>\n",
       "      <th>116</th>\n",
       "      <td>39</td>\n",
       "      <td></td>\n",
       "      <td>40.7418</td>\n",
       "      <td></td>\n",
       "      <td>W 17 St &amp; 8 Ave</td>\n",
       "      <td>W 17 St &amp; 8 Ave</td>\n",
       "      <td>False</td>\n",
       "      <td></td>\n",
       "      <td></td>\n",
       "      <td>35</td>\n",
       "      <td>2016-12-03 12:53:38 PM</td>\n",
       "      <td>1</td>\n",
       "      <td>In Service</td>\n",
       "      <td></td>\n",
       "      <td>-74.0015</td>\n",
       "      <td>3</td>\n",
       "      <td></td>\n",
       "    </tr>\n",
       "  </tbody>\n",
       "</table>\n",
       "</div>"
      ],
      "text/plain": [
       "    totalDocks postalCode latitude city                    stationName  \\\n",
       "id                                                                       \n",
       "72          39             40.7673                    W 52 St & 11 Ave   \n",
       "79          33             40.7191            Franklin St & W Broadway   \n",
       "82          27             40.7112              St James Pl & Pearl St   \n",
       "83          62             40.6838       Atlantic Ave & Fort Greene Pl   \n",
       "116         39             40.7418                     W 17 St & 8 Ave   \n",
       "\n",
       "                        stAddress1 testStation stAddress2 altitude  \\\n",
       "id                                                                   \n",
       "72                W 52 St & 11 Ave       False                       \n",
       "79        Franklin St & W Broadway       False                       \n",
       "82          St James Pl & Pearl St       False                       \n",
       "83   Atlantic Ave & Fort Greene Pl       False                       \n",
       "116                W 17 St & 8 Ave       False                       \n",
       "\n",
       "    availableBikes   lastCommunicationTime statusKey statusValue landMark  \\\n",
       "id                                                                          \n",
       "72               0  2016-12-03 12:52:42 PM         1  In Service            \n",
       "79              31  2016-12-03 12:52:01 PM         1  In Service            \n",
       "82               9  2016-12-03 12:52:29 PM         1  In Service            \n",
       "83              33  2016-12-03 12:52:37 PM         1  In Service            \n",
       "116             35  2016-12-03 12:53:38 PM         1  In Service            \n",
       "\n",
       "    longitude availableDocks location  \n",
       "id                                     \n",
       "72   -73.9939             38           \n",
       "79   -74.0067              1           \n",
       "82   -74.0002             18           \n",
       "83   -73.9763             28           \n",
       "116  -74.0015              3           "
      ]
     },
     "execution_count": 3,
     "metadata": {},
     "output_type": "execute_result"
    }
   ],
   "source": [
    "stations = pd.read_json('stations.json', 'index').T\n",
    "stations_df = pd.DataFrame.from_dict(stations['stationBeanList'][0], orient = 'index').T\n",
    "for i in range(1, 664):\n",
    "    stations_df = pd.concat([stations_df, pd.DataFrame.from_dict(stations['stationBeanList'][i], orient = 'index').T])\n",
    "stations_df = stations_df.set_index('id')\n",
    "stations_df.head()"
   ]
  },
  {
   "cell_type": "code",
   "execution_count": 4,
   "metadata": {
    "collapsed": false
   },
   "outputs": [
    {
     "data": {
      "text/plain": [
       "list"
      ]
     },
     "execution_count": 4,
     "metadata": {},
     "output_type": "execute_result"
    }
   ],
   "source": [
    "import os\n",
    "files = os.listdir('per_station_dev')\n",
    "type(files)"
   ]
  },
  {
   "cell_type": "code",
   "execution_count": 5,
   "metadata": {
    "collapsed": false
   },
   "outputs": [],
   "source": [
    "station_ids = []\n",
    "for i in range(0, len(files)):\n",
    "    station_ids.append(int(files[i][0:len(files[0])- 4]))"
   ]
  },
  {
   "cell_type": "code",
   "execution_count": 6,
   "metadata": {
    "collapsed": false
   },
   "outputs": [],
   "source": [
    "stations_df = stations_df.loc[station_ids, :]"
   ]
  },
  {
   "cell_type": "code",
   "execution_count": 7,
   "metadata": {
    "collapsed": false
   },
   "outputs": [
    {
     "data": {
      "text/html": [
       "<div>\n",
       "<table border=\"1\" class=\"dataframe\">\n",
       "  <thead>\n",
       "    <tr style=\"text-align: right;\">\n",
       "      <th></th>\n",
       "      <th>totalDocks</th>\n",
       "      <th>postalCode</th>\n",
       "      <th>latitude</th>\n",
       "      <th>city</th>\n",
       "      <th>stationName</th>\n",
       "      <th>stAddress1</th>\n",
       "      <th>testStation</th>\n",
       "      <th>stAddress2</th>\n",
       "      <th>altitude</th>\n",
       "      <th>availableBikes</th>\n",
       "      <th>lastCommunicationTime</th>\n",
       "      <th>statusKey</th>\n",
       "      <th>statusValue</th>\n",
       "      <th>landMark</th>\n",
       "      <th>longitude</th>\n",
       "      <th>availableDocks</th>\n",
       "      <th>location</th>\n",
       "    </tr>\n",
       "    <tr>\n",
       "      <th>id</th>\n",
       "      <th></th>\n",
       "      <th></th>\n",
       "      <th></th>\n",
       "      <th></th>\n",
       "      <th></th>\n",
       "      <th></th>\n",
       "      <th></th>\n",
       "      <th></th>\n",
       "      <th></th>\n",
       "      <th></th>\n",
       "      <th></th>\n",
       "      <th></th>\n",
       "      <th></th>\n",
       "      <th></th>\n",
       "      <th></th>\n",
       "      <th></th>\n",
       "      <th></th>\n",
       "    </tr>\n",
       "  </thead>\n",
       "  <tbody>\n",
       "    <tr>\n",
       "      <th>128</th>\n",
       "      <td>30</td>\n",
       "      <td></td>\n",
       "      <td>40.7271</td>\n",
       "      <td></td>\n",
       "      <td>MacDougal St &amp; Prince St</td>\n",
       "      <td>MacDougal St &amp; Prince St</td>\n",
       "      <td>False</td>\n",
       "      <td></td>\n",
       "      <td></td>\n",
       "      <td>3</td>\n",
       "      <td>2016-12-03 12:51:57 PM</td>\n",
       "      <td>1</td>\n",
       "      <td>In Service</td>\n",
       "      <td></td>\n",
       "      <td>-74.003</td>\n",
       "      <td>27</td>\n",
       "      <td></td>\n",
       "    </tr>\n",
       "    <tr>\n",
       "      <th>151</th>\n",
       "      <td>33</td>\n",
       "      <td></td>\n",
       "      <td>40.7221</td>\n",
       "      <td></td>\n",
       "      <td>Cleveland Pl &amp; Spring St</td>\n",
       "      <td>Cleveland Pl &amp; Spring St</td>\n",
       "      <td>False</td>\n",
       "      <td></td>\n",
       "      <td></td>\n",
       "      <td>26</td>\n",
       "      <td>2016-12-03 12:54:56 PM</td>\n",
       "      <td>1</td>\n",
       "      <td>In Service</td>\n",
       "      <td></td>\n",
       "      <td>-73.9972</td>\n",
       "      <td>7</td>\n",
       "      <td></td>\n",
       "    </tr>\n",
       "    <tr>\n",
       "      <th>161</th>\n",
       "      <td>35</td>\n",
       "      <td></td>\n",
       "      <td>40.7292</td>\n",
       "      <td></td>\n",
       "      <td>LaGuardia Pl &amp; W 3 St</td>\n",
       "      <td>LaGuardia Pl &amp; W 3 St</td>\n",
       "      <td>False</td>\n",
       "      <td></td>\n",
       "      <td></td>\n",
       "      <td>33</td>\n",
       "      <td>2016-12-03 12:51:54 PM</td>\n",
       "      <td>1</td>\n",
       "      <td>In Service</td>\n",
       "      <td></td>\n",
       "      <td>-73.9981</td>\n",
       "      <td>0</td>\n",
       "      <td></td>\n",
       "    </tr>\n",
       "    <tr>\n",
       "      <th>174</th>\n",
       "      <td>30</td>\n",
       "      <td></td>\n",
       "      <td>40.7382</td>\n",
       "      <td></td>\n",
       "      <td>E 25 St &amp; 1 Ave</td>\n",
       "      <td>E 25 St &amp; 1 Ave</td>\n",
       "      <td>False</td>\n",
       "      <td></td>\n",
       "      <td></td>\n",
       "      <td>3</td>\n",
       "      <td>2016-12-03 12:53:39 PM</td>\n",
       "      <td>1</td>\n",
       "      <td>In Service</td>\n",
       "      <td></td>\n",
       "      <td>-73.9774</td>\n",
       "      <td>25</td>\n",
       "      <td></td>\n",
       "    </tr>\n",
       "    <tr>\n",
       "      <th>229</th>\n",
       "      <td>23</td>\n",
       "      <td></td>\n",
       "      <td>40.7274</td>\n",
       "      <td></td>\n",
       "      <td>Great Jones St</td>\n",
       "      <td>Great Jones St</td>\n",
       "      <td>False</td>\n",
       "      <td></td>\n",
       "      <td></td>\n",
       "      <td>21</td>\n",
       "      <td>2016-12-03 12:53:21 PM</td>\n",
       "      <td>1</td>\n",
       "      <td>In Service</td>\n",
       "      <td></td>\n",
       "      <td>-73.9938</td>\n",
       "      <td>1</td>\n",
       "      <td></td>\n",
       "    </tr>\n",
       "  </tbody>\n",
       "</table>\n",
       "</div>"
      ],
      "text/plain": [
       "    totalDocks postalCode latitude city               stationName  \\\n",
       "id                                                                  \n",
       "128         30             40.7271       MacDougal St & Prince St   \n",
       "151         33             40.7221       Cleveland Pl & Spring St   \n",
       "161         35             40.7292          LaGuardia Pl & W 3 St   \n",
       "174         30             40.7382                E 25 St & 1 Ave   \n",
       "229         23             40.7274                 Great Jones St   \n",
       "\n",
       "                   stAddress1 testStation stAddress2 altitude availableBikes  \\\n",
       "id                                                                             \n",
       "128  MacDougal St & Prince St       False                                  3   \n",
       "151  Cleveland Pl & Spring St       False                                 26   \n",
       "161     LaGuardia Pl & W 3 St       False                                 33   \n",
       "174           E 25 St & 1 Ave       False                                  3   \n",
       "229            Great Jones St       False                                 21   \n",
       "\n",
       "      lastCommunicationTime statusKey statusValue landMark longitude  \\\n",
       "id                                                                     \n",
       "128  2016-12-03 12:51:57 PM         1  In Service            -74.003   \n",
       "151  2016-12-03 12:54:56 PM         1  In Service           -73.9972   \n",
       "161  2016-12-03 12:51:54 PM         1  In Service           -73.9981   \n",
       "174  2016-12-03 12:53:39 PM         1  In Service           -73.9774   \n",
       "229  2016-12-03 12:53:21 PM         1  In Service           -73.9938   \n",
       "\n",
       "    availableDocks location  \n",
       "id                           \n",
       "128             27           \n",
       "151              7           \n",
       "161              0           \n",
       "174             25           \n",
       "229              1           "
      ]
     },
     "execution_count": 7,
     "metadata": {},
     "output_type": "execute_result"
    }
   ],
   "source": [
    "stations_df.head()"
   ]
  },
  {
   "cell_type": "code",
   "execution_count": 20,
   "metadata": {
    "collapsed": false
   },
   "outputs": [
    {
     "data": {
      "text/plain": [
       "totalDocks                                   39\n",
       "postalCode                                     \n",
       "latitude                                40.7478\n",
       "city                                           \n",
       "stationName                     E 39 St & 2 Ave\n",
       "stAddress1                      E 39 St & 2 Ave\n",
       "testStation                               False\n",
       "stAddress2                                     \n",
       "altitude                                       \n",
       "availableBikes                                1\n",
       "lastCommunicationTime    2016-12-03 12:54:17 PM\n",
       "statusKey                                     1\n",
       "statusValue                          In Service\n",
       "landMark                                       \n",
       "longitude                              -73.9734\n",
       "availableDocks                               35\n",
       "location                                       \n",
       "Name: 518, dtype: object"
      ]
     },
     "execution_count": 20,
     "metadata": {},
     "output_type": "execute_result"
    }
   ],
   "source": [
    "stations_df.loc[518, :]"
   ]
  },
  {
   "cell_type": "code",
   "execution_count": 8,
   "metadata": {
    "collapsed": true
   },
   "outputs": [],
   "source": [
    "import math\n",
    "\n",
    "def distance(station_a_id, station_b_id):\n",
    "    longitude_difference = stations_df.loc[station_a_id, 'longitude'] - stations_df.loc[station_b_id, 'longitude']\n",
    "    latitude_difference = stations_df.loc[station_a_id, 'latitude'] - stations_df.loc[station_b_id, 'latitude']\n",
    "    distance = math.sqrt(longitude_difference**2 + latitude_difference**2)\n",
    "    return distance"
   ]
  },
  {
   "cell_type": "code",
   "execution_count": 9,
   "metadata": {
    "collapsed": false
   },
   "outputs": [],
   "source": [
    "def closest_stations(station_a_id, num):\n",
    "    distances = pd.Series(data=None, index = stations_df.index)\n",
    "    for station_id in stations_df.index:\n",
    "        distances[station_id] = distance(station_a_id, station_id)\n",
    "    distances = distances.sort_values()\n",
    "    return distances.iloc[1:num+1]   "
   ]
  },
  {
   "cell_type": "code",
   "execution_count": 10,
   "metadata": {
    "collapsed": false
   },
   "outputs": [
    {
     "data": {
      "text/plain": [
       "id\n",
       "368    0.003384\n",
       "161    0.005289\n",
       "151    0.007598\n",
       "383    0.008572\n",
       "229    0.009187\n",
       "dtype: float64"
      ]
     },
     "execution_count": 10,
     "metadata": {},
     "output_type": "execute_result"
    }
   ],
   "source": [
    "closest_stations(128, 5)"
   ]
  },
  {
   "cell_type": "markdown",
   "metadata": {},
   "source": [
    "**The `project_env` package**\n",
    "\n",
    "I wrote this python package so loading and working with data is quicker and easier. There are several convenience methods:\n",
    "* `load_split_bucket(station_id)` - Load data for a bike station that's already pre-split into train, dev and test. Includes doing data cleaning and thresholding. The output is a dictionary:\n",
    "```\n",
    "  {\n",
    "    'train': (DataFrame, Series),\n",
    "    'dev': (DataFrame, Series),\n",
    "    'test': (DataFrame, Series)\n",
    "  }\n",
    "```\n",
    "  Each `(DataFrame, Series)` tuple is the feature values and target variables, respectively.\n",
    "* `merge_training(split, df)` - Given two outputs of `load()`, append the training set of the second argument to the training set of the first. This is useful when trying to load data from multiple stations, but testing on one station only.\n",
    "* `binarize(data, target)` - Given output of `load()` and either 1 or -1, binarize the target variable to 0 or 1. Whatever class is in the second argument will become '1' in the new data."
   ]
  },
  {
   "cell_type": "code",
   "execution_count": 11,
   "metadata": {
    "collapsed": false
   },
   "outputs": [
    {
     "name": "stdout",
     "output_type": "stream",
     "text": [
      "done loading\n"
     ]
    }
   ],
   "source": [
    "data = project_env.load_split_bucket(519, target='y_60m', log=False)\n",
    "print('done loading')"
   ]
  },
  {
   "cell_type": "code",
   "execution_count": 12,
   "metadata": {
    "collapsed": false
   },
   "outputs": [
    {
     "name": "stdout",
     "output_type": "stream",
     "text": [
      "22\n",
      "Index(['apparentTemperature', 'cloudCover', 'dewPoint', 'humidity',\n",
      "       'nearestStormDistance', 'ozone', 'precipIntensity', 'precipProbability',\n",
      "       'pressure', 'temperature', 'visibility', 'windBearing', 'windSpeed',\n",
      "       'num_bikes_available_scaled', 'num_bikes_disabled_scaled',\n",
      "       'num_docks_available_scaled', 'day_of_week', 'hour_of_day',\n",
      "       'is_weekend', 'traffic_0_speed_scrub', 'traffic_1_speed_scrub',\n",
      "       'traffic_2_speed_scrub'],\n",
      "      dtype='object')\n"
     ]
    }
   ],
   "source": [
    "training_X, training_y = data['train']\n",
    "\n",
    "print(len(training_X.columns))\n",
    "print(training_X.columns)\n",
    "#training_X.describe().T"
   ]
  },
  {
   "cell_type": "code",
   "execution_count": 14,
   "metadata": {
    "collapsed": false
   },
   "outputs": [],
   "source": [
    "#modified this to take a loss function and a c-parameter\n",
    "def do_logreg(split_data, squares=False, plot=True, penalty='l2', C=1e5):\n",
    "    train_X, train_y = split_data['train']\n",
    "    dev_X, dev_y = split_data['dev']\n",
    "    \n",
    "    logreg = LogisticRegression(penalty=penalty, C=C)\n",
    "    scaler = sklearn.preprocessing.StandardScaler()\n",
    "    train_X_scaled = scaler.fit_transform(train_X)\n",
    "    \n",
    "    if squares:\n",
    "        train_X_scaled = np.concatenate([\n",
    "                train_X_scaled,\n",
    "                np.square(train_X_scaled)], axis=1)\n",
    "    print('X shape:', train_X_scaled.shape)\n",
    "    \n",
    "    #print(pd.DataFrame(train_X_scaled).describe().T)\n",
    "    logreg.fit(train_X_scaled, train_y)\n",
    "\n",
    "    dev_X_scaled = scaler.transform(dev_X)\n",
    "    if squares:\n",
    "        dev_X_scaled = np.concatenate([\n",
    "                dev_X_scaled,\n",
    "                np.square(dev_X_scaled)], axis=1)\n",
    "        \n",
    "    dev_pred = logreg.predict(dev_X_scaled)\n",
    "    dev_decision = logreg.predict_proba(dev_X_scaled)[:,1]\n",
    "    acc = sklearn.metrics.accuracy_score(dev_y, dev_pred)\n",
    "    print('Evaluating on dev set of {} examples'.format(len(dev_y)))\n",
    "    print('Accuracy:', acc)\n",
    "    \n",
    "    print(sklearn.metrics.confusion_matrix(dev_y, dev_pred))\n",
    "\n",
    "    if plot:\n",
    "        plt.figure()\n",
    "        plt.plot(dev_y.as_matrix()[100:500], 'b')\n",
    "        plt.plot(dev_pred[100:500], 'g')\n",
    "        plt.plot(0.5 * (dev_y.as_matrix() - dev_pred)[100:500], 'r')\n",
    "        plt.ylim(-3, 3)\n",
    "        plt.show()\n",
    "    \n",
    "    return logreg, scaler, dev_decision"
   ]
  },
  {
   "cell_type": "code",
   "execution_count": 15,
   "metadata": {
    "collapsed": false
   },
   "outputs": [
    {
     "name": "stdout",
     "output_type": "stream",
     "text": [
      "X shape: (4236, 22)\n",
      "Evaluating on dev set of 968 examples\n",
      "Accuracy: 0.810950413223\n",
      "[[443 142]\n",
      " [ 41 342]]\n"
     ]
    },
    {
     "data": {
      "image/png": "[encoded data removed]",
      "text/plain": [
       "<matplotlib.figure.Figure at 0x1e24b6c3978>"
      ]
     },
     "metadata": {},
     "output_type": "display_data"
    }
   ],
   "source": [
    "data_empty = project_env.binarize(data, -1)\n",
    "logreg, scaler, dev_pred = do_logreg(data_empty)"
   ]
  },
  {
   "cell_type": "code",
   "execution_count": 22,
   "metadata": {
    "collapsed": false
   },
   "outputs": [
    {
     "data": {
      "text/html": [
       "<div>\n",
       "<table border=\"1\" class=\"dataframe\">\n",
       "  <thead>\n",
       "    <tr style=\"text-align: right;\">\n",
       "      <th></th>\n",
       "      <th>count</th>\n",
       "      <th>mean</th>\n",
       "      <th>std</th>\n",
       "      <th>min</th>\n",
       "      <th>25%</th>\n",
       "      <th>50%</th>\n",
       "      <th>75%</th>\n",
       "      <th>max</th>\n",
       "    </tr>\n",
       "  </thead>\n",
       "  <tbody>\n",
       "    <tr>\n",
       "      <th>apparentTemperature</th>\n",
       "      <td>3124.0</td>\n",
       "      <td>56.206869</td>\n",
       "      <td>11.252236</td>\n",
       "      <td>32.67</td>\n",
       "      <td>47.600000</td>\n",
       "      <td>55.570000</td>\n",
       "      <td>64.012500</td>\n",
       "      <td>84.620000</td>\n",
       "    </tr>\n",
       "    <tr>\n",
       "      <th>cloudCover</th>\n",
       "      <td>3124.0</td>\n",
       "      <td>0.311469</td>\n",
       "      <td>0.279410</td>\n",
       "      <td>0.00</td>\n",
       "      <td>0.090000</td>\n",
       "      <td>0.230000</td>\n",
       "      <td>0.450000</td>\n",
       "      <td>1.000000</td>\n",
       "    </tr>\n",
       "    <tr>\n",
       "      <th>dewPoint</th>\n",
       "      <td>3124.0</td>\n",
       "      <td>43.784062</td>\n",
       "      <td>12.029146</td>\n",
       "      <td>23.02</td>\n",
       "      <td>34.145000</td>\n",
       "      <td>40.620000</td>\n",
       "      <td>54.820000</td>\n",
       "      <td>68.490000</td>\n",
       "    </tr>\n",
       "    <tr>\n",
       "      <th>humidity</th>\n",
       "      <td>3124.0</td>\n",
       "      <td>0.626380</td>\n",
       "      <td>0.152359</td>\n",
       "      <td>0.28</td>\n",
       "      <td>0.500000</td>\n",
       "      <td>0.630000</td>\n",
       "      <td>0.730000</td>\n",
       "      <td>0.950000</td>\n",
       "    </tr>\n",
       "    <tr>\n",
       "      <th>nearestStormDistance</th>\n",
       "      <td>3124.0</td>\n",
       "      <td>83.956466</td>\n",
       "      <td>132.432326</td>\n",
       "      <td>0.00</td>\n",
       "      <td>8.000000</td>\n",
       "      <td>22.000000</td>\n",
       "      <td>104.000000</td>\n",
       "      <td>715.000000</td>\n",
       "    </tr>\n",
       "    <tr>\n",
       "      <th>ozone</th>\n",
       "      <td>3124.0</td>\n",
       "      <td>279.100166</td>\n",
       "      <td>14.499026</td>\n",
       "      <td>248.00</td>\n",
       "      <td>270.130000</td>\n",
       "      <td>276.190000</td>\n",
       "      <td>288.350000</td>\n",
       "      <td>315.310000</td>\n",
       "    </tr>\n",
       "    <tr>\n",
       "      <th>precipIntensity</th>\n",
       "      <td>3124.0</td>\n",
       "      <td>0.000582</td>\n",
       "      <td>0.003929</td>\n",
       "      <td>0.00</td>\n",
       "      <td>0.000000</td>\n",
       "      <td>0.000000</td>\n",
       "      <td>0.000000</td>\n",
       "      <td>0.082200</td>\n",
       "    </tr>\n",
       "    <tr>\n",
       "      <th>precipProbability</th>\n",
       "      <td>3124.0</td>\n",
       "      <td>0.029513</td>\n",
       "      <td>0.156685</td>\n",
       "      <td>0.00</td>\n",
       "      <td>0.000000</td>\n",
       "      <td>0.000000</td>\n",
       "      <td>0.000000</td>\n",
       "      <td>1.000000</td>\n",
       "    </tr>\n",
       "    <tr>\n",
       "      <th>pressure</th>\n",
       "      <td>3124.0</td>\n",
       "      <td>1016.643569</td>\n",
       "      <td>24.752692</td>\n",
       "      <td>477.88</td>\n",
       "      <td>1012.500000</td>\n",
       "      <td>1018.195000</td>\n",
       "      <td>1023.090000</td>\n",
       "      <td>1031.010000</td>\n",
       "    </tr>\n",
       "    <tr>\n",
       "      <th>temperature</th>\n",
       "      <td>3124.0</td>\n",
       "      <td>57.095464</td>\n",
       "      <td>10.118811</td>\n",
       "      <td>37.50</td>\n",
       "      <td>49.607500</td>\n",
       "      <td>55.570000</td>\n",
       "      <td>64.012500</td>\n",
       "      <td>83.620000</td>\n",
       "    </tr>\n",
       "    <tr>\n",
       "      <th>visibility</th>\n",
       "      <td>3124.0</td>\n",
       "      <td>9.528604</td>\n",
       "      <td>0.986677</td>\n",
       "      <td>2.96</td>\n",
       "      <td>9.570000</td>\n",
       "      <td>9.990000</td>\n",
       "      <td>10.000000</td>\n",
       "      <td>10.000000</td>\n",
       "    </tr>\n",
       "    <tr>\n",
       "      <th>windBearing</th>\n",
       "      <td>3124.0</td>\n",
       "      <td>243.583547</td>\n",
       "      <td>92.361770</td>\n",
       "      <td>0.00</td>\n",
       "      <td>209.000000</td>\n",
       "      <td>272.000000</td>\n",
       "      <td>311.000000</td>\n",
       "      <td>359.000000</td>\n",
       "    </tr>\n",
       "    <tr>\n",
       "      <th>windSpeed</th>\n",
       "      <td>3124.0</td>\n",
       "      <td>6.542430</td>\n",
       "      <td>3.143770</td>\n",
       "      <td>0.07</td>\n",
       "      <td>4.240000</td>\n",
       "      <td>6.090000</td>\n",
       "      <td>8.360000</td>\n",
       "      <td>16.980000</td>\n",
       "    </tr>\n",
       "    <tr>\n",
       "      <th>num_bikes_available_scaled</th>\n",
       "      <td>3124.0</td>\n",
       "      <td>0.161368</td>\n",
       "      <td>0.142599</td>\n",
       "      <td>0.00</td>\n",
       "      <td>0.049180</td>\n",
       "      <td>0.114754</td>\n",
       "      <td>0.229508</td>\n",
       "      <td>0.606557</td>\n",
       "    </tr>\n",
       "    <tr>\n",
       "      <th>num_bikes_disabled_scaled</th>\n",
       "      <td>3124.0</td>\n",
       "      <td>0.018235</td>\n",
       "      <td>0.018851</td>\n",
       "      <td>0.00</td>\n",
       "      <td>0.000000</td>\n",
       "      <td>0.016393</td>\n",
       "      <td>0.032787</td>\n",
       "      <td>0.295082</td>\n",
       "    </tr>\n",
       "    <tr>\n",
       "      <th>num_docks_available_scaled</th>\n",
       "      <td>3124.0</td>\n",
       "      <td>0.459583</td>\n",
       "      <td>0.144430</td>\n",
       "      <td>0.00</td>\n",
       "      <td>0.393443</td>\n",
       "      <td>0.508197</td>\n",
       "      <td>0.573770</td>\n",
       "      <td>0.639344</td>\n",
       "    </tr>\n",
       "    <tr>\n",
       "      <th>day_of_week</th>\n",
       "      <td>3124.0</td>\n",
       "      <td>2.666133</td>\n",
       "      <td>1.875297</td>\n",
       "      <td>0.00</td>\n",
       "      <td>1.000000</td>\n",
       "      <td>3.000000</td>\n",
       "      <td>4.000000</td>\n",
       "      <td>6.000000</td>\n",
       "    </tr>\n",
       "    <tr>\n",
       "      <th>hour_of_day</th>\n",
       "      <td>3124.0</td>\n",
       "      <td>14.102950</td>\n",
       "      <td>4.960523</td>\n",
       "      <td>0.00</td>\n",
       "      <td>9.816667</td>\n",
       "      <td>14.383333</td>\n",
       "      <td>18.100000</td>\n",
       "      <td>23.983333</td>\n",
       "    </tr>\n",
       "    <tr>\n",
       "      <th>is_weekend</th>\n",
       "      <td>3124.0</td>\n",
       "      <td>0.190141</td>\n",
       "      <td>0.392475</td>\n",
       "      <td>0.00</td>\n",
       "      <td>0.000000</td>\n",
       "      <td>0.000000</td>\n",
       "      <td>0.000000</td>\n",
       "      <td>1.000000</td>\n",
       "    </tr>\n",
       "    <tr>\n",
       "      <th>traffic_0_speed_scrub</th>\n",
       "      <td>3124.0</td>\n",
       "      <td>14.110492</td>\n",
       "      <td>8.336230</td>\n",
       "      <td>1.86</td>\n",
       "      <td>6.840000</td>\n",
       "      <td>11.810000</td>\n",
       "      <td>16.780000</td>\n",
       "      <td>34.800000</td>\n",
       "    </tr>\n",
       "    <tr>\n",
       "      <th>traffic_1_speed_scrub</th>\n",
       "      <td>3124.0</td>\n",
       "      <td>14.986858</td>\n",
       "      <td>5.439809</td>\n",
       "      <td>1.24</td>\n",
       "      <td>11.180000</td>\n",
       "      <td>14.290000</td>\n",
       "      <td>16.780000</td>\n",
       "      <td>29.830000</td>\n",
       "    </tr>\n",
       "    <tr>\n",
       "      <th>traffic_2_speed_scrub</th>\n",
       "      <td>3124.0</td>\n",
       "      <td>38.782379</td>\n",
       "      <td>9.348958</td>\n",
       "      <td>4.97</td>\n",
       "      <td>34.800000</td>\n",
       "      <td>41.010000</td>\n",
       "      <td>44.740000</td>\n",
       "      <td>172.120000</td>\n",
       "    </tr>\n",
       "  </tbody>\n",
       "</table>\n",
       "</div>"
      ],
      "text/plain": [
       "                             count         mean         std     min  \\\n",
       "apparentTemperature         3124.0    56.206869   11.252236   32.67   \n",
       "cloudCover                  3124.0     0.311469    0.279410    0.00   \n",
       "dewPoint                    3124.0    43.784062   12.029146   23.02   \n",
       "humidity                    3124.0     0.626380    0.152359    0.28   \n",
       "nearestStormDistance        3124.0    83.956466  132.432326    0.00   \n",
       "ozone                       3124.0   279.100166   14.499026  248.00   \n",
       "precipIntensity             3124.0     0.000582    0.003929    0.00   \n",
       "precipProbability           3124.0     0.029513    0.156685    0.00   \n",
       "pressure                    3124.0  1016.643569   24.752692  477.88   \n",
       "temperature                 3124.0    57.095464   10.118811   37.50   \n",
       "visibility                  3124.0     9.528604    0.986677    2.96   \n",
       "windBearing                 3124.0   243.583547   92.361770    0.00   \n",
       "windSpeed                   3124.0     6.542430    3.143770    0.07   \n",
       "num_bikes_available_scaled  3124.0     0.161368    0.142599    0.00   \n",
       "num_bikes_disabled_scaled   3124.0     0.018235    0.018851    0.00   \n",
       "num_docks_available_scaled  3124.0     0.459583    0.144430    0.00   \n",
       "day_of_week                 3124.0     2.666133    1.875297    0.00   \n",
       "hour_of_day                 3124.0    14.102950    4.960523    0.00   \n",
       "is_weekend                  3124.0     0.190141    0.392475    0.00   \n",
       "traffic_0_speed_scrub       3124.0    14.110492    8.336230    1.86   \n",
       "traffic_1_speed_scrub       3124.0    14.986858    5.439809    1.24   \n",
       "traffic_2_speed_scrub       3124.0    38.782379    9.348958    4.97   \n",
       "\n",
       "                                    25%          50%          75%          max  \n",
       "apparentTemperature           47.600000    55.570000    64.012500    84.620000  \n",
       "cloudCover                     0.090000     0.230000     0.450000     1.000000  \n",
       "dewPoint                      34.145000    40.620000    54.820000    68.490000  \n",
       "humidity                       0.500000     0.630000     0.730000     0.950000  \n",
       "nearestStormDistance           8.000000    22.000000   104.000000   715.000000  \n",
       "ozone                        270.130000   276.190000   288.350000   315.310000  \n",
       "precipIntensity                0.000000     0.000000     0.000000     0.082200  \n",
       "precipProbability              0.000000     0.000000     0.000000     1.000000  \n",
       "pressure                    1012.500000  1018.195000  1023.090000  1031.010000  \n",
       "temperature                   49.607500    55.570000    64.012500    83.620000  \n",
       "visibility                     9.570000     9.990000    10.000000    10.000000  \n",
       "windBearing                  209.000000   272.000000   311.000000   359.000000  \n",
       "windSpeed                      4.240000     6.090000     8.360000    16.980000  \n",
       "num_bikes_available_scaled     0.049180     0.114754     0.229508     0.606557  \n",
       "num_bikes_disabled_scaled      0.000000     0.016393     0.032787     0.295082  \n",
       "num_docks_available_scaled     0.393443     0.508197     0.573770     0.639344  \n",
       "day_of_week                    1.000000     3.000000     4.000000     6.000000  \n",
       "hour_of_day                    9.816667    14.383333    18.100000    23.983333  \n",
       "is_weekend                     0.000000     0.000000     0.000000     1.000000  \n",
       "traffic_0_speed_scrub          6.840000    11.810000    16.780000    34.800000  \n",
       "traffic_1_speed_scrub         11.180000    14.290000    16.780000    29.830000  \n",
       "traffic_2_speed_scrub         34.800000    41.010000    44.740000   172.120000  "
      ]
     },
     "execution_count": 22,
     "metadata": {},
     "output_type": "execute_result"
    }
   ],
   "source": [
    "# Add in data from station 518 - E 39 St & 2 Ave - capacity 39\n",
    "def read_more_data(station_id):\n",
    "    return project_env.load_split_bucket(station_id, target='y_60m')\n",
    "\n",
    "more = read_more_data(518)\n",
    "more['train'][0].describe().T"
   ]
  },
  {
   "cell_type": "code",
   "execution_count": 23,
   "metadata": {
    "collapsed": false
   },
   "outputs": [
    {
     "name": "stdout",
     "output_type": "stream",
     "text": [
      "X shape: (7360, 22)\n",
      "Evaluating on dev set of 968 examples\n",
      "Accuracy: 0.778925619835\n",
      "[[424 161]\n",
      " [ 53 330]]\n"
     ]
    },
    {
     "data": {
      "image/png": "[encoded data removed]",
      "text/plain": [
       "<matplotlib.figure.Figure at 0x1e253f20ef0>"
      ]
     },
     "metadata": {},
     "output_type": "display_data"
    }
   ],
   "source": [
    "appended = project_env.merge_training(data, more)\n",
    "appended_empty = project_env.binarize(appended, -1)\n",
    "\n",
    "a_logreg, a_scaler, a_pred = do_logreg(appended_empty)"
   ]
  },
  {
   "cell_type": "code",
   "execution_count": 26,
   "metadata": {
    "collapsed": false
   },
   "outputs": [
    {
     "data": {
      "text/plain": [
       "[472, 527, 540, 505, 507, 477, 492, 174, 491]"
      ]
     },
     "execution_count": 26,
     "metadata": {},
     "output_type": "execute_result"
    }
   ],
   "source": [
    "list(closest_stations(519, 10).index[1:10])"
   ]
  },
  {
   "cell_type": "code",
   "execution_count": 27,
   "metadata": {
    "collapsed": false
   },
   "outputs": [],
   "source": [
    "#Add more training data for closest 10 stations (already added closest station, this adds in 9 more)\n",
    "\n",
    "station_ids_to_concat = list(closest_stations(519, 10).index[1:10])\n",
    "station_ids_data = [read_more_data(sid) for sid in station_ids_to_concat]"
   ]
  },
  {
   "cell_type": "code",
   "execution_count": 28,
   "metadata": {
    "collapsed": false
   },
   "outputs": [],
   "source": [
    "app_len = len(appended['train'][0])\n",
    "more_appended = appended\n",
    "for df in station_ids_data:\n",
    "    more_appended = project_env.merge_training(more_appended, df)\n",
    "    \n",
    "assert len(appended['train'][0]) == app_len"
   ]
  },
  {
   "cell_type": "code",
   "execution_count": 29,
   "metadata": {
    "collapsed": false
   },
   "outputs": [
    {
     "name": "stdout",
     "output_type": "stream",
     "text": [
      "X shape: (36751, 22)\n",
      "Evaluating on dev set of 968 examples\n",
      "Accuracy: 0.816115702479\n",
      "[[463 122]\n",
      " [ 56 327]]\n"
     ]
    },
    {
     "data": {
      "image/png": "[encoded data removed]",
      "text/plain": [
       "<matplotlib.figure.Figure at 0x1e253fc3c50>"
      ]
     },
     "metadata": {},
     "output_type": "display_data"
    }
   ],
   "source": [
    "more_appended_empty = project_env.binarize(more_appended, -1)\n",
    "sq, scl, more_appended_pred = do_logreg(more_appended_empty)"
   ]
  },
  {
   "cell_type": "code",
   "execution_count": 30,
   "metadata": {
    "collapsed": false
   },
   "outputs": [
    {
     "name": "stdout",
     "output_type": "stream",
     "text": [
      "X shape: (4236, 44)\n",
      "Evaluating on dev set of 968 examples\n",
      "Accuracy: 0.601239669421\n",
      "[[222 363]\n",
      " [ 23 360]]\n"
     ]
    },
    {
     "data": {
      "image/png": "[encoded data removed]",
      "text/plain": [
       "<matplotlib.figure.Figure at 0x1e253fa4b70>"
      ]
     },
     "metadata": {},
     "output_type": "display_data"
    }
   ],
   "source": [
    "sq, scl, basic_pred_sq = do_logreg(data_empty, squares=True)"
   ]
  },
  {
   "cell_type": "markdown",
   "metadata": {
    "collapsed": true
   },
   "source": [
    "# Evaluation\n",
    "\n",
    "Plot the precision-recall curve for the 4 classifiers:"
   ]
  },
  {
   "cell_type": "code",
   "execution_count": 31,
   "metadata": {
    "collapsed": false
   },
   "outputs": [
    {
     "name": "stdout",
     "output_type": "stream",
     "text": [
      "Model baseline\n",
      "  Max precision: 0.528301886792 at recall 0.950391644909\n",
      "  Threshold of max precision: 0.540983606557\n",
      "Model basic\n",
      "  Max precision: 0.581469648562 at recall 0.950391644909\n",
      "  Threshold of max precision: 0.237075253857\n",
      "Model appended\n",
      "  Max precision: 0.530523255814 at recall 0.953002610966\n",
      "  Threshold of max precision: 0.121865585866\n",
      "Model more_appended\n",
      "  Max precision: 0.538461538462 at recall 0.950391644909\n",
      "  Threshold of max precision: 0.0831362448793\n",
      "Model basic_sq\n",
      "  Max precision: 0.480895915679 at recall 0.953002610966\n",
      "  Threshold of max precision: 0.387572925669\n"
     ]
    },
    {
     "data": {
      "image/png": "[encoded data removed]",
      "text/plain": [
       "<matplotlib.figure.Figure at 0x1e2550f5da0>"
      ]
     },
     "metadata": {},
     "output_type": "display_data"
    }
   ],
   "source": [
    "from sklearn.metrics import precision_recall_curve\n",
    "\n",
    "gold_labels = data_empty['dev'][1]\n",
    "\n",
    "def pr_curve(predictions, label):\n",
    "    curve = precision_recall_curve(gold_labels, predictions)\n",
    "    precision, recall, thresholds = curve\n",
    "    mp, mr, mt = project_env.max_precision_for_recall(curve)\n",
    "    print('Model', label)\n",
    "    print('  Max precision:', mp, 'at recall', mr)\n",
    "    print('  Threshold of max precision:', mt)\n",
    "    plt.plot(recall, precision, label=label)\n",
    "   \n",
    "plt.figure(figsize=(7, 7))\n",
    "pr_curve(data_empty['dev'][0]['num_docks_available_scaled'], 'baseline')\n",
    "pr_curve(dev_pred, 'basic')\n",
    "pr_curve(a_pred, 'appended')\n",
    "pr_curve(more_appended_pred, 'more_appended')\n",
    "pr_curve(basic_pred_sq, 'basic_sq')\n",
    "\n",
    "plt.xlim([0.9, 1.0])\n",
    "plt.ylim([0.4, 0.7])\n",
    "plt.axvline(x=0.95, color='k', linestyle='--')\n",
    "plt.xlabel('Recall')\n",
    "plt.ylabel('Precision')\n",
    "plt.legend(loc=\"lower left\")\n",
    "plt.title('Precision-Recall curves for ')\n",
    "plt.show()\n"
   ]
  },
  {
   "cell_type": "markdown",
   "metadata": {},
   "source": [
    "95% recall means that whenever the model tells a user to go to a station to pick up a bike at a designated time, 5% of the time, the station ends up empty (the bad case).\n",
    "\n",
    "Given a model satisfies at least 95% recall, a higher precision means fewer occasions where a model turns the user away from the station even though it has bikes available (a more efficient model). So, we want to find a model that maximizes precision given a minimum recall.\n",
    "\n",
    "In the plot above the `basic` model wins out at around 57% precision at 95% recall. So that means when the model says the station is empty, 57% of the time the station will actually be empty."
   ]
  },
  {
   "cell_type": "markdown",
   "metadata": {},
   "source": [
    "### Testing Different Target Variables"
   ]
  },
  {
   "cell_type": "code",
   "execution_count": 75,
   "metadata": {
    "collapsed": true
   },
   "outputs": [],
   "source": [
    "targets = ['y_10m','y_15m','y_30m','y_45m','y_60m','y_90m','y_120m']\n",
    "\n",
    "datasets = dict.fromkeys(targets)"
   ]
  },
  {
   "cell_type": "code",
   "execution_count": 76,
   "metadata": {
    "collapsed": false
   },
   "outputs": [],
   "source": [
    "for target in targets:\n",
    "    datasets[target] = project_env.load_split_bucket(519, target = target, log=False)"
   ]
  },
  {
   "cell_type": "code",
   "execution_count": 77,
   "metadata": {
    "collapsed": false
   },
   "outputs": [],
   "source": [
    "binarized_data_empty = dict.fromkeys(targets)\n",
    "binarized_data_full = dict.fromkeys(targets)"
   ]
  },
  {
   "cell_type": "code",
   "execution_count": 78,
   "metadata": {
    "collapsed": false
   },
   "outputs": [],
   "source": [
    "for target in targets:\n",
    "    binarized_data_empty[target] = project_env.binarize(datasets[target], -1)\n",
    "    binarized_data_full[target] = project_env.binarize(datasets[target], 1)"
   ]
  },
  {
   "cell_type": "code",
   "execution_count": 79,
   "metadata": {
    "collapsed": true
   },
   "outputs": [],
   "source": [
    "logregs_empty = dict.fromkeys(targets)\n",
    "scalers_empty = dict.fromkeys(targets)\n",
    "predictions_empty = dict.fromkeys(targets)\n",
    "logregs_full = dict.fromkeys(targets)\n",
    "scalers_full = dict.fromkeys(targets)\n",
    "predictions_full = dict.fromkeys(targets)"
   ]
  },
  {
   "cell_type": "code",
   "execution_count": 80,
   "metadata": {
    "collapsed": false
   },
   "outputs": [
    {
     "name": "stdout",
     "output_type": "stream",
     "text": [
      "X shape: (4289, 22)\n",
      "Evaluating on dev set of 1002 examples\n",
      "Accuracy: 0.89620758483\n",
      "[[546  68]\n",
      " [ 36 352]]\n"
     ]
    },
    {
     "data": {
      "image/png": "[encoded data removed]",
      "text/plain": [
       "<matplotlib.figure.Figure at 0x1e2553ab358>"
      ]
     },
     "metadata": {},
     "output_type": "display_data"
    },
    {
     "name": "stdout",
     "output_type": "stream",
     "text": [
      "X shape: (4289, 22)\n",
      "Evaluating on dev set of 1002 examples\n",
      "Accuracy: 0.957085828343\n",
      "[[953   2]\n",
      " [ 41   6]]\n"
     ]
    },
    {
     "data": {
      "image/png": "[encoded data removed]",
      "text/plain": [
       "<matplotlib.figure.Figure at 0x1e25554dd30>"
      ]
     },
     "metadata": {},
     "output_type": "display_data"
    },
    {
     "name": "stdout",
     "output_type": "stream",
     "text": [
      "X shape: (4257, 22)\n",
      "Evaluating on dev set of 993 examples\n",
      "Accuracy: 0.883182275932\n",
      "[[516  81]\n",
      " [ 35 361]]\n"
     ]
    },
    {
     "data": {
      "image/png": "[encoded data removed]",
      "text/plain": [
       "<matplotlib.figure.Figure at 0x1e253f2cb70>"
      ]
     },
     "metadata": {},
     "output_type": "display_data"
    },
    {
     "name": "stdout",
     "output_type": "stream",
     "text": [
      "X shape: (4257, 22)\n",
      "Evaluating on dev set of 993 examples\n",
      "Accuracy: 0.952668680765\n",
      "[[945   1]\n",
      " [ 46   1]]\n"
     ]
    },
    {
     "data": {
      "image/png": "[encoded data removed]",
      "text/plain": [
       "<matplotlib.figure.Figure at 0x1e253a1a320>"
      ]
     },
     "metadata": {},
     "output_type": "display_data"
    },
    {
     "name": "stdout",
     "output_type": "stream",
     "text": [
      "X shape: (4298, 22)\n",
      "Evaluating on dev set of 988 examples\n",
      "Accuracy: 0.861336032389\n",
      "[[499 102]\n",
      " [ 35 352]]\n"
     ]
    },
    {
     "data": {
      "image/png": "[encoded data removed]",
      "text/plain": [
       "<matplotlib.figure.Figure at 0x1e2550f0550>"
      ]
     },
     "metadata": {},
     "output_type": "display_data"
    },
    {
     "name": "stdout",
     "output_type": "stream",
     "text": [
      "X shape: (4298, 22)\n",
      "Evaluating on dev set of 988 examples\n",
      "Accuracy: 0.952429149798\n",
      "[[941   0]\n",
      " [ 47   0]]\n"
     ]
    },
    {
     "data": {
      "image/png": "[encoded data removed]",
      "text/plain": [
       "<matplotlib.figure.Figure at 0x1e25559ae10>"
      ]
     },
     "metadata": {},
     "output_type": "display_data"
    },
    {
     "name": "stdout",
     "output_type": "stream",
     "text": [
      "X shape: (4228, 22)\n",
      "Evaluating on dev set of 983 examples\n",
      "Accuracy: 0.840284842319\n",
      "[[481 120]\n",
      " [ 37 345]]\n"
     ]
    },
    {
     "data": {
      "image/png": "[encoded data removed]",
      "text/plain": [
       "<matplotlib.figure.Figure at 0x1e253f9b748>"
      ]
     },
     "metadata": {},
     "output_type": "display_data"
    },
    {
     "name": "stdout",
     "output_type": "stream",
     "text": [
      "X shape: (4228, 22)\n",
      "Evaluating on dev set of 983 examples\n",
      "Accuracy: 0.951169888098\n",
      "[[935   0]\n",
      " [ 48   0]]\n"
     ]
    },
    {
     "data": {
      "image/png": "[encoded data removed]",
      "text/plain": [
       "<matplotlib.figure.Figure at 0x1e25569df60>"
      ]
     },
     "metadata": {},
     "output_type": "display_data"
    },
    {
     "name": "stdout",
     "output_type": "stream",
     "text": [
      "X shape: (4236, 22)\n",
      "Evaluating on dev set of 968 examples\n",
      "Accuracy: 0.810950413223\n",
      "[[443 142]\n",
      " [ 41 342]]\n"
     ]
    },
    {
     "data": {
      "image/png": "[encoded data removed]",
      "text/plain": [
       "<matplotlib.figure.Figure at 0x1e255119b70>"
      ]
     },
     "metadata": {},
     "output_type": "display_data"
    },
    {
     "name": "stdout",
     "output_type": "stream",
     "text": [
      "X shape: (4236, 22)\n",
      "Evaluating on dev set of 968 examples\n",
      "Accuracy: 0.95041322314\n",
      "[[920   0]\n",
      " [ 48   0]]\n"
     ]
    },
    {
     "data": {
      "image/png": "[encoded data removed]",
      "text/plain": [
       "<matplotlib.figure.Figure at 0x1e2553fa5c0>"
      ]
     },
     "metadata": {},
     "output_type": "display_data"
    },
    {
     "name": "stdout",
     "output_type": "stream",
     "text": [
      "X shape: (4124, 22)\n",
      "Evaluating on dev set of 954 examples\n",
      "Accuracy: 0.781970649895\n",
      "[[418 162]\n",
      " [ 46 328]]\n"
     ]
    },
    {
     "data": {
      "image/png": "[encoded data removed]",
      "text/plain": [
       "<matplotlib.figure.Figure at 0x1e255653320>"
      ]
     },
     "metadata": {},
     "output_type": "display_data"
    },
    {
     "name": "stdout",
     "output_type": "stream",
     "text": [
      "X shape: (4124, 22)\n",
      "Evaluating on dev set of 954 examples\n",
      "Accuracy: 0.952830188679\n",
      "[[909   0]\n",
      " [ 45   0]]\n"
     ]
    },
    {
     "data": {
      "image/png": "[encoded data removed]",
      "text/plain": [
       "<matplotlib.figure.Figure at 0x1e2556b6a20>"
      ]
     },
     "metadata": {},
     "output_type": "display_data"
    },
    {
     "name": "stdout",
     "output_type": "stream",
     "text": [
      "X shape: (4040, 22)\n",
      "Evaluating on dev set of 942 examples\n",
      "Accuracy: 0.767515923567\n",
      "[[399 177]\n",
      " [ 42 324]]\n"
     ]
    },
    {
     "data": {
      "image/png": "[encoded data removed]",
      "text/plain": [
       "<matplotlib.figure.Figure at 0x1e2555a4a90>"
      ]
     },
     "metadata": {},
     "output_type": "display_data"
    },
    {
     "name": "stdout",
     "output_type": "stream",
     "text": [
      "X shape: (4040, 22)\n",
      "Evaluating on dev set of 942 examples\n",
      "Accuracy: 0.954352441614\n",
      "[[899   0]\n",
      " [ 43   0]]\n"
     ]
    },
    {
     "data": {
      "image/png": "[encoded data removed]",
      "text/plain": [
       "<matplotlib.figure.Figure at 0x1e25519ccc0>"
      ]
     },
     "metadata": {},
     "output_type": "display_data"
    }
   ],
   "source": [
    "for target in targets:\n",
    "    logregs_empty[target], scalers_empty[target], predictions_empty[target] = do_logreg(binarized_data_empty[target])\n",
    "    logregs_full[target], scalers_full[target], predictions_full[target] = do_logreg(binarized_data_full[target])"
   ]
  },
  {
   "cell_type": "markdown",
   "metadata": {},
   "source": [
    "### Evaluating Accuracy at Different Targets"
   ]
  },
  {
   "cell_type": "markdown",
   "metadata": {},
   "source": [
    "#### Empty"
   ]
  },
  {
   "cell_type": "code",
   "execution_count": 81,
   "metadata": {
    "collapsed": false
   },
   "outputs": [
    {
     "name": "stdout",
     "output_type": "stream",
     "text": [
      "Model y_10m\n",
      "  Max precision: 0.736526946108 at recall 0.951030927835\n",
      "  Threshold of max precision: 0.117250850911\n",
      "Model y_15m\n",
      "  Max precision: 0.727799227799 at recall 0.95202020202\n",
      "  Threshold of max precision: 0.166880407542\n",
      "Model y_30m\n",
      "  Max precision: 0.685288640596 at recall 0.950904392765\n",
      "  Threshold of max precision: 0.25896608677\n",
      "Model y_45m\n",
      "  Max precision: 0.641342756184 at recall 0.950261780105\n",
      "  Threshold of max precision: 0.30002509002\n",
      "Model y_60m\n",
      "  Max precision: 0.581469648562 at recall 0.950391644909\n",
      "  Threshold of max precision: 0.237075253857\n",
      "Model y_90m\n",
      "  Max precision: 0.55625 at recall 0.951871657754\n",
      "  Threshold of max precision: 0.301549750887\n",
      "Model y_120m\n",
      "  Max precision: 0.553090332805 at recall 0.953551912568\n",
      "  Threshold of max precision: 0.385048916308\n"
     ]
    },
    {
     "data": {
      "image/png": "[encoded data removed]",
      "text/plain": [
       "<matplotlib.figure.Figure at 0x1e2551965f8>"
      ]
     },
     "metadata": {},
     "output_type": "display_data"
    }
   ],
   "source": [
    "#modified pr_curve function to take \"gold_labels\" as a parameter\n",
    "def pr_curve(predictions, label, gold_labels):\n",
    "    curve = precision_recall_curve(gold_labels, predictions)\n",
    "    precision, recall, thresholds = curve\n",
    "    mp, mr, mt = project_env.max_precision_for_recall(curve)\n",
    "    print('Model', label)\n",
    "    print('  Max precision:', mp, 'at recall', mr)\n",
    "    print('  Threshold of max precision:', mt)\n",
    "    plt.plot(recall, precision, label=label)\n",
    "\n",
    "plt.figure(figsize=(7, 7))\n",
    "for target in targets:\n",
    "    pr_curve(predictions_empty[target], target, binarized_data_empty[target]['dev'][1])\n",
    "\n",
    "plt.xlim([0.9, 1.0])\n",
    "plt.ylim([0.4, 0.7])\n",
    "plt.axvline(x=0.95, color='k', linestyle='--')\n",
    "plt.xlabel('Recall')\n",
    "plt.ylabel('Precision')\n",
    "plt.legend(loc=\"lower left\")\n",
    "plt.title('Precision-Recall curves for ')\n",
    "plt.show() #the 60m one should be same as the first \"basic\", and it is"
   ]
  },
  {
   "cell_type": "markdown",
   "metadata": {},
   "source": [
    "#### Full"
   ]
  },
  {
   "cell_type": "code",
   "execution_count": 84,
   "metadata": {
    "collapsed": false
   },
   "outputs": [
    {
     "name": "stdout",
     "output_type": "stream",
     "text": [
      "Model y_10m\n",
      "  Max precision: 0.671641791045 at recall 0.957446808511\n",
      "  Threshold of max precision: 0.0846728322053\n",
      "Model y_15m\n",
      "  Max precision: 0.535714285714 at recall 0.957446808511\n",
      "  Threshold of max precision: 0.0153294654791\n",
      "Model y_30m\n",
      "  Max precision: 0.40350877193 at recall 0.978723404255\n",
      "  Threshold of max precision: 0.00591762609846\n",
      "Model y_45m\n",
      "  Max precision: 0.389830508475 at recall 0.958333333333\n",
      "  Threshold of max precision: 0.0138377878306\n",
      "Model y_60m\n",
      "  Max precision: 0.319444444444 at recall 0.958333333333\n",
      "  Threshold of max precision: 0.0084663560742\n",
      "Model y_90m\n",
      "  Max precision: 0.137380191693 at recall 0.955555555556\n",
      "  Threshold of max precision: 0.0056386496408\n",
      "Model y_120m\n",
      "  Max precision: 0.100244498778 at recall 0.953488372093\n",
      "  Threshold of max precision: 0.00371200215064\n"
     ]
    },
    {
     "data": {
      "image/png": "[encoded data removed]",
      "text/plain": [
       "<matplotlib.figure.Figure at 0x1e255626080>"
      ]
     },
     "metadata": {},
     "output_type": "display_data"
    }
   ],
   "source": [
    "plt.figure(figsize=(7, 7))\n",
    "for target in targets:\n",
    "    pr_curve(predictions_full[target], target, binarized_data_full[target]['dev'][1])\n",
    "\n",
    "plt.xlim([0.9, 1.0])\n",
    "plt.ylim([0, 0.7])\n",
    "plt.axvline(x=0.95, color='k', linestyle='--')\n",
    "plt.xlabel('Recall')\n",
    "plt.ylabel('Precision')\n",
    "plt.legend(loc=\"lower left\")\n",
    "plt.title('Precision-Recall curves for ')\n",
    "plt.show()"
   ]
  }
 ],
 "metadata": {
  "anaconda-cloud": {},
  "kernelspec": {
   "display_name": "Python [Root]",
   "language": "python",
   "name": "Python [Root]"
  },
  "language_info": {
   "codemirror_mode": {
    "name": "ipython",
    "version": 3
   },
   "file_extension": ".py",
   "mimetype": "text/x-python",
   "name": "python",
   "nbconvert_exporter": "python",
   "pygments_lexer": "ipython3",
   "version": "3.5.2"
  }
 },
 "nbformat": 4,
 "nbformat_minor": 0
}
