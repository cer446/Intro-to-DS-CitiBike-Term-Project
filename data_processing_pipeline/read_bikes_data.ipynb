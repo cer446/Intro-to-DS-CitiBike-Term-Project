{
 "cells": [
  {
   "cell_type": "markdown",
   "metadata": {},
   "source": [
    "# Reading bikes data\n",
    "\n",
    "Raw bikes data is a collection of [request outputs](https://gbfs.citibikenyc.com/gbfs/en/station_status.json) in json, compressed with gzip.\n",
    "\n",
    "Setup: Request outputs in `./data/bikes`\n",
    "\n",
    "Example file: `1476890698_bikes.json.gz`\n",
    "\n",
    "This notebook changes them into a dataframe csv `./data/bikes_{start}_{end}.csv`\n",
    "\n",
    "Example contents:"
   ]
  },
  {
   "cell_type": "code",
   "execution_count": 36,
   "metadata": {
    "collapsed": false
   },
   "outputs": [
    {
     "name": "stdout",
     "output_type": "stream",
     "text": [
      "{\n",
      "  \"ttl\": 10,\n",
      "  \"last_updated\": 1476890698,\n",
      "  \"data\": {\n",
      "    \"stations\": [\n",
      "      {\n",
      "        \"is_installed\": 1,\n",
      "        \"station_id\": \"72\",\n",
      "        \"num_bikes_disabled\": 0,\n",
      "        \"num_bikes_available\": 15,\n",
      "        \"is_renting\": 1,\n",
      "        \"num_docks_disabled\": 0,\n",
      "        \"is_returning\": 1,\n",
      "        \"eightd_has_available_keys\": false,\n",
      "        \"num_docks_available\": 24,\n",
      "        \"last_reported\": 1476890689\n",
      "      },\n",
      "      {\n",
      "        \"is_installed\": 1,\n",
      "        \"station_id\": \"79\",\n",
      "        \"num_bikes_disabled\": 5,\n",
      "        \"num_bikes_available\": 28,\n",
      "        \"is_renting\": 1,\n",
      "        \"num_docks_disabled\": 0,\n",
      "        \"is_returning\": 1,\n",
      "        \"eightd_has_available_keys\": false,\n",
      "        \"num_docks_available\": 0,\n",
      "        \"last_reported\": 1476888521\n",
      "      },\n",
      "      {\n",
      "        \"is_installed\": 1,\n",
      "        \"station_id\": \"82\",\n",
      "        \"num_bikes_disabled\": 1,\n",
      "        \"num_bikes_available\": 20,\n",
      "        \"is_renting\": 1,\n",
      "        \"num_docks_disabled\": 0,\n",
      "        \"is_returning\": 1,\n",
      "        \"eightd_has_available_keys\": false,\n",
      "        \"num_docks_available\": 6,\n",
      "        \"last_reported\": 1476889018\n",
      "      },\n",
      "      {\n",
      "        \"is_installed\": 1,\n",
      "        \"station_id\": \"83\",\n",
      "        \"num_bikes_disabled\": 1,\n",
      "        \"num_bikes_available\": 26,\n",
      "        \"is_renting\": 1,\n",
      "        \"num_docks_disabled\": 0,\n",
      "        \"is_returning\": 1,\n",
      "        \"eightd_has_available_keys\": false,\n",
      "        \"num_docks_available\": 35,\n",
      "        \"last_reported\": 1476890500\n",
      "      },\n",
      "      {\n",
      "        \"is_installed\": 1,\n",
      "        \"station_id\": \"116\",\n",
      "        \"num_bikes_disabled\": 1,\n",
      "        \"num_bikes_available\": 36,\n",
      "        \"is_renting\": 1,\n",
      "        \"num_docks_disabled\": 0,\n",
      "        \"is_returning\": 1,\n",
      "        \"eightd_has_available_keys\": false,\n",
      "        \"num_docks_available\": 2,\n",
      "        \"last_reported\": 1476890506\n",
      "      },\n",
      "      {\n",
      "        \"is_installed\": 1,\n",
      "        \"station_id\": \"119\",\n",
      "        \"num_bikes_disabled\": 0,\n",
      "        \"num_bikes_available\": 7,\n",
      "        \"is_renting\": 1,\n",
      "        \"num_docks_disabled\": 0,\n",
      "        \"is_returning\": 1,\n",
      "        \"eightd_has_available_keys\": false,\n",
      "        \"num_docks_available\": 12,\n",
      "        \"last_reported\": 1476888596\n",
      "      },\n",
      "      {\n",
      "        \"is_installed\": 1,\n",
      "        \"station_id\": \"120\",\n",
      "        \"num_bikes_disabled\": 0,\n",
      "        \"num_bikes_available\": 2,\n",
      "        \"is_renting\": 1,\n",
      "        \"num_docks_disabled\": 0,\n",
      "        \"is_returning\": 1,\n",
      "        \"eightd_has_available_keys\": false,\n",
      "        \"num_docks_available\": 17,\n",
      "        \"last_reported\": 1476890443\n",
      "      },\n",
      "      {\n",
      "        \"is_installed\": 1,\n",
      "        \"station_id\": \"127\",\n",
      "        \"num_bikes_disabled\": 1,\n",
      "        \"num_bikes_available\": 12,\n",
      "        \"is_renting\": 1,\n",
      "        \"num_docks_disabled\": 0,\n",
      "        \"is_returning\": 1,\n",
      "        \"eightd_has_available_keys\": false,\n",
      "        \"num_docks_available\": 18,\n",
      "        \"last_reported\": 1476890659\n",
      "      },\n",
      "      {\n",
      "        \"is_installed\": 1,\n",
      "        \"station_id\": \"128\",\n",
      "        \"num_bikes_disabled\": 7,\n",
      "        \"num_bikes_available\": 23,\n",
      "        \"is_renting\": 1,\n",
      "        \"num_docks_disabled\": 0,\n",
      "        \"is_returning\": 1,\n",
      "        \"eightd_has_available_keys\": false,\n",
      "        \"num_docks_available\": 0,\n",
      "        \"last_reported\": 1476890423\n",
      "      },\n",
      "      {\n",
      "        \"is_installed\": 1,\n",
      "        \"station_id\": \"137\",\n",
      "        \"num_bikes_disabled\": 0,\n",
      "        \"num_bikes_available\": 44,\n",
      "        \"is_renting\": 1,\n",
      "        \"num_docks_disabled\": 0,\n",
      "        \"is_returning\": 1,\n",
      "        \"eightd_has_available_keys\": false,\n",
      "        \"num_docks_available\": 2,\n",
      "        \"last_reported\": 1476890696\n",
      "      }\n",
      "    ]\n",
      "  }\n",
      "}\n"
     ]
    }
   ],
   "source": [
    "import json\n",
    "import gzip\n",
    "\n",
    "def file_to_json(fname):\n",
    "    with gzip.open(fname) as f:\n",
    "        js = json.loads(f.read().decode('utf-8'))\n",
    "        return js\n",
    "        \n",
    "# Return a subset of the data to understand\n",
    "test_file = 'data/bikes/1476890698_bikes.json.gz'\n",
    "test_json_full = file_to_json(test_file)\n",
    "test_json = file_to_json(test_file)\n",
    "test_json['data']['stations'] = test_json['data']['stations'][:10]\n",
    "\n",
    "print(json.dumps(test_json, indent=2))"
   ]
  },
  {
   "cell_type": "markdown",
   "metadata": {},
   "source": [
    "Get the metadata about station IDs [here](https://gbfs.citibikenyc.com/gbfs/en/station_information.json).\n",
    "\n",
    "## From JSON to DataFrame\n",
    "\n",
    "It looks like all information is available from the `['data']['stations']` subobject. Each entry has a last update timestamp, docks disabled, bikes available, and so on. Let's turn all of this to a Data Frame."
   ]
  },
  {
   "cell_type": "code",
   "execution_count": 37,
   "metadata": {
    "collapsed": false
   },
   "outputs": [
    {
     "data": {
      "text/html": [
       "<div>\n",
       "<table border=\"1\" class=\"dataframe\">\n",
       "  <thead>\n",
       "    <tr style=\"text-align: right;\">\n",
       "      <th></th>\n",
       "      <th>eightd_has_available_keys</th>\n",
       "      <th>is_installed</th>\n",
       "      <th>is_renting</th>\n",
       "      <th>is_returning</th>\n",
       "      <th>last_reported</th>\n",
       "      <th>num_bikes_available</th>\n",
       "      <th>num_bikes_disabled</th>\n",
       "      <th>num_docks_available</th>\n",
       "      <th>num_docks_disabled</th>\n",
       "      <th>station_id</th>\n",
       "    </tr>\n",
       "  </thead>\n",
       "  <tbody>\n",
       "    <tr>\n",
       "      <th>1</th>\n",
       "      <td>False</td>\n",
       "      <td>1</td>\n",
       "      <td>1</td>\n",
       "      <td>1</td>\n",
       "      <td>2016-10-19 14:48:41</td>\n",
       "      <td>28</td>\n",
       "      <td>5</td>\n",
       "      <td>0</td>\n",
       "      <td>0</td>\n",
       "      <td>79</td>\n",
       "    </tr>\n",
       "    <tr>\n",
       "      <th>5</th>\n",
       "      <td>False</td>\n",
       "      <td>1</td>\n",
       "      <td>1</td>\n",
       "      <td>1</td>\n",
       "      <td>2016-10-19 14:49:56</td>\n",
       "      <td>7</td>\n",
       "      <td>0</td>\n",
       "      <td>12</td>\n",
       "      <td>0</td>\n",
       "      <td>119</td>\n",
       "    </tr>\n",
       "    <tr>\n",
       "      <th>2</th>\n",
       "      <td>False</td>\n",
       "      <td>1</td>\n",
       "      <td>1</td>\n",
       "      <td>1</td>\n",
       "      <td>2016-10-19 14:56:58</td>\n",
       "      <td>20</td>\n",
       "      <td>1</td>\n",
       "      <td>6</td>\n",
       "      <td>0</td>\n",
       "      <td>82</td>\n",
       "    </tr>\n",
       "  </tbody>\n",
       "</table>\n",
       "</div>"
      ],
      "text/plain": [
       "  eightd_has_available_keys  is_installed  is_renting  is_returning  \\\n",
       "1                     False             1           1             1   \n",
       "5                     False             1           1             1   \n",
       "2                     False             1           1             1   \n",
       "\n",
       "        last_reported  num_bikes_available  num_bikes_disabled  \\\n",
       "1 2016-10-19 14:48:41                   28                   5   \n",
       "5 2016-10-19 14:49:56                    7                   0   \n",
       "2 2016-10-19 14:56:58                   20                   1   \n",
       "\n",
       "   num_docks_available  num_docks_disabled station_id  \n",
       "1                    0                   0         79  \n",
       "5                   12                   0        119  \n",
       "2                    6                   0         82  "
      ]
     },
     "execution_count": 37,
     "metadata": {},
     "output_type": "execute_result"
    }
   ],
   "source": [
    "import pandas as pd\n",
    "\n",
    "def json_to_df(js):\n",
    "    df = pd.DataFrame(js['data']['stations'])\n",
    "    df['last_reported'] = pd.to_datetime(df['last_reported'], unit='s')\n",
    "    df.sort_values(by=['last_reported', 'station_id'], inplace=True)\n",
    "    return df\n",
    "\n",
    "test_df = json_to_df(test_json)\n",
    "test_df[:3]"
   ]
  },
  {
   "cell_type": "code",
   "execution_count": 38,
   "metadata": {
    "collapsed": false
   },
   "outputs": [
    {
     "data": {
      "text/plain": [
       "1   2016-10-19 14:48:41\n",
       "5   2016-10-19 14:49:56\n",
       "2   2016-10-19 14:56:58\n",
       "8   2016-10-19 15:20:23\n",
       "6   2016-10-19 15:20:43\n",
       "3   2016-10-19 15:21:40\n",
       "4   2016-10-19 15:21:46\n",
       "7   2016-10-19 15:24:19\n",
       "0   2016-10-19 15:24:49\n",
       "9   2016-10-19 15:24:56\n",
       "Name: last_reported, dtype: datetime64[ns]"
      ]
     },
     "execution_count": 38,
     "metadata": {},
     "output_type": "execute_result"
    }
   ],
   "source": [
    "test_df['last_reported']"
   ]
  },
  {
   "cell_type": "markdown",
   "metadata": {},
   "source": [
    "## Bulk Conversion\n",
    "\n",
    "Okay, now that we can convert a single file to a data frame, let's convert the entire bikes subdirectory."
   ]
  },
  {
   "cell_type": "code",
   "execution_count": 39,
   "metadata": {
    "collapsed": false
   },
   "outputs": [
    {
     "data": {
      "text/plain": [
       "['1476711719_bikes.json.gz',\n",
       " '1476712198_bikes.json.gz',\n",
       " '1476712499_bikes.json.gz',\n",
       " '1476712801_bikes.json.gz',\n",
       " '1476713092_bikes.json.gz',\n",
       " '1476713394_bikes.json.gz',\n",
       " '1476713696_bikes.json.gz',\n",
       " '1476713997_bikes.json.gz',\n",
       " '1476714299_bikes.json.gz',\n",
       " '1476714601_bikes.json.gz']"
      ]
     },
     "execution_count": 39,
     "metadata": {},
     "output_type": "execute_result"
    }
   ],
   "source": [
    "from os import listdir\n",
    "from os.path import isfile, join\n",
    "\n",
    "bikes_path = 'data/bikes'\n",
    "bike_files = sorted([f for f in listdir(bikes_path) if isfile(join(bikes_path, f))])\n",
    "\n",
    "bike_files[:10]"
   ]
  },
  {
   "cell_type": "code",
   "execution_count": 40,
   "metadata": {
    "collapsed": false
   },
   "outputs": [
    {
     "name": "stdout",
     "output_type": "stream",
     "text": [
      "100 65736\n",
      "200 93531\n",
      "300 113273\n",
      "400 131412\n",
      "500 160341\n",
      "600 176704\n",
      "700 197740\n",
      "800 230008\n",
      "900 242467\n",
      "1000 266059\n",
      "1100 296659\n",
      "1200 306538\n",
      "1300 322003\n",
      "1400 346880\n",
      "1500 353709\n",
      "1600 367783\n",
      "1700 385920\n",
      "1800 390793\n",
      "1900 414119\n",
      "2000 434620\n",
      "2100 444080\n",
      "2200 469874\n",
      "2300 491727\n",
      "2400 507901\n",
      "2500 535385\n",
      "2600 545235\n",
      "2700 567398\n",
      "2800 595356\n",
      "2900 602003\n",
      "3000 618878\n",
      "3100 630133\n",
      "3200 636249\n",
      "3300 661025\n",
      "3400 683135\n",
      "3500 688075\n",
      "3600 714401\n",
      "3700 733003\n",
      "3800 739837\n",
      "3900 767748\n",
      "4000 775858\n",
      "4100 790103\n",
      "4200 815977\n",
      "4300 829541\n",
      "4400 847733\n",
      "4500 876226\n",
      "4600 887249\n",
      "4700 910240\n",
      "4800 940898\n",
      "4900 949409\n",
      "5000 974786\n",
      "5100 1003903\n",
      "5200 1010947\n",
      "5300 1038494\n",
      "5400 1064735\n",
      "5500 1070123\n",
      "5600 1096068\n",
      "5700 1117391\n",
      "5800 1122329\n",
      "5900 1147317\n",
      "6000 1164374\n",
      "6100 1173830\n",
      "6200 1197232\n",
      "6300 1217977\n",
      "6400 1231473\n",
      "6500 1258828\n",
      "6600 1277853\n",
      "6700 1293507\n",
      "6800 1312900\n",
      "6900 1324602\n",
      "7000 1342039\n"
     ]
    }
   ],
   "source": [
    "# Drop all records that have update below this timestamp \n",
    "min_timestamp = 0\n",
    "\n",
    "# Drop all records after this timestamp (exclusive).\n",
    "max_timestamp = 10e15\n",
    "\n",
    "# Read this many files\n",
    "max_files = 100000\n",
    "\n",
    "all_data = None\n",
    "i = 0\n",
    "for fname in bike_files[:max_files]:\n",
    "    i += 1\n",
    "    if i % 100 == 0:\n",
    "        print(i, len(all_data))\n",
    "        all_data = all_data.drop_duplicates(subset=['last_reported', 'station_id'])\n",
    "    frame = json_to_df(file_to_json('data/bikes/' + fname))\n",
    "    #frame = frame[frame['last_reported'] > min_timestamp]\n",
    "    if len(frame) == 0:\n",
    "        continue\n",
    "    if all_data is None:\n",
    "        all_data = frame\n",
    "    else:\n",
    "        all_data = pd.concat([all_data, frame])\n",
    "    if i % 10 == 0:\n",
    "        pre_len = len(all_data)"
   ]
  },
  {
   "cell_type": "code",
   "execution_count": 41,
   "metadata": {
    "collapsed": false
   },
   "outputs": [
    {
     "data": {
      "text/plain": [
       "1337007"
      ]
     },
     "execution_count": 41,
     "metadata": {},
     "output_type": "execute_result"
    }
   ],
   "source": [
    "len(all_data)"
   ]
  },
  {
   "cell_type": "code",
   "execution_count": 42,
   "metadata": {
    "collapsed": false
   },
   "outputs": [
    {
     "data": {
      "text/plain": [
       "1311619"
      ]
     },
     "execution_count": 42,
     "metadata": {},
     "output_type": "execute_result"
    }
   ],
   "source": [
    "len(all_data.groupby(['last_reported', 'station_id']).agg('max'))"
   ]
  },
  {
   "cell_type": "code",
   "execution_count": 43,
   "metadata": {
    "collapsed": false
   },
   "outputs": [
    {
     "data": {
      "text/plain": [
       "Timedelta('122 days 14:51:21')"
      ]
     },
     "execution_count": 43,
     "metadata": {},
     "output_type": "execute_result"
    }
   ],
   "source": [
    "max(all_data['last_reported']) - min(all_data['last_reported'])"
   ]
  },
  {
   "cell_type": "code",
   "execution_count": 44,
   "metadata": {
    "collapsed": false
   },
   "outputs": [
    {
     "data": {
      "text/plain": [
       "Timestamp('2016-11-11 05:04:57')"
      ]
     },
     "execution_count": 44,
     "metadata": {},
     "output_type": "execute_result"
    }
   ],
   "source": [
    "max(all_data['last_reported'])"
   ]
  },
  {
   "cell_type": "code",
   "execution_count": 45,
   "metadata": {
    "collapsed": false
   },
   "outputs": [],
   "source": [
    "#Deduplicate data\n",
    "dedup_data = all_data.drop_duplicates(subset=['last_reported', 'station_id'])"
   ]
  },
  {
   "cell_type": "code",
   "execution_count": 46,
   "metadata": {
    "collapsed": false
   },
   "outputs": [
    {
     "name": "stdout",
     "output_type": "stream",
     "text": [
      "1311667\n"
     ]
    }
   ],
   "source": [
    "print(len(dedup_data))\n",
    "dedup_data = dedup_data.sort_values(['last_reported', 'station_id'])\n",
    "cut_data = dedup_data[100:]"
   ]
  },
  {
   "cell_type": "code",
   "execution_count": 47,
   "metadata": {
    "collapsed": false
   },
   "outputs": [
    {
     "name": "stdout",
     "output_type": "stream",
     "text": [
      "1311567\n",
      "1476723624 1478858697\n",
      "2016-10-17 13:00:24\n",
      "2016-11-11 05:04:57\n"
     ]
    }
   ],
   "source": [
    "print(len(cut_data))\n",
    "start = min(cut_data['last_reported'])\n",
    "end = max(cut_data['last_reported'])\n",
    "start_ts = int(start.timestamp())\n",
    "end_ts = int(end.timestamp())\n",
    "print(start_ts, end_ts)\n",
    "print(start)\n",
    "print(end)"
   ]
  },
  {
   "cell_type": "code",
   "execution_count": 48,
   "metadata": {
    "collapsed": true
   },
   "outputs": [],
   "source": [
    "cut_data.to_csv('data/bikes_{}_{}.csv'.format(start_ts, end_ts), index=False)"
   ]
  },
  {
   "cell_type": "code",
   "execution_count": 49,
   "metadata": {
    "collapsed": false
   },
   "outputs": [
    {
     "data": {
      "text/html": [
       "<div>\n",
       "<table border=\"1\" class=\"dataframe\">\n",
       "  <thead>\n",
       "    <tr style=\"text-align: right;\">\n",
       "      <th></th>\n",
       "      <th>last_reported</th>\n",
       "    </tr>\n",
       "    <tr>\n",
       "      <th>station_id</th>\n",
       "      <th></th>\n",
       "    </tr>\n",
       "  </thead>\n",
       "  <tbody>\n",
       "    <tr>\n",
       "      <th>320</th>\n",
       "      <td>5284</td>\n",
       "    </tr>\n",
       "    <tr>\n",
       "      <th>3263</th>\n",
       "      <td>5226</td>\n",
       "    </tr>\n",
       "    <tr>\n",
       "      <th>519</th>\n",
       "      <td>4789</td>\n",
       "    </tr>\n",
       "    <tr>\n",
       "      <th>285</th>\n",
       "      <td>4725</td>\n",
       "    </tr>\n",
       "    <tr>\n",
       "      <th>435</th>\n",
       "      <td>4621</td>\n",
       "    </tr>\n",
       "    <tr>\n",
       "      <th>477</th>\n",
       "      <td>4548</td>\n",
       "    </tr>\n",
       "    <tr>\n",
       "      <th>490</th>\n",
       "      <td>4513</td>\n",
       "    </tr>\n",
       "    <tr>\n",
       "      <th>507</th>\n",
       "      <td>4491</td>\n",
       "    </tr>\n",
       "    <tr>\n",
       "      <th>284</th>\n",
       "      <td>4460</td>\n",
       "    </tr>\n",
       "    <tr>\n",
       "      <th>497</th>\n",
       "      <td>4456</td>\n",
       "    </tr>\n",
       "  </tbody>\n",
       "</table>\n",
       "</div>"
      ],
      "text/plain": [
       "            last_reported\n",
       "station_id               \n",
       "320                  5284\n",
       "3263                 5226\n",
       "519                  4789\n",
       "285                  4725\n",
       "435                  4621\n",
       "477                  4548\n",
       "490                  4513\n",
       "507                  4491\n",
       "284                  4460\n",
       "497                  4456"
      ]
     },
     "execution_count": 49,
     "metadata": {},
     "output_type": "execute_result"
    }
   ],
   "source": [
    "updates_per_station = cut_data[['station_id', 'last_reported']].groupby(['station_id']).agg('count')\n",
    "updates_per_station = updates_per_station.sort_values(by=['last_reported'], ascending=False)\n",
    "updates_per_station[:10]"
   ]
  },
  {
   "cell_type": "code",
   "execution_count": 50,
   "metadata": {
    "collapsed": false
   },
   "outputs": [
    {
     "name": "stdout",
     "output_type": "stream",
     "text": [
      "1311519\n"
     ]
    },
    {
     "data": {
      "image/png": "[encoded data removed]",
      "text/plain": [
       "<matplotlib.figure.Figure at 0x7f95bc816b38>"
      ]
     },
     "metadata": {},
     "output_type": "display_data"
    }
   ],
   "source": [
    "import matplotlib.pyplot as plt\n",
    "\n",
    "print(sum(updates_per_station['last_reported']))\n",
    "plt.figure()\n",
    "plt.hist(updates_per_station['last_reported'], 50)\n",
    "plt.show()"
   ]
  },
  {
   "cell_type": "code",
   "execution_count": null,
   "metadata": {
    "collapsed": true
   },
   "outputs": [],
   "source": []
  }
 ],
 "metadata": {
  "anaconda-cloud": {},
  "kernelspec": {
   "display_name": "Python [tensorflow]",
   "language": "python",
   "name": "Python [tensorflow]"
  },
  "language_info": {
   "codemirror_mode": {
    "name": "ipython",
    "version": 3
   },
   "file_extension": ".py",
   "mimetype": "text/x-python",
   "name": "python",
   "nbconvert_exporter": "python",
   "pygments_lexer": "ipython3",
   "version": "3.5.2"
  }
 },
 "nbformat": 4,
 "nbformat_minor": 0
}
