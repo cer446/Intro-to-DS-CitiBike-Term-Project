{
 "cells": [
  {
   "cell_type": "markdown",
   "metadata": {},
   "source": [
    "# Splitting by time"
   ]
  },
  {
   "cell_type": "code",
   "execution_count": 8,
   "metadata": {
    "collapsed": false
   },
   "outputs": [
    {
     "name": "stdout",
     "output_type": "stream",
     "text": [
      "Dev:  2016-11-14 00:00:00-05:00 1479099600\n",
      "Test: 2016-11-21 00:00:00-05:00 1479704400\n"
     ]
    }
   ],
   "source": [
    "import pandas as pd\n",
    "import numpy as np\n",
    "import pytz\n",
    "from datetime import datetime\n",
    "\n",
    "eastern = pytz.timezone('US/Eastern')\n",
    "dev_split = eastern.localize(datetime.strptime('Nov 14 2016 12:00AM', '%b %d %Y %I:%M%p'))\n",
    "test_split = eastern.localize(datetime.strptime('Nov 21 2016 12:00AM', '%b %d %Y %I:%M%p'))\n",
    "\n",
    "dev_ts = int(dev_split.strftime(\"%s\"))\n",
    "test_ts = int(test_split.strftime(\"%s\"))\n",
    "\n",
    "print('Dev: ', dev_split, dev_ts)\n",
    "print('Test:', test_split, test_ts)"
   ]
  },
  {
   "cell_type": "code",
   "execution_count": 7,
   "metadata": {
    "collapsed": false
   },
   "outputs": [
    {
     "name": "stdout",
     "output_type": "stream",
     "text": [
      "# files: 50\n"
     ]
    },
    {
     "data": {
      "text/plain": [
       "['128.csv',\n",
       " '151.csv',\n",
       " '161.csv',\n",
       " '174.csv',\n",
       " '229.csv',\n",
       " '284.csv',\n",
       " '285.csv',\n",
       " '297.csv',\n",
       " '3002.csv',\n",
       " '3141.csv']"
      ]
     },
     "execution_count": 7,
     "metadata": {},
     "output_type": "execute_result"
    }
   ],
   "source": [
    "from os import listdir\n",
    "from os.path import isfile, join\n",
    "\n",
    "data_path = 'per_station'\n",
    "station_files = sorted([f for f in listdir(data_path) if isfile(join(data_path, f))])\n",
    "station_files = list(filter(lambda f: 'swp' not in f, station_files))\n",
    "\n",
    "print('# files:', len(station_files))\n",
    "station_files[:10]"
   ]
  },
  {
   "cell_type": "code",
   "execution_count": 12,
   "metadata": {
    "collapsed": false
   },
   "outputs": [
    {
     "name": "stdout",
     "output_type": "stream",
     "text": [
      "128.csv 4476 1056 932\n",
      "151.csv 4892 1136 1072\n",
      "161.csv 4517 1056 964\n",
      "174.csv 4386 1046 849\n",
      "229.csv 4606 1053 1027\n",
      "284.csv 4923 1136 1147\n",
      "285.csv 5244 1277 1310\n",
      "297.csv 4508 1075 959\n",
      "3002.csv 4333 1031 915\n",
      "3141.csv 4409 1078 1043\n",
      "320.csv 5894 1402 1531\n",
      "3255.csv 4948 1207 1065\n",
      "3263.csv 5808 1385 1344\n",
      "368.csv 4745 1167 1132\n",
      "379.csv 4469 1095 981\n",
      "382.csv 4548 1065 973\n",
      "383.csv 4365 975 868\n",
      "402.csv 4781 1089 1122\n",
      "426.csv 4614 1035 1000\n",
      "432.csv 4537 1082 976\n",
      "435.csv 5130 1267 1278\n",
      "442.csv 4385 1009 939\n",
      "444.csv 4439 1009 1004\n",
      "446.csv 4696 1104 1081\n",
      "450.csv 4298 1008 938\n",
      "457.csv 4309 977 1045\n",
      "459.csv 4232 0 890 Zero!\n",
      "461.csv 4440 1024 925\n",
      "470.csv 4498 1047 1042\n",
      "472.csv 4445 1006 954\n",
      "477.csv 5041 1224 1090\n",
      "479.csv 4414 1082 991\n",
      "482.csv 4469 1017 1018\n",
      "483.csv 4635 1200 1006\n",
      "490.csv 4966 1163 1135\n",
      "491.csv 4655 1152 1032\n",
      "492.csv 4454 1143 1056\n",
      "494.csv 4494 1072 989\n",
      "497.csv 4928 1218 1194\n",
      "504.csv 4593 1164 1103\n",
      "505.csv 4454 1067 824\n",
      "507.csv 4989 1228 1212\n",
      "509.csv 4431 1234 1213\n",
      "511.csv 4359 1045 911\n",
      "518.csv 4481 1017 1001\n",
      "519.csv 5309 1256 1299\n",
      "523.csv 4362 1057 1045\n",
      "527.csv 4556 1118 1107\n",
      "531.csv 4405 1020 932\n",
      "540.csv 4433 1020 946\n"
     ]
    }
   ],
   "source": [
    "for station_file in station_files:\n",
    "    t_frame = pd.read_csv('per_station/' + station_file)\n",
    "    t_train = t_frame['last_reported'] < dev_ts\n",
    "    t_dev = (t_frame['last_reported'] >= dev_ts) & (t_frame['last_reported'] < test_ts)\n",
    "    t_test = t_frame['last_reported'] >= test_ts\n",
    "    \n",
    "    assert sum(t_train) + sum(t_dev) + sum(t_test) == len(t_frame)\n",
    "    \n",
    "    train_frame = t_frame[t_train]\n",
    "    dev_frame = t_frame[t_dev]\n",
    "    test_frame = t_frame[t_test]\n",
    "    \n",
    "    if len(train_frame) == 0 or len(dev_frame) == 0 or len(test_frame) == 0:\n",
    "        print(station_file, len(train_frame), len(dev_frame), len(test_frame), 'Zero!')\n",
    "        continue\n",
    "        \n",
    "    print(station_file, len(train_frame), len(dev_frame), len(test_frame))\n",
    "    \n",
    "    train_frame.to_csv('per_station_train/' + station_file)\n",
    "    dev_frame.to_csv('per_station_dev/' + station_file)\n",
    "    test_frame.to_csv('per_station_test/' + station_file)"
   ]
  },
  {
   "cell_type": "code",
   "execution_count": null,
   "metadata": {
    "collapsed": true
   },
   "outputs": [],
   "source": []
  }
 ],
 "metadata": {
  "kernelspec": {
   "display_name": "Python [tf-mac]",
   "language": "python",
   "name": "Python [tf-mac]"
  },
  "language_info": {
   "codemirror_mode": {
    "name": "ipython",
    "version": 3
   },
   "file_extension": ".py",
   "mimetype": "text/x-python",
   "name": "python",
   "nbconvert_exporter": "python",
   "pygments_lexer": "ipython3",
   "version": "3.5.2"
  }
 },
 "nbformat": 4,
 "nbformat_minor": 0
}
